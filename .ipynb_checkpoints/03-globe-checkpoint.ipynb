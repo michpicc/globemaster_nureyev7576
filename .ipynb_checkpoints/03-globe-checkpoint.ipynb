{
 "cells": [
  {
   "cell_type": "markdown",
   "metadata": {},
   "source": [
    "# Dunham's Data"
   ]
  },
  {
   "cell_type": "markdown",
   "metadata": {},
   "source": [
    "## Setting up"
   ]
  },
  {
   "cell_type": "code",
   "execution_count": 101,
   "metadata": {},
   "outputs": [],
   "source": [
    "import math\n",
    "\n",
    "import pandas as pd\n",
    "import seaborn as sns"
   ]
  },
  {
   "cell_type": "code",
   "execution_count": 102,
   "metadata": {},
   "outputs": [],
   "source": [
    "# pd.set_option('display.max_rows', 999)"
   ]
  },
  {
   "cell_type": "code",
   "execution_count": 103,
   "metadata": {},
   "outputs": [],
   "source": [
    "# sns.set()"
   ]
  },
  {
   "cell_type": "code",
   "execution_count": 104,
   "metadata": {},
   "outputs": [],
   "source": [
    "# %matplotlib inline"
   ]
  },
  {
   "cell_type": "markdown",
   "metadata": {},
   "source": [
    "## Loading data"
   ]
  },
  {
   "cell_type": "code",
   "execution_count": 105,
   "metadata": {},
   "outputs": [],
   "source": [
    "itinerary_df = pd.read_csv('data/out/itinerary_1955-92.csv')\n",
    "itinerary_df.fillna('', inplace=True)"
   ]
  },
  {
   "cell_type": "code",
   "execution_count": 106,
   "metadata": {},
   "outputs": [
    {
     "data": {
      "text/plain": [
       "(6, 10)"
      ]
     },
     "execution_count": 106,
     "metadata": {},
     "output_type": "execute_result"
    }
   ],
   "source": [
    "itinerary_df.shape"
   ]
  },
  {
   "cell_type": "code",
   "execution_count": 107,
   "metadata": {
    "scrolled": false
   },
   "outputs": [
    {
     "data": {
      "text/html": [
       "<div>\n",
       "<style scoped>\n",
       "    .dataframe tbody tr th:only-of-type {\n",
       "        vertical-align: middle;\n",
       "    }\n",
       "\n",
       "    .dataframe tbody tr th {\n",
       "        vertical-align: top;\n",
       "    }\n",
       "\n",
       "    .dataframe thead th {\n",
       "        text-align: right;\n",
       "    }\n",
       "</style>\n",
       "<table border=\"1\" class=\"dataframe\">\n",
       "  <thead>\n",
       "    <tr style=\"text-align: right;\">\n",
       "      <th></th>\n",
       "      <th>START_DATE</th>\n",
       "      <th>END_DATE</th>\n",
       "      <th>CITY</th>\n",
       "      <th>COUNTRY</th>\n",
       "      <th>N_ROWS</th>\n",
       "      <th>LAST_MOMENT</th>\n",
       "      <th>MIN_NIGHTS</th>\n",
       "      <th>MAX_NIGHTS</th>\n",
       "      <th>LATITUDE</th>\n",
       "      <th>LONGITUDE</th>\n",
       "    </tr>\n",
       "  </thead>\n",
       "  <tbody>\n",
       "    <tr>\n",
       "      <th>0</th>\n",
       "      <td>1950-03-14</td>\n",
       "      <td>1947-04-07</td>\n",
       "      <td>New York City</td>\n",
       "      <td>USA</td>\n",
       "      <td>2</td>\n",
       "      <td>Probably that night</td>\n",
       "      <td>1</td>\n",
       "      <td>2</td>\n",
       "      <td>40.712700</td>\n",
       "      <td>-74.005900</td>\n",
       "    </tr>\n",
       "    <tr>\n",
       "      <th>1</th>\n",
       "      <td>1947-06-28</td>\n",
       "      <td>1947-09-01</td>\n",
       "      <td>Mexico City</td>\n",
       "      <td>Mexico</td>\n",
       "      <td>5</td>\n",
       "      <td>Probably that night</td>\n",
       "      <td>4</td>\n",
       "      <td>5</td>\n",
       "      <td>19.433333</td>\n",
       "      <td>-99.133333</td>\n",
       "    </tr>\n",
       "    <tr>\n",
       "      <th>2</th>\n",
       "      <td>1947-12-29</td>\n",
       "      <td>1947-12-29</td>\n",
       "      <td>San Diego</td>\n",
       "      <td>USA</td>\n",
       "      <td>1</td>\n",
       "      <td>Probably that night</td>\n",
       "      <td>0</td>\n",
       "      <td>1</td>\n",
       "      <td>32.715000</td>\n",
       "      <td>-117.162500</td>\n",
       "    </tr>\n",
       "    <tr>\n",
       "      <th>3</th>\n",
       "      <td>1948-01-02</td>\n",
       "      <td>1948-01-02</td>\n",
       "      <td>Stockton, CA</td>\n",
       "      <td>USA</td>\n",
       "      <td>1</td>\n",
       "      <td>Probably that night</td>\n",
       "      <td>0</td>\n",
       "      <td>1</td>\n",
       "      <td>37.975556</td>\n",
       "      <td>-121.300833</td>\n",
       "    </tr>\n",
       "    <tr>\n",
       "      <th>4</th>\n",
       "      <td>1948-01-04</td>\n",
       "      <td>1948-01-04</td>\n",
       "      <td>San Francisco</td>\n",
       "      <td>USA</td>\n",
       "      <td>1</td>\n",
       "      <td>Probably that night</td>\n",
       "      <td>0</td>\n",
       "      <td>1</td>\n",
       "      <td>37.783333</td>\n",
       "      <td>-122.416667</td>\n",
       "    </tr>\n",
       "    <tr>\n",
       "      <th>5</th>\n",
       "      <td>1949-02-06</td>\n",
       "      <td>1949-02-06</td>\n",
       "      <td>Rome</td>\n",
       "      <td>Italy</td>\n",
       "      <td>1</td>\n",
       "      <td>Probably that night</td>\n",
       "      <td>0</td>\n",
       "      <td>1</td>\n",
       "      <td>41.902782</td>\n",
       "      <td>12.496366</td>\n",
       "    </tr>\n",
       "  </tbody>\n",
       "</table>\n",
       "</div>"
      ],
      "text/plain": [
       "   START_DATE    END_DATE           CITY COUNTRY  N_ROWS          LAST_MOMENT  \\\n",
       "0  1950-03-14  1947-04-07  New York City     USA       2  Probably that night   \n",
       "1  1947-06-28  1947-09-01    Mexico City  Mexico       5  Probably that night   \n",
       "2  1947-12-29  1947-12-29      San Diego     USA       1  Probably that night   \n",
       "3  1948-01-02  1948-01-02   Stockton, CA     USA       1  Probably that night   \n",
       "4  1948-01-04  1948-01-04  San Francisco     USA       1  Probably that night   \n",
       "5  1949-02-06  1949-02-06           Rome   Italy       1  Probably that night   \n",
       "\n",
       "   MIN_NIGHTS  MAX_NIGHTS   LATITUDE   LONGITUDE  \n",
       "0           1           2  40.712700  -74.005900  \n",
       "1           4           5  19.433333  -99.133333  \n",
       "2           0           1  32.715000 -117.162500  \n",
       "3           0           1  37.975556 -121.300833  \n",
       "4           0           1  37.783333 -122.416667  \n",
       "5           0           1  41.902782   12.496366  "
      ]
     },
     "execution_count": 107,
     "metadata": {},
     "output_type": "execute_result"
    }
   ],
   "source": [
    "itinerary_df"
   ]
  },
  {
   "cell_type": "markdown",
   "metadata": {},
   "source": [
    "## Pre-processing data"
   ]
  },
  {
   "cell_type": "code",
   "execution_count": 108,
   "metadata": {},
   "outputs": [
    {
     "data": {
      "text/html": [
       "<div>\n",
       "<style scoped>\n",
       "    .dataframe tbody tr th:only-of-type {\n",
       "        vertical-align: middle;\n",
       "    }\n",
       "\n",
       "    .dataframe tbody tr th {\n",
       "        vertical-align: top;\n",
       "    }\n",
       "\n",
       "    .dataframe thead th {\n",
       "        text-align: right;\n",
       "    }\n",
       "</style>\n",
       "<table border=\"1\" class=\"dataframe\">\n",
       "  <thead>\n",
       "    <tr style=\"text-align: right;\">\n",
       "      <th></th>\n",
       "      <th>START_DATE</th>\n",
       "      <th>END_DATE</th>\n",
       "      <th>CITY</th>\n",
       "      <th>COUNTRY</th>\n",
       "      <th>N_ROWS</th>\n",
       "      <th>LAST_MOMENT</th>\n",
       "      <th>MIN_NIGHTS</th>\n",
       "      <th>MAX_NIGHTS</th>\n",
       "      <th>LATITUDE</th>\n",
       "      <th>LONGITUDE</th>\n",
       "    </tr>\n",
       "  </thead>\n",
       "  <tbody>\n",
       "    <tr>\n",
       "      <th>1</th>\n",
       "      <td>1947-06-28</td>\n",
       "      <td>1947-09-01</td>\n",
       "      <td>Mexico City</td>\n",
       "      <td>Mexico</td>\n",
       "      <td>5</td>\n",
       "      <td>Probably that night</td>\n",
       "      <td>4</td>\n",
       "      <td>5</td>\n",
       "      <td>19.433333</td>\n",
       "      <td>-99.133333</td>\n",
       "    </tr>\n",
       "    <tr>\n",
       "      <th>2</th>\n",
       "      <td>1947-12-29</td>\n",
       "      <td>1947-12-29</td>\n",
       "      <td>San Diego</td>\n",
       "      <td>USA</td>\n",
       "      <td>1</td>\n",
       "      <td>Probably that night</td>\n",
       "      <td>0</td>\n",
       "      <td>1</td>\n",
       "      <td>32.715000</td>\n",
       "      <td>-117.162500</td>\n",
       "    </tr>\n",
       "    <tr>\n",
       "      <th>3</th>\n",
       "      <td>1948-01-02</td>\n",
       "      <td>1948-01-02</td>\n",
       "      <td>Stockton, CA</td>\n",
       "      <td>USA</td>\n",
       "      <td>1</td>\n",
       "      <td>Probably that night</td>\n",
       "      <td>0</td>\n",
       "      <td>1</td>\n",
       "      <td>37.975556</td>\n",
       "      <td>-121.300833</td>\n",
       "    </tr>\n",
       "    <tr>\n",
       "      <th>4</th>\n",
       "      <td>1948-01-04</td>\n",
       "      <td>1948-01-04</td>\n",
       "      <td>San Francisco</td>\n",
       "      <td>USA</td>\n",
       "      <td>1</td>\n",
       "      <td>Probably that night</td>\n",
       "      <td>0</td>\n",
       "      <td>1</td>\n",
       "      <td>37.783333</td>\n",
       "      <td>-122.416667</td>\n",
       "    </tr>\n",
       "    <tr>\n",
       "      <th>5</th>\n",
       "      <td>1949-02-06</td>\n",
       "      <td>1949-02-06</td>\n",
       "      <td>Rome</td>\n",
       "      <td>Italy</td>\n",
       "      <td>1</td>\n",
       "      <td>Probably that night</td>\n",
       "      <td>0</td>\n",
       "      <td>1</td>\n",
       "      <td>41.902782</td>\n",
       "      <td>12.496366</td>\n",
       "    </tr>\n",
       "  </tbody>\n",
       "</table>\n",
       "</div>"
      ],
      "text/plain": [
       "   START_DATE    END_DATE           CITY COUNTRY  N_ROWS          LAST_MOMENT  \\\n",
       "1  1947-06-28  1947-09-01    Mexico City  Mexico       5  Probably that night   \n",
       "2  1947-12-29  1947-12-29      San Diego     USA       1  Probably that night   \n",
       "3  1948-01-02  1948-01-02   Stockton, CA     USA       1  Probably that night   \n",
       "4  1948-01-04  1948-01-04  San Francisco     USA       1  Probably that night   \n",
       "5  1949-02-06  1949-02-06           Rome   Italy       1  Probably that night   \n",
       "\n",
       "   MIN_NIGHTS  MAX_NIGHTS   LATITUDE   LONGITUDE  \n",
       "1           4           5  19.433333  -99.133333  \n",
       "2           0           1  32.715000 -117.162500  \n",
       "3           0           1  37.975556 -121.300833  \n",
       "4           0           1  37.783333 -122.416667  \n",
       "5           0           1  41.902782   12.496366  "
      ]
     },
     "execution_count": 108,
     "metadata": {},
     "output_type": "execute_result"
    }
   ],
   "source": [
    "itinerary_df = itinerary_df[pd.to_datetime(itinerary_df.START_DATE) < '1961'].copy()\n",
    "itinerary_df.tail()"
   ]
  },
  {
   "cell_type": "code",
   "execution_count": 109,
   "metadata": {},
   "outputs": [],
   "source": [
    "first_date = pd.to_datetime(itinerary_df.START_DATE.iloc[0].split('-')[0])\n",
    "last_date = pd.to_datetime(itinerary_df.END_DATE.iloc[-1])\n",
    "total_days = (last_date - first_date).days + 1"
   ]
  },
  {
   "cell_type": "code",
   "execution_count": 110,
   "metadata": {},
   "outputs": [
    {
     "data": {
      "text/plain": [
       "-328"
      ]
     },
     "execution_count": 110,
     "metadata": {},
     "output_type": "execute_result"
    }
   ],
   "source": [
    "total_days"
   ]
  },
  {
   "cell_type": "code",
   "execution_count": 111,
   "metadata": {},
   "outputs": [],
   "source": [
    "itinerary_df['GROUP'] = 0\n",
    "group = 1\n",
    "itinerary_df.loc[0, 'GROUP'] = group\n",
    "for i, row in itinerary_df[1:].iterrows():\n",
    "    prev_row = itinerary_df.loc[i-1]\n",
    "    prev_row_end_date = pd.to_datetime(prev_row['END_DATE'])\n",
    "    curr_row_start_date = pd.to_datetime(row['START_DATE'])\n",
    "    n_days = (curr_row_start_date - prev_row_end_date).days\n",
    "    if n_days == 0:\n",
    "        print('ERROR')\n",
    "    elif n_days <= 7:\n",
    "        pass\n",
    "    else: # n_days > 7\n",
    "        group += 1\n",
    "    itinerary_df.loc[i, 'GROUP'] = group"
   ]
  },
  {
   "cell_type": "code",
   "execution_count": 112,
   "metadata": {},
   "outputs": [
    {
     "data": {
      "text/html": [
       "<div>\n",
       "<style scoped>\n",
       "    .dataframe tbody tr th:only-of-type {\n",
       "        vertical-align: middle;\n",
       "    }\n",
       "\n",
       "    .dataframe tbody tr th {\n",
       "        vertical-align: top;\n",
       "    }\n",
       "\n",
       "    .dataframe thead th {\n",
       "        text-align: right;\n",
       "    }\n",
       "</style>\n",
       "<table border=\"1\" class=\"dataframe\">\n",
       "  <thead>\n",
       "    <tr style=\"text-align: right;\">\n",
       "      <th></th>\n",
       "      <th>START_DATE</th>\n",
       "      <th>END_DATE</th>\n",
       "      <th>CITY</th>\n",
       "      <th>COUNTRY</th>\n",
       "      <th>N_ROWS</th>\n",
       "      <th>LAST_MOMENT</th>\n",
       "      <th>MIN_NIGHTS</th>\n",
       "      <th>MAX_NIGHTS</th>\n",
       "      <th>LATITUDE</th>\n",
       "      <th>LONGITUDE</th>\n",
       "      <th>GROUP</th>\n",
       "    </tr>\n",
       "  </thead>\n",
       "  <tbody>\n",
       "    <tr>\n",
       "      <th>0</th>\n",
       "      <td>1950-03-14</td>\n",
       "      <td>1947-04-07</td>\n",
       "      <td>New York City</td>\n",
       "      <td>USA</td>\n",
       "      <td>2</td>\n",
       "      <td>Probably that night</td>\n",
       "      <td>1</td>\n",
       "      <td>2</td>\n",
       "      <td>40.712700</td>\n",
       "      <td>-74.005900</td>\n",
       "      <td>1</td>\n",
       "    </tr>\n",
       "    <tr>\n",
       "      <th>1</th>\n",
       "      <td>1947-06-28</td>\n",
       "      <td>1947-09-01</td>\n",
       "      <td>Mexico City</td>\n",
       "      <td>Mexico</td>\n",
       "      <td>5</td>\n",
       "      <td>Probably that night</td>\n",
       "      <td>4</td>\n",
       "      <td>5</td>\n",
       "      <td>19.433333</td>\n",
       "      <td>-99.133333</td>\n",
       "      <td>2</td>\n",
       "    </tr>\n",
       "    <tr>\n",
       "      <th>2</th>\n",
       "      <td>1947-12-29</td>\n",
       "      <td>1947-12-29</td>\n",
       "      <td>San Diego</td>\n",
       "      <td>USA</td>\n",
       "      <td>1</td>\n",
       "      <td>Probably that night</td>\n",
       "      <td>0</td>\n",
       "      <td>1</td>\n",
       "      <td>32.715000</td>\n",
       "      <td>-117.162500</td>\n",
       "      <td>3</td>\n",
       "    </tr>\n",
       "    <tr>\n",
       "      <th>3</th>\n",
       "      <td>1948-01-02</td>\n",
       "      <td>1948-01-02</td>\n",
       "      <td>Stockton, CA</td>\n",
       "      <td>USA</td>\n",
       "      <td>1</td>\n",
       "      <td>Probably that night</td>\n",
       "      <td>0</td>\n",
       "      <td>1</td>\n",
       "      <td>37.975556</td>\n",
       "      <td>-121.300833</td>\n",
       "      <td>3</td>\n",
       "    </tr>\n",
       "    <tr>\n",
       "      <th>4</th>\n",
       "      <td>1948-01-04</td>\n",
       "      <td>1948-01-04</td>\n",
       "      <td>San Francisco</td>\n",
       "      <td>USA</td>\n",
       "      <td>1</td>\n",
       "      <td>Probably that night</td>\n",
       "      <td>0</td>\n",
       "      <td>1</td>\n",
       "      <td>37.783333</td>\n",
       "      <td>-122.416667</td>\n",
       "      <td>3</td>\n",
       "    </tr>\n",
       "  </tbody>\n",
       "</table>\n",
       "</div>"
      ],
      "text/plain": [
       "   START_DATE    END_DATE           CITY COUNTRY  N_ROWS          LAST_MOMENT  \\\n",
       "0  1950-03-14  1947-04-07  New York City     USA       2  Probably that night   \n",
       "1  1947-06-28  1947-09-01    Mexico City  Mexico       5  Probably that night   \n",
       "2  1947-12-29  1947-12-29      San Diego     USA       1  Probably that night   \n",
       "3  1948-01-02  1948-01-02   Stockton, CA     USA       1  Probably that night   \n",
       "4  1948-01-04  1948-01-04  San Francisco     USA       1  Probably that night   \n",
       "\n",
       "   MIN_NIGHTS  MAX_NIGHTS   LATITUDE   LONGITUDE  GROUP  \n",
       "0           1           2  40.712700  -74.005900      1  \n",
       "1           4           5  19.433333  -99.133333      2  \n",
       "2           0           1  32.715000 -117.162500      3  \n",
       "3           0           1  37.975556 -121.300833      3  \n",
       "4           0           1  37.783333 -122.416667      3  "
      ]
     },
     "execution_count": 112,
     "metadata": {},
     "output_type": "execute_result"
    }
   ],
   "source": [
    "itinerary_df.head()"
   ]
  },
  {
   "cell_type": "code",
   "execution_count": 113,
   "metadata": {},
   "outputs": [
    {
     "data": {
      "text/html": [
       "<div>\n",
       "<style scoped>\n",
       "    .dataframe tbody tr th:only-of-type {\n",
       "        vertical-align: middle;\n",
       "    }\n",
       "\n",
       "    .dataframe tbody tr th {\n",
       "        vertical-align: top;\n",
       "    }\n",
       "\n",
       "    .dataframe thead th {\n",
       "        text-align: right;\n",
       "    }\n",
       "</style>\n",
       "<table border=\"1\" class=\"dataframe\">\n",
       "  <thead>\n",
       "    <tr style=\"text-align: right;\">\n",
       "      <th></th>\n",
       "      <th>START_DATE</th>\n",
       "      <th>END_DATE</th>\n",
       "      <th>CITY</th>\n",
       "      <th>COUNTRY</th>\n",
       "      <th>N_ROWS</th>\n",
       "      <th>LAST_MOMENT</th>\n",
       "      <th>MIN_NIGHTS</th>\n",
       "      <th>MAX_NIGHTS</th>\n",
       "      <th>LATITUDE</th>\n",
       "      <th>LONGITUDE</th>\n",
       "      <th>GROUP</th>\n",
       "    </tr>\n",
       "  </thead>\n",
       "  <tbody>\n",
       "    <tr>\n",
       "      <th>1</th>\n",
       "      <td>1947-06-28</td>\n",
       "      <td>1947-09-01</td>\n",
       "      <td>Mexico City</td>\n",
       "      <td>Mexico</td>\n",
       "      <td>5</td>\n",
       "      <td>Probably that night</td>\n",
       "      <td>4</td>\n",
       "      <td>5</td>\n",
       "      <td>19.433333</td>\n",
       "      <td>-99.133333</td>\n",
       "      <td>2</td>\n",
       "    </tr>\n",
       "    <tr>\n",
       "      <th>2</th>\n",
       "      <td>1947-12-29</td>\n",
       "      <td>1947-12-29</td>\n",
       "      <td>San Diego</td>\n",
       "      <td>USA</td>\n",
       "      <td>1</td>\n",
       "      <td>Probably that night</td>\n",
       "      <td>0</td>\n",
       "      <td>1</td>\n",
       "      <td>32.715000</td>\n",
       "      <td>-117.162500</td>\n",
       "      <td>3</td>\n",
       "    </tr>\n",
       "    <tr>\n",
       "      <th>3</th>\n",
       "      <td>1948-01-02</td>\n",
       "      <td>1948-01-02</td>\n",
       "      <td>Stockton, CA</td>\n",
       "      <td>USA</td>\n",
       "      <td>1</td>\n",
       "      <td>Probably that night</td>\n",
       "      <td>0</td>\n",
       "      <td>1</td>\n",
       "      <td>37.975556</td>\n",
       "      <td>-121.300833</td>\n",
       "      <td>3</td>\n",
       "    </tr>\n",
       "    <tr>\n",
       "      <th>4</th>\n",
       "      <td>1948-01-04</td>\n",
       "      <td>1948-01-04</td>\n",
       "      <td>San Francisco</td>\n",
       "      <td>USA</td>\n",
       "      <td>1</td>\n",
       "      <td>Probably that night</td>\n",
       "      <td>0</td>\n",
       "      <td>1</td>\n",
       "      <td>37.783333</td>\n",
       "      <td>-122.416667</td>\n",
       "      <td>3</td>\n",
       "    </tr>\n",
       "    <tr>\n",
       "      <th>5</th>\n",
       "      <td>1949-02-06</td>\n",
       "      <td>1949-02-06</td>\n",
       "      <td>Rome</td>\n",
       "      <td>Italy</td>\n",
       "      <td>1</td>\n",
       "      <td>Probably that night</td>\n",
       "      <td>0</td>\n",
       "      <td>1</td>\n",
       "      <td>41.902782</td>\n",
       "      <td>12.496366</td>\n",
       "      <td>4</td>\n",
       "    </tr>\n",
       "  </tbody>\n",
       "</table>\n",
       "</div>"
      ],
      "text/plain": [
       "   START_DATE    END_DATE           CITY COUNTRY  N_ROWS          LAST_MOMENT  \\\n",
       "1  1947-06-28  1947-09-01    Mexico City  Mexico       5  Probably that night   \n",
       "2  1947-12-29  1947-12-29      San Diego     USA       1  Probably that night   \n",
       "3  1948-01-02  1948-01-02   Stockton, CA     USA       1  Probably that night   \n",
       "4  1948-01-04  1948-01-04  San Francisco     USA       1  Probably that night   \n",
       "5  1949-02-06  1949-02-06           Rome   Italy       1  Probably that night   \n",
       "\n",
       "   MIN_NIGHTS  MAX_NIGHTS   LATITUDE   LONGITUDE  GROUP  \n",
       "1           4           5  19.433333  -99.133333      2  \n",
       "2           0           1  32.715000 -117.162500      3  \n",
       "3           0           1  37.975556 -121.300833      3  \n",
       "4           0           1  37.783333 -122.416667      3  \n",
       "5           0           1  41.902782   12.496366      4  "
      ]
     },
     "execution_count": 113,
     "metadata": {},
     "output_type": "execute_result"
    }
   ],
   "source": [
    "itinerary_df.tail()"
   ]
  },
  {
   "cell_type": "code",
   "execution_count": 114,
   "metadata": {},
   "outputs": [],
   "source": [
    "aux_df = itinerary_df.drop_duplicates('CITY', keep='last') \\\n",
    "    [['CITY', 'LATITUDE', 'LONGITUDE', 'GROUP', 'END_DATE']]"
   ]
  },
  {
   "cell_type": "code",
   "execution_count": 115,
   "metadata": {},
   "outputs": [
    {
     "data": {
      "text/html": [
       "<div>\n",
       "<style scoped>\n",
       "    .dataframe tbody tr th:only-of-type {\n",
       "        vertical-align: middle;\n",
       "    }\n",
       "\n",
       "    .dataframe tbody tr th {\n",
       "        vertical-align: top;\n",
       "    }\n",
       "\n",
       "    .dataframe thead th {\n",
       "        text-align: right;\n",
       "    }\n",
       "</style>\n",
       "<table border=\"1\" class=\"dataframe\">\n",
       "  <thead>\n",
       "    <tr style=\"text-align: right;\">\n",
       "      <th></th>\n",
       "      <th>CITY</th>\n",
       "      <th>LATITUDE</th>\n",
       "      <th>LONGITUDE</th>\n",
       "      <th>GROUP</th>\n",
       "      <th>END_DATE</th>\n",
       "    </tr>\n",
       "  </thead>\n",
       "  <tbody>\n",
       "    <tr>\n",
       "      <th>0</th>\n",
       "      <td>New York City</td>\n",
       "      <td>40.712700</td>\n",
       "      <td>-74.005900</td>\n",
       "      <td>1</td>\n",
       "      <td>1947-04-07</td>\n",
       "    </tr>\n",
       "    <tr>\n",
       "      <th>1</th>\n",
       "      <td>Mexico City</td>\n",
       "      <td>19.433333</td>\n",
       "      <td>-99.133333</td>\n",
       "      <td>2</td>\n",
       "      <td>1947-09-01</td>\n",
       "    </tr>\n",
       "    <tr>\n",
       "      <th>2</th>\n",
       "      <td>San Diego</td>\n",
       "      <td>32.715000</td>\n",
       "      <td>-117.162500</td>\n",
       "      <td>3</td>\n",
       "      <td>1947-12-29</td>\n",
       "    </tr>\n",
       "    <tr>\n",
       "      <th>3</th>\n",
       "      <td>Stockton, CA</td>\n",
       "      <td>37.975556</td>\n",
       "      <td>-121.300833</td>\n",
       "      <td>3</td>\n",
       "      <td>1948-01-02</td>\n",
       "    </tr>\n",
       "    <tr>\n",
       "      <th>4</th>\n",
       "      <td>San Francisco</td>\n",
       "      <td>37.783333</td>\n",
       "      <td>-122.416667</td>\n",
       "      <td>3</td>\n",
       "      <td>1948-01-04</td>\n",
       "    </tr>\n",
       "  </tbody>\n",
       "</table>\n",
       "</div>"
      ],
      "text/plain": [
       "            CITY   LATITUDE   LONGITUDE  GROUP    END_DATE\n",
       "0  New York City  40.712700  -74.005900      1  1947-04-07\n",
       "1    Mexico City  19.433333  -99.133333      2  1947-09-01\n",
       "2      San Diego  32.715000 -117.162500      3  1947-12-29\n",
       "3   Stockton, CA  37.975556 -121.300833      3  1948-01-02\n",
       "4  San Francisco  37.783333 -122.416667      3  1948-01-04"
      ]
     },
     "execution_count": 115,
     "metadata": {},
     "output_type": "execute_result"
    }
   ],
   "source": [
    "aux_df.head()"
   ]
  },
  {
   "cell_type": "markdown",
   "metadata": {},
   "source": [
    "## Processing data"
   ]
  },
  {
   "cell_type": "code",
   "execution_count": 116,
   "metadata": {},
   "outputs": [],
   "source": [
    "def next_year(d_str):\n",
    "    return pd.to_datetime('{}-01-01'.format(int(d_str.split('-')[0]) + 1))\n",
    "\n",
    "def altitud_year(d):\n",
    "    return (d - first_date).days# + 1"
   ]
  },
  {
   "cell_type": "code",
   "execution_count": 117,
   "metadata": {},
   "outputs": [],
   "source": [
    "points_df = aux_df[['LATITUDE', 'LONGITUDE', 'CITY']].copy()\n",
    "# points_df['ALTITUDE'] = aux_df['END_DATE'].apply(lambda x: altitud_year(next_year(x)))\n",
    "points_df['ALTITUDE'] = aux_df['END_DATE'].apply(lambda x: altitud_year(pd.to_datetime(x)))"
   ]
  },
  {
   "cell_type": "code",
   "execution_count": 118,
   "metadata": {},
   "outputs": [
    {
     "data": {
      "text/plain": [
       "(6, 4)"
      ]
     },
     "execution_count": 118,
     "metadata": {},
     "output_type": "execute_result"
    }
   ],
   "source": [
    "points_df.shape"
   ]
  },
  {
   "cell_type": "code",
   "execution_count": 119,
   "metadata": {},
   "outputs": [
    {
     "data": {
      "text/html": [
       "<div>\n",
       "<style scoped>\n",
       "    .dataframe tbody tr th:only-of-type {\n",
       "        vertical-align: middle;\n",
       "    }\n",
       "\n",
       "    .dataframe tbody tr th {\n",
       "        vertical-align: top;\n",
       "    }\n",
       "\n",
       "    .dataframe thead th {\n",
       "        text-align: right;\n",
       "    }\n",
       "</style>\n",
       "<table border=\"1\" class=\"dataframe\">\n",
       "  <thead>\n",
       "    <tr style=\"text-align: right;\">\n",
       "      <th></th>\n",
       "      <th>LATITUDE</th>\n",
       "      <th>LONGITUDE</th>\n",
       "      <th>CITY</th>\n",
       "      <th>ALTITUDE</th>\n",
       "    </tr>\n",
       "  </thead>\n",
       "  <tbody>\n",
       "    <tr>\n",
       "      <th>0</th>\n",
       "      <td>40.712700</td>\n",
       "      <td>-74.005900</td>\n",
       "      <td>New York City</td>\n",
       "      <td>-1000</td>\n",
       "    </tr>\n",
       "    <tr>\n",
       "      <th>1</th>\n",
       "      <td>19.433333</td>\n",
       "      <td>-99.133333</td>\n",
       "      <td>Mexico City</td>\n",
       "      <td>-853</td>\n",
       "    </tr>\n",
       "    <tr>\n",
       "      <th>2</th>\n",
       "      <td>32.715000</td>\n",
       "      <td>-117.162500</td>\n",
       "      <td>San Diego</td>\n",
       "      <td>-734</td>\n",
       "    </tr>\n",
       "    <tr>\n",
       "      <th>3</th>\n",
       "      <td>37.975556</td>\n",
       "      <td>-121.300833</td>\n",
       "      <td>Stockton, CA</td>\n",
       "      <td>-730</td>\n",
       "    </tr>\n",
       "    <tr>\n",
       "      <th>4</th>\n",
       "      <td>37.783333</td>\n",
       "      <td>-122.416667</td>\n",
       "      <td>San Francisco</td>\n",
       "      <td>-728</td>\n",
       "    </tr>\n",
       "  </tbody>\n",
       "</table>\n",
       "</div>"
      ],
      "text/plain": [
       "    LATITUDE   LONGITUDE           CITY  ALTITUDE\n",
       "0  40.712700  -74.005900  New York City     -1000\n",
       "1  19.433333  -99.133333    Mexico City      -853\n",
       "2  32.715000 -117.162500      San Diego      -734\n",
       "3  37.975556 -121.300833   Stockton, CA      -730\n",
       "4  37.783333 -122.416667  San Francisco      -728"
      ]
     },
     "execution_count": 119,
     "metadata": {},
     "output_type": "execute_result"
    }
   ],
   "source": [
    "points_df.head()"
   ]
  },
  {
   "cell_type": "code",
   "execution_count": 120,
   "metadata": {},
   "outputs": [],
   "source": [
    "cities_df = aux_df[['CITY', 'LATITUDE', 'LONGITUDE']].copy()\n",
    "cities_df.columns = ['TEXT', 'LATITUDE', 'LONGITUDE']\n",
    "cities_df['ALTITUDE'] = 0\n",
    "cities_df['TYPE'] = 'city'"
   ]
  },
  {
   "cell_type": "code",
   "execution_count": 121,
   "metadata": {},
   "outputs": [
    {
     "data": {
      "text/plain": [
       "(6, 5)"
      ]
     },
     "execution_count": 121,
     "metadata": {},
     "output_type": "execute_result"
    }
   ],
   "source": [
    "cities_df.shape"
   ]
  },
  {
   "cell_type": "code",
   "execution_count": 122,
   "metadata": {},
   "outputs": [
    {
     "data": {
      "text/html": [
       "<div>\n",
       "<style scoped>\n",
       "    .dataframe tbody tr th:only-of-type {\n",
       "        vertical-align: middle;\n",
       "    }\n",
       "\n",
       "    .dataframe tbody tr th {\n",
       "        vertical-align: top;\n",
       "    }\n",
       "\n",
       "    .dataframe thead th {\n",
       "        text-align: right;\n",
       "    }\n",
       "</style>\n",
       "<table border=\"1\" class=\"dataframe\">\n",
       "  <thead>\n",
       "    <tr style=\"text-align: right;\">\n",
       "      <th></th>\n",
       "      <th>TEXT</th>\n",
       "      <th>LATITUDE</th>\n",
       "      <th>LONGITUDE</th>\n",
       "      <th>ALTITUDE</th>\n",
       "      <th>TYPE</th>\n",
       "    </tr>\n",
       "  </thead>\n",
       "  <tbody>\n",
       "    <tr>\n",
       "      <th>0</th>\n",
       "      <td>New York City</td>\n",
       "      <td>40.712700</td>\n",
       "      <td>-74.005900</td>\n",
       "      <td>0</td>\n",
       "      <td>city</td>\n",
       "    </tr>\n",
       "    <tr>\n",
       "      <th>1</th>\n",
       "      <td>Mexico City</td>\n",
       "      <td>19.433333</td>\n",
       "      <td>-99.133333</td>\n",
       "      <td>0</td>\n",
       "      <td>city</td>\n",
       "    </tr>\n",
       "    <tr>\n",
       "      <th>2</th>\n",
       "      <td>San Diego</td>\n",
       "      <td>32.715000</td>\n",
       "      <td>-117.162500</td>\n",
       "      <td>0</td>\n",
       "      <td>city</td>\n",
       "    </tr>\n",
       "    <tr>\n",
       "      <th>3</th>\n",
       "      <td>Stockton, CA</td>\n",
       "      <td>37.975556</td>\n",
       "      <td>-121.300833</td>\n",
       "      <td>0</td>\n",
       "      <td>city</td>\n",
       "    </tr>\n",
       "    <tr>\n",
       "      <th>4</th>\n",
       "      <td>San Francisco</td>\n",
       "      <td>37.783333</td>\n",
       "      <td>-122.416667</td>\n",
       "      <td>0</td>\n",
       "      <td>city</td>\n",
       "    </tr>\n",
       "  </tbody>\n",
       "</table>\n",
       "</div>"
      ],
      "text/plain": [
       "            TEXT   LATITUDE   LONGITUDE  ALTITUDE  TYPE\n",
       "0  New York City  40.712700  -74.005900         0  city\n",
       "1    Mexico City  19.433333  -99.133333         0  city\n",
       "2      San Diego  32.715000 -117.162500         0  city\n",
       "3   Stockton, CA  37.975556 -121.300833         0  city\n",
       "4  San Francisco  37.783333 -122.416667         0  city"
      ]
     },
     "execution_count": 122,
     "metadata": {},
     "output_type": "execute_result"
    }
   ],
   "source": [
    "cities_df.head()"
   ]
  },
  {
   "cell_type": "code",
   "execution_count": 123,
   "metadata": {},
   "outputs": [],
   "source": [
    "years_df = pd.DataFrame(columns=['TEXT', 'LATITUDE', 'LONGITUDE', 'ALTITUDE', 'TYPE'])\n",
    "for i, row in aux_df.iterrows():\n",
    "    end_date = aux_df.loc[i, 'END_DATE']\n",
    "    next_year_date = next_year(end_date)\n",
    "#     print(aux_df.loc[i, 'CITY'], end_date)\n",
    "#     print(pd.date_range(first_date, next_year_date, freq='YS'))\n",
    "    for d in pd.date_range(first_date, next_year_date, freq='YS'):\n",
    "        years_df.loc[len(years_df)] = [str(d.year), row['LATITUDE'], row['LONGITUDE'], altitud_year(d), 'year']"
   ]
  },
  {
   "cell_type": "code",
   "execution_count": 124,
   "metadata": {},
   "outputs": [
    {
     "data": {
      "text/plain": [
       "(1, 5)"
      ]
     },
     "execution_count": 124,
     "metadata": {},
     "output_type": "execute_result"
    }
   ],
   "source": [
    "years_df.shape"
   ]
  },
  {
   "cell_type": "code",
   "execution_count": 125,
   "metadata": {},
   "outputs": [
    {
     "data": {
      "text/html": [
       "<div>\n",
       "<style scoped>\n",
       "    .dataframe tbody tr th:only-of-type {\n",
       "        vertical-align: middle;\n",
       "    }\n",
       "\n",
       "    .dataframe tbody tr th {\n",
       "        vertical-align: top;\n",
       "    }\n",
       "\n",
       "    .dataframe thead th {\n",
       "        text-align: right;\n",
       "    }\n",
       "</style>\n",
       "<table border=\"1\" class=\"dataframe\">\n",
       "  <thead>\n",
       "    <tr style=\"text-align: right;\">\n",
       "      <th></th>\n",
       "      <th>TEXT</th>\n",
       "      <th>LATITUDE</th>\n",
       "      <th>LONGITUDE</th>\n",
       "      <th>ALTITUDE</th>\n",
       "      <th>TYPE</th>\n",
       "    </tr>\n",
       "  </thead>\n",
       "  <tbody>\n",
       "    <tr>\n",
       "      <th>0</th>\n",
       "      <td>1950</td>\n",
       "      <td>41.902782</td>\n",
       "      <td>12.496366</td>\n",
       "      <td>0</td>\n",
       "      <td>year</td>\n",
       "    </tr>\n",
       "  </tbody>\n",
       "</table>\n",
       "</div>"
      ],
      "text/plain": [
       "   TEXT   LATITUDE  LONGITUDE  ALTITUDE  TYPE\n",
       "0  1950  41.902782  12.496366         0  year"
      ]
     },
     "execution_count": 125,
     "metadata": {},
     "output_type": "execute_result"
    }
   ],
   "source": [
    "years_df.head(10)"
   ]
  },
  {
   "cell_type": "code",
   "execution_count": 126,
   "metadata": {},
   "outputs": [],
   "source": [
    "labels_df = pd.concat([cities_df, years_df], ignore_index=True)"
   ]
  },
  {
   "cell_type": "code",
   "execution_count": 127,
   "metadata": {},
   "outputs": [
    {
     "data": {
      "text/plain": [
       "(7, 5)"
      ]
     },
     "execution_count": 127,
     "metadata": {},
     "output_type": "execute_result"
    }
   ],
   "source": [
    "labels_df.shape"
   ]
  },
  {
   "cell_type": "code",
   "execution_count": 128,
   "metadata": {},
   "outputs": [],
   "source": [
    "def format_date(date_str):\n",
    "    return pd.to_datetime(date_str).strftime('%b %d, %Y').replace(' 0', ' ')\n",
    "\n",
    "paths_df = pd.DataFrame(columns=['LATITUDE', 'LONGITUDE', 'ALTITUDE', 'GROUP', 'CITY', 'DATE'])\n",
    "for i, row in itinerary_df.iterrows():\n",
    "    paths_df.loc[i*2, 'LATITUDE'] = row['LATITUDE']\n",
    "    paths_df.loc[i*2, 'LONGITUDE'] = row['LONGITUDE']\n",
    "    paths_df.loc[i*2, 'ALTITUDE'] =  (pd.to_datetime(row['START_DATE']) - first_date).days\n",
    "    paths_df.loc[i*2, 'GROUP'] = row['GROUP']\n",
    "    paths_df.loc[i*2, 'CITY'] = row['CITY']\n",
    "    paths_df.loc[i*2, 'DATE'] = format_date(row['START_DATE'])\n",
    "    paths_df.loc[i*2+1, 'LATITUDE'] = paths_df.loc[i*2, 'LATITUDE']\n",
    "    paths_df.loc[i*2+1, 'LONGITUDE'] = paths_df.loc[i*2, 'LONGITUDE']\n",
    "    paths_df.loc[i*2+1, 'ALTITUDE'] =  (pd.to_datetime(row['END_DATE']) - first_date).days\n",
    "#     paths_df.loc[i*2+1, 'ALTITUDE'] =  paths_df.loc[i*2, 'ALTITUDE'] + row['MAX_NIGHTS']\n",
    "    paths_df.loc[i*2+1, 'GROUP'] = paths_df.loc[i*2, 'GROUP']\n",
    "    paths_df.loc[i*2+1, 'CITY'] = paths_df.loc[i*2, 'CITY']\n",
    "    paths_df.loc[i*2+1, 'DATE'] = format_date(row['END_DATE'])\n",
    "# paths_df['COLOR'] = paths_df['GROUP'].apply(rgb01Hex)"
   ]
  },
  {
   "cell_type": "code",
   "execution_count": 129,
   "metadata": {},
   "outputs": [
    {
     "data": {
      "text/plain": [
       "(12, 6)"
      ]
     },
     "execution_count": 129,
     "metadata": {},
     "output_type": "execute_result"
    }
   ],
   "source": [
    "paths_df.shape"
   ]
  },
  {
   "cell_type": "code",
   "execution_count": 130,
   "metadata": {},
   "outputs": [
    {
     "data": {
      "text/html": [
       "<div>\n",
       "<style scoped>\n",
       "    .dataframe tbody tr th:only-of-type {\n",
       "        vertical-align: middle;\n",
       "    }\n",
       "\n",
       "    .dataframe tbody tr th {\n",
       "        vertical-align: top;\n",
       "    }\n",
       "\n",
       "    .dataframe thead th {\n",
       "        text-align: right;\n",
       "    }\n",
       "</style>\n",
       "<table border=\"1\" class=\"dataframe\">\n",
       "  <thead>\n",
       "    <tr style=\"text-align: right;\">\n",
       "      <th></th>\n",
       "      <th>LATITUDE</th>\n",
       "      <th>LONGITUDE</th>\n",
       "      <th>ALTITUDE</th>\n",
       "      <th>GROUP</th>\n",
       "      <th>CITY</th>\n",
       "      <th>DATE</th>\n",
       "    </tr>\n",
       "  </thead>\n",
       "  <tbody>\n",
       "    <tr>\n",
       "      <th>0</th>\n",
       "      <td>40.7127</td>\n",
       "      <td>-74.0059</td>\n",
       "      <td>72</td>\n",
       "      <td>1</td>\n",
       "      <td>New York City</td>\n",
       "      <td>Mar 14, 1950</td>\n",
       "    </tr>\n",
       "    <tr>\n",
       "      <th>1</th>\n",
       "      <td>40.7127</td>\n",
       "      <td>-74.0059</td>\n",
       "      <td>-1000</td>\n",
       "      <td>1</td>\n",
       "      <td>New York City</td>\n",
       "      <td>Apr 7, 1947</td>\n",
       "    </tr>\n",
       "    <tr>\n",
       "      <th>2</th>\n",
       "      <td>19.433333</td>\n",
       "      <td>-99.133333</td>\n",
       "      <td>-918</td>\n",
       "      <td>2</td>\n",
       "      <td>Mexico City</td>\n",
       "      <td>Jun 28, 1947</td>\n",
       "    </tr>\n",
       "    <tr>\n",
       "      <th>3</th>\n",
       "      <td>19.433333</td>\n",
       "      <td>-99.133333</td>\n",
       "      <td>-853</td>\n",
       "      <td>2</td>\n",
       "      <td>Mexico City</td>\n",
       "      <td>Sep 1, 1947</td>\n",
       "    </tr>\n",
       "    <tr>\n",
       "      <th>4</th>\n",
       "      <td>32.715</td>\n",
       "      <td>-117.1625</td>\n",
       "      <td>-734</td>\n",
       "      <td>3</td>\n",
       "      <td>San Diego</td>\n",
       "      <td>Dec 29, 1947</td>\n",
       "    </tr>\n",
       "  </tbody>\n",
       "</table>\n",
       "</div>"
      ],
      "text/plain": [
       "    LATITUDE  LONGITUDE ALTITUDE GROUP           CITY          DATE\n",
       "0    40.7127   -74.0059       72     1  New York City  Mar 14, 1950\n",
       "1    40.7127   -74.0059    -1000     1  New York City   Apr 7, 1947\n",
       "2  19.433333 -99.133333     -918     2    Mexico City  Jun 28, 1947\n",
       "3  19.433333 -99.133333     -853     2    Mexico City   Sep 1, 1947\n",
       "4     32.715  -117.1625     -734     3      San Diego  Dec 29, 1947"
      ]
     },
     "execution_count": 130,
     "metadata": {},
     "output_type": "execute_result"
    }
   ],
   "source": [
    "paths_df.head()"
   ]
  },
  {
   "cell_type": "code",
   "execution_count": 131,
   "metadata": {},
   "outputs": [
    {
     "data": {
      "text/html": [
       "<div>\n",
       "<style scoped>\n",
       "    .dataframe tbody tr th:only-of-type {\n",
       "        vertical-align: middle;\n",
       "    }\n",
       "\n",
       "    .dataframe tbody tr th {\n",
       "        vertical-align: top;\n",
       "    }\n",
       "\n",
       "    .dataframe thead th {\n",
       "        text-align: right;\n",
       "    }\n",
       "</style>\n",
       "<table border=\"1\" class=\"dataframe\">\n",
       "  <thead>\n",
       "    <tr style=\"text-align: right;\">\n",
       "      <th></th>\n",
       "      <th>LATITUDE</th>\n",
       "      <th>LONGITUDE</th>\n",
       "      <th>ALTITUDE</th>\n",
       "      <th>GROUP</th>\n",
       "      <th>CITY</th>\n",
       "      <th>DATE</th>\n",
       "    </tr>\n",
       "  </thead>\n",
       "  <tbody>\n",
       "    <tr>\n",
       "      <th>7</th>\n",
       "      <td>37.975556</td>\n",
       "      <td>-121.300833</td>\n",
       "      <td>-730</td>\n",
       "      <td>3</td>\n",
       "      <td>Stockton, CA</td>\n",
       "      <td>Jan 2, 1948</td>\n",
       "    </tr>\n",
       "    <tr>\n",
       "      <th>8</th>\n",
       "      <td>37.783333</td>\n",
       "      <td>-122.416667</td>\n",
       "      <td>-728</td>\n",
       "      <td>3</td>\n",
       "      <td>San Francisco</td>\n",
       "      <td>Jan 4, 1948</td>\n",
       "    </tr>\n",
       "    <tr>\n",
       "      <th>9</th>\n",
       "      <td>37.783333</td>\n",
       "      <td>-122.416667</td>\n",
       "      <td>-728</td>\n",
       "      <td>3</td>\n",
       "      <td>San Francisco</td>\n",
       "      <td>Jan 4, 1948</td>\n",
       "    </tr>\n",
       "    <tr>\n",
       "      <th>10</th>\n",
       "      <td>41.902782</td>\n",
       "      <td>12.496366</td>\n",
       "      <td>-329</td>\n",
       "      <td>4</td>\n",
       "      <td>Rome</td>\n",
       "      <td>Feb 6, 1949</td>\n",
       "    </tr>\n",
       "    <tr>\n",
       "      <th>11</th>\n",
       "      <td>41.902782</td>\n",
       "      <td>12.496366</td>\n",
       "      <td>-329</td>\n",
       "      <td>4</td>\n",
       "      <td>Rome</td>\n",
       "      <td>Feb 6, 1949</td>\n",
       "    </tr>\n",
       "  </tbody>\n",
       "</table>\n",
       "</div>"
      ],
      "text/plain": [
       "     LATITUDE   LONGITUDE ALTITUDE GROUP           CITY         DATE\n",
       "7   37.975556 -121.300833     -730     3   Stockton, CA  Jan 2, 1948\n",
       "8   37.783333 -122.416667     -728     3  San Francisco  Jan 4, 1948\n",
       "9   37.783333 -122.416667     -728     3  San Francisco  Jan 4, 1948\n",
       "10  41.902782   12.496366     -329     4           Rome  Feb 6, 1949\n",
       "11  41.902782   12.496366     -329     4           Rome  Feb 6, 1949"
      ]
     },
     "execution_count": 131,
     "metadata": {},
     "output_type": "execute_result"
    }
   ],
   "source": [
    "paths_df.tail()"
   ]
  },
  {
   "cell_type": "code",
   "execution_count": 132,
   "metadata": {},
   "outputs": [],
   "source": [
    "total_lines = len(paths_df) - 1"
   ]
  },
  {
   "cell_type": "code",
   "execution_count": 133,
   "metadata": {},
   "outputs": [
    {
     "data": {
      "text/plain": [
       "11"
      ]
     },
     "execution_count": 133,
     "metadata": {},
     "output_type": "execute_result"
    }
   ],
   "source": [
    "total_lines"
   ]
  },
  {
   "cell_type": "code",
   "execution_count": 134,
   "metadata": {},
   "outputs": [],
   "source": [
    "N = 300"
   ]
  },
  {
   "cell_type": "code",
   "execution_count": 135,
   "metadata": {},
   "outputs": [
    {
     "data": {
      "image/png": "[encoded data removed]",
      "text/plain": [
       "<Figure size 300x100 with 1 Axes>"
      ]
     },
     "metadata": {},
     "output_type": "display_data"
    }
   ],
   "source": [
    "# Color 1\n",
    "palette1 = sns.color_palette('YlOrRd', n_colors=total_lines+N*2)[N:-N]\n",
    "# sns.palplot(palette1)\n",
    "sns.palplot([palette1[0], palette1[len(palette1)//2], palette1[-1]])"
   ]
  },
  {
   "cell_type": "code",
   "execution_count": 136,
   "metadata": {},
   "outputs": [
    {
     "data": {
      "image/png": "[encoded data removed]",
      "text/plain": [
       "<Figure size 300x100 with 1 Axes>"
      ]
     },
     "metadata": {},
     "output_type": "display_data"
    }
   ],
   "source": [
    "# Color 1R\n",
    "palette1r = sns.color_palette('YlOrRd', n_colors=total_lines+N*2)[-N:N:-1]\n",
    "# sns.palplot(palette1)\n",
    "sns.palplot([palette1[0], palette1[len(palette1)//2], palette1[-1]])"
   ]
  },
  {
   "cell_type": "code",
   "execution_count": 137,
   "metadata": {},
   "outputs": [
    {
     "data": {
      "image/png": "[encoded data removed]",
      "text/plain": [
       "<Figure size 300x100 with 1 Axes>"
      ]
     },
     "metadata": {},
     "output_type": "display_data"
    }
   ],
   "source": [
    "# Color 2\n",
    "palette2 = sns.color_palette('Blues', n_colors=total_lines+N*2)[N:-N]\n",
    "# sns.palplot(palette2)\n",
    "sns.palplot([palette2[0], palette2[len(palette2)//2], palette2[-1]])"
   ]
  },
  {
   "cell_type": "code",
   "execution_count": 138,
   "metadata": {},
   "outputs": [
    {
     "data": {
      "image/png": "[encoded data removed]",
      "text/plain": [
       "<Figure size 300x100 with 1 Axes>"
      ]
     },
     "metadata": {},
     "output_type": "display_data"
    }
   ],
   "source": [
    "# Color 3\n",
    "palette3 = sns.color_palette('BuPu', n_colors=total_lines+N*2)[N:-N]\n",
    "# sns.palplot(palette3)\n",
    "sns.palplot([palette3[0], palette3[len(palette3)//2], palette3[-1]])"
   ]
  },
  {
   "cell_type": "code",
   "execution_count": 139,
   "metadata": {},
   "outputs": [
    {
     "data": {
      "image/png": "[encoded data removed]",
      "text/plain": [
       "<Figure size 300x100 with 1 Axes>"
      ]
     },
     "metadata": {},
     "output_type": "display_data"
    }
   ],
   "source": [
    "# Color 4\n",
    "palette4 = sns.color_palette('GnBu', n_colors=total_lines+N*2)[N:-N]\n",
    "# sns.palplot(palette4)\n",
    "sns.palplot([palette4[0], palette4[len(palette4)//2], palette4[-1]])"
   ]
  },
  {
   "cell_type": "code",
   "execution_count": 140,
   "metadata": {},
   "outputs": [],
   "source": [
    "def rgb01Hex(n, palette):\n",
    "    c = palette[n]\n",
    "    r = int(round(c[0] * 255))\n",
    "    g = int(round(c[1] * 255))\n",
    "    b = int(round(c[2] * 255))\n",
    "    h = '#%02x%02x%02x' % (r, g, b)\n",
    "    return h"
   ]
  },
  {
   "cell_type": "code",
   "execution_count": 141,
   "metadata": {},
   "outputs": [],
   "source": [
    "path_colors_df = pd.DataFrame(columns=[\n",
    "    'CITY1', 'CITY2', 'HEXCODE1', 'HEXCODE1R', 'HEXCODE2', 'HEXCODE3', 'HEXCODE4',\n",
    "])\n",
    "prev_g = paths_df.GROUP[0]\n",
    "for curr_g in paths_df.GROUP[1:]:\n",
    "    i = len(path_colors_df)\n",
    "    if curr_g == prev_g:\n",
    "        path_colors_df.loc[i] = [\n",
    "            paths_df.loc[i, 'CITY'],\n",
    "            paths_df.loc[i+1, 'CITY'],\n",
    "            rgb01Hex(i, palette1),\n",
    "            rgb01Hex(i, palette1r),\n",
    "            rgb01Hex(i, palette2),\n",
    "            rgb01Hex(i, palette3),\n",
    "            rgb01Hex(i, palette4),\n",
    "        ]\n",
    "    else:\n",
    "        path_colors_df.loc[i] = [\n",
    "            paths_df.loc[i, 'CITY'],\n",
    "            paths_df.loc[i+1, 'CITY'],\n",
    "            'grey', 'grey', 'grey', 'grey', 'grey',\n",
    "        ]\n",
    "    prev_g = curr_g"
   ]
  },
  {
   "cell_type": "code",
   "execution_count": 142,
   "metadata": {},
   "outputs": [
    {
     "data": {
      "text/plain": [
       "(11, 7)"
      ]
     },
     "execution_count": 142,
     "metadata": {},
     "output_type": "execute_result"
    }
   ],
   "source": [
    "path_colors_df.shape"
   ]
  },
  {
   "cell_type": "code",
   "execution_count": 143,
   "metadata": {
    "scrolled": false
   },
   "outputs": [
    {
     "data": {
      "text/html": [
       "<div>\n",
       "<style scoped>\n",
       "    .dataframe tbody tr th:only-of-type {\n",
       "        vertical-align: middle;\n",
       "    }\n",
       "\n",
       "    .dataframe tbody tr th {\n",
       "        vertical-align: top;\n",
       "    }\n",
       "\n",
       "    .dataframe thead th {\n",
       "        text-align: right;\n",
       "    }\n",
       "</style>\n",
       "<table border=\"1\" class=\"dataframe\">\n",
       "  <thead>\n",
       "    <tr style=\"text-align: right;\">\n",
       "      <th></th>\n",
       "      <th>CITY1</th>\n",
       "      <th>CITY2</th>\n",
       "      <th>HEXCODE1</th>\n",
       "      <th>HEXCODE1R</th>\n",
       "      <th>HEXCODE2</th>\n",
       "      <th>HEXCODE3</th>\n",
       "      <th>HEXCODE4</th>\n",
       "    </tr>\n",
       "  </thead>\n",
       "  <tbody>\n",
       "    <tr>\n",
       "      <th>0</th>\n",
       "      <td>New York City</td>\n",
       "      <td>New York City</td>\n",
       "      <td>#fd903d</td>\n",
       "      <td>#fd883b</td>\n",
       "      <td>#6fb0d7</td>\n",
       "      <td>#8d99c8</td>\n",
       "      <td>#7fcdc3</td>\n",
       "    </tr>\n",
       "    <tr>\n",
       "      <th>1</th>\n",
       "      <td>New York City</td>\n",
       "      <td>Mexico City</td>\n",
       "      <td>grey</td>\n",
       "      <td>grey</td>\n",
       "      <td>grey</td>\n",
       "      <td>grey</td>\n",
       "      <td>grey</td>\n",
       "    </tr>\n",
       "    <tr>\n",
       "      <th>2</th>\n",
       "      <td>Mexico City</td>\n",
       "      <td>Mexico City</td>\n",
       "      <td>#fd8f3d</td>\n",
       "      <td>#fd8a3b</td>\n",
       "      <td>#6dafd7</td>\n",
       "      <td>#8d98c7</td>\n",
       "      <td>#7dcdc3</td>\n",
       "    </tr>\n",
       "    <tr>\n",
       "      <th>3</th>\n",
       "      <td>Mexico City</td>\n",
       "      <td>San Diego</td>\n",
       "      <td>grey</td>\n",
       "      <td>grey</td>\n",
       "      <td>grey</td>\n",
       "      <td>grey</td>\n",
       "      <td>grey</td>\n",
       "    </tr>\n",
       "    <tr>\n",
       "      <th>4</th>\n",
       "      <td>San Diego</td>\n",
       "      <td>San Diego</td>\n",
       "      <td>#fd8e3c</td>\n",
       "      <td>#fd8c3c</td>\n",
       "      <td>#6caed6</td>\n",
       "      <td>#8c97c6</td>\n",
       "      <td>#7cccc4</td>\n",
       "    </tr>\n",
       "  </tbody>\n",
       "</table>\n",
       "</div>"
      ],
      "text/plain": [
       "           CITY1          CITY2 HEXCODE1 HEXCODE1R HEXCODE2 HEXCODE3 HEXCODE4\n",
       "0  New York City  New York City  #fd903d   #fd883b  #6fb0d7  #8d99c8  #7fcdc3\n",
       "1  New York City    Mexico City     grey      grey     grey     grey     grey\n",
       "2    Mexico City    Mexico City  #fd8f3d   #fd8a3b  #6dafd7  #8d98c7  #7dcdc3\n",
       "3    Mexico City      San Diego     grey      grey     grey     grey     grey\n",
       "4      San Diego      San Diego  #fd8e3c   #fd8c3c  #6caed6  #8c97c6  #7cccc4"
      ]
     },
     "execution_count": 143,
     "metadata": {},
     "output_type": "execute_result"
    }
   ],
   "source": [
    "path_colors_df.head()"
   ]
  },
  {
   "cell_type": "code",
   "execution_count": 144,
   "metadata": {},
   "outputs": [
    {
     "data": {
      "text/html": [
       "<div>\n",
       "<style scoped>\n",
       "    .dataframe tbody tr th:only-of-type {\n",
       "        vertical-align: middle;\n",
       "    }\n",
       "\n",
       "    .dataframe tbody tr th {\n",
       "        vertical-align: top;\n",
       "    }\n",
       "\n",
       "    .dataframe thead th {\n",
       "        text-align: right;\n",
       "    }\n",
       "</style>\n",
       "<table border=\"1\" class=\"dataframe\">\n",
       "  <thead>\n",
       "    <tr style=\"text-align: right;\">\n",
       "      <th></th>\n",
       "      <th>CITY1</th>\n",
       "      <th>CITY2</th>\n",
       "      <th>HEXCODE1</th>\n",
       "      <th>HEXCODE1R</th>\n",
       "      <th>HEXCODE2</th>\n",
       "      <th>HEXCODE3</th>\n",
       "      <th>HEXCODE4</th>\n",
       "    </tr>\n",
       "  </thead>\n",
       "  <tbody>\n",
       "    <tr>\n",
       "      <th>6</th>\n",
       "      <td>Stockton, CA</td>\n",
       "      <td>Stockton, CA</td>\n",
       "      <td>#fd8c3c</td>\n",
       "      <td>#fd8c3c</td>\n",
       "      <td>#6aaed6</td>\n",
       "      <td>#8c95c6</td>\n",
       "      <td>#7accc4</td>\n",
       "    </tr>\n",
       "    <tr>\n",
       "      <th>7</th>\n",
       "      <td>Stockton, CA</td>\n",
       "      <td>San Francisco</td>\n",
       "      <td>#fd8c3c</td>\n",
       "      <td>#fd8e3c</td>\n",
       "      <td>#6aaed6</td>\n",
       "      <td>#8c95c6</td>\n",
       "      <td>#7accc4</td>\n",
       "    </tr>\n",
       "    <tr>\n",
       "      <th>8</th>\n",
       "      <td>San Francisco</td>\n",
       "      <td>San Francisco</td>\n",
       "      <td>#fd8a3b</td>\n",
       "      <td>#fd8e3c</td>\n",
       "      <td>#69add5</td>\n",
       "      <td>#8c94c5</td>\n",
       "      <td>#79cbc5</td>\n",
       "    </tr>\n",
       "    <tr>\n",
       "      <th>9</th>\n",
       "      <td>San Francisco</td>\n",
       "      <td>Rome</td>\n",
       "      <td>grey</td>\n",
       "      <td>grey</td>\n",
       "      <td>grey</td>\n",
       "      <td>grey</td>\n",
       "      <td>grey</td>\n",
       "    </tr>\n",
       "    <tr>\n",
       "      <th>10</th>\n",
       "      <td>Rome</td>\n",
       "      <td>Rome</td>\n",
       "      <td>#fd883b</td>\n",
       "      <td>#fd8f3d</td>\n",
       "      <td>#68acd5</td>\n",
       "      <td>#8c93c4</td>\n",
       "      <td>#77cac5</td>\n",
       "    </tr>\n",
       "  </tbody>\n",
       "</table>\n",
       "</div>"
      ],
      "text/plain": [
       "            CITY1          CITY2 HEXCODE1 HEXCODE1R HEXCODE2 HEXCODE3 HEXCODE4\n",
       "6    Stockton, CA   Stockton, CA  #fd8c3c   #fd8c3c  #6aaed6  #8c95c6  #7accc4\n",
       "7    Stockton, CA  San Francisco  #fd8c3c   #fd8e3c  #6aaed6  #8c95c6  #7accc4\n",
       "8   San Francisco  San Francisco  #fd8a3b   #fd8e3c  #69add5  #8c94c5  #79cbc5\n",
       "9   San Francisco           Rome     grey      grey     grey     grey     grey\n",
       "10           Rome           Rome  #fd883b   #fd8f3d  #68acd5  #8c93c4  #77cac5"
      ]
     },
     "execution_count": 144,
     "metadata": {},
     "output_type": "execute_result"
    }
   ],
   "source": [
    "path_colors_df.tail()"
   ]
  },
  {
   "cell_type": "code",
   "execution_count": 145,
   "metadata": {},
   "outputs": [],
   "source": [
    "# sns.palplot(path_colors_df.HEXCODE1)"
   ]
  },
  {
   "cell_type": "code",
   "execution_count": 146,
   "metadata": {},
   "outputs": [],
   "source": [
    "# sns.palplot(path_colors_df.HEXCODE1R)"
   ]
  },
  {
   "cell_type": "code",
   "execution_count": 147,
   "metadata": {},
   "outputs": [],
   "source": [
    "# sns.palplot(path_colors_df.HEXCODE2)"
   ]
  },
  {
   "cell_type": "code",
   "execution_count": 148,
   "metadata": {},
   "outputs": [],
   "source": [
    "# sns.palplot(path_colors_df.HEXCODE3)"
   ]
  },
  {
   "cell_type": "code",
   "execution_count": 149,
   "metadata": {},
   "outputs": [],
   "source": [
    "# sns.palplot(path_colors_df.HEXCODE4)"
   ]
  },
  {
   "cell_type": "markdown",
   "metadata": {},
   "source": [
    "## Saving data"
   ]
  },
  {
   "cell_type": "code",
   "execution_count": 150,
   "metadata": {},
   "outputs": [],
   "source": [
    "points_df.to_csv('web/data/points4760.csv', index=False)\n",
    "labels_df.to_csv('web/data/labels4760.csv', index=False)\n",
    "paths_df.to_csv('web/data/paths4760.csv', index=False)\n",
    "path_colors_df.to_csv('web/data/path_colors4760.csv', index=False)"
   ]
  },
  {
   "cell_type": "code",
   "execution_count": null,
   "metadata": {},
   "outputs": [],
   "source": []
  },
  {
   "cell_type": "code",
   "execution_count": null,
   "metadata": {},
   "outputs": [],
   "source": []
  }
 ],
 "metadata": {
  "kernelspec": {
   "display_name": "Python 3 (ipykernel)",
   "language": "python",
   "name": "python3"
  },
  "language_info": {
   "codemirror_mode": {
    "name": "ipython",
    "version": 3
   },
   "file_extension": ".py",
   "mimetype": "text/x-python",
   "name": "python",
   "nbconvert_exporter": "python",
   "pygments_lexer": "ipython3",
   "version": "3.12.8"
  }
 },
 "nbformat": 4,
 "nbformat_minor": 2
}
