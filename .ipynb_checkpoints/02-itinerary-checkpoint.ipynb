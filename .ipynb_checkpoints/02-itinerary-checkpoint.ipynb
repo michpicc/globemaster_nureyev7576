{
 "cells": [
  {
   "cell_type": "markdown",
   "metadata": {},
   "source": [
    "# Dunham's Data"
   ]
  },
  {
   "cell_type": "markdown",
   "metadata": {},
   "source": [
    "## Setting up"
   ]
  },
  {
   "cell_type": "code",
   "execution_count": 39,
   "metadata": {},
   "outputs": [],
   "source": [
    "from geopy.distance import geodesic\n",
    "# import networkx as nx\n",
    "import pandas as pd\n",
    "# import seaborn as sns"
   ]
  },
  {
   "cell_type": "code",
   "execution_count": 40,
   "metadata": {},
   "outputs": [],
   "source": [
    "# pd.set_option('display.max_rows', 999)"
   ]
  },
  {
   "cell_type": "code",
   "execution_count": 41,
   "metadata": {},
   "outputs": [],
   "source": [
    "# sns.set()"
   ]
  },
  {
   "cell_type": "code",
   "execution_count": 42,
   "metadata": {},
   "outputs": [],
   "source": [
    "# %matplotlib inline"
   ]
  },
  {
   "cell_type": "markdown",
   "metadata": {},
   "source": [
    "## Loading data"
   ]
  },
  {
   "cell_type": "code",
   "execution_count": 43,
   "metadata": {},
   "outputs": [],
   "source": [
    "dunham_df = pd.read_csv('data/out/nureyev_1955-92.csv')\n",
    "dunham_df.fillna('', inplace=True)"
   ]
  },
  {
   "cell_type": "code",
   "execution_count": 44,
   "metadata": {},
   "outputs": [
    {
     "data": {
      "text/plain": [
       "(22, 13)"
      ]
     },
     "execution_count": 44,
     "metadata": {},
     "output_type": "execute_result"
    }
   ],
   "source": [
    "dunham_df.shape"
   ]
  },
  {
   "cell_type": "code",
   "execution_count": 45,
   "metadata": {},
   "outputs": [
    {
     "data": {
      "text/html": [
       "<div>\n",
       "<style scoped>\n",
       "    .dataframe tbody tr th:only-of-type {\n",
       "        vertical-align: middle;\n",
       "    }\n",
       "\n",
       "    .dataframe tbody tr th {\n",
       "        vertical-align: top;\n",
       "    }\n",
       "\n",
       "    .dataframe thead th {\n",
       "        text-align: right;\n",
       "    }\n",
       "</style>\n",
       "<table border=\"1\" class=\"dataframe\">\n",
       "  <thead>\n",
       "    <tr style=\"text-align: right;\">\n",
       "      <th></th>\n",
       "      <th>DATE</th>\n",
       "      <th>CITY1</th>\n",
       "      <th>COUNTRY1</th>\n",
       "      <th>CITY2</th>\n",
       "      <th>COUNTRY2</th>\n",
       "      <th>WORKING</th>\n",
       "      <th>HOTEL_ADDRESS</th>\n",
       "      <th>VENUE1</th>\n",
       "      <th>VENUE_TYPE1</th>\n",
       "      <th>VENUE2</th>\n",
       "      <th>VENUE_TYPE2</th>\n",
       "      <th>NOTES</th>\n",
       "      <th>SOURCE</th>\n",
       "    </tr>\n",
       "  </thead>\n",
       "  <tbody>\n",
       "    <tr>\n",
       "      <th>0</th>\n",
       "      <td>1975-09-01</td>\n",
       "      <td>Edinburgh</td>\n",
       "      <td>Scotland</td>\n",
       "      <td></td>\n",
       "      <td></td>\n",
       "      <td>y</td>\n",
       "      <td></td>\n",
       "      <td>Edinburgh festival</td>\n",
       "      <td></td>\n",
       "      <td></td>\n",
       "      <td></td>\n",
       "      <td></td>\n",
       "      <td></td>\n",
       "    </tr>\n",
       "    <tr>\n",
       "      <th>1</th>\n",
       "      <td>1975-09-07</td>\n",
       "      <td>Glasgow</td>\n",
       "      <td>Scotland</td>\n",
       "      <td></td>\n",
       "      <td></td>\n",
       "      <td>y</td>\n",
       "      <td></td>\n",
       "      <td>Reharse scottish ballet glasgow</td>\n",
       "      <td></td>\n",
       "      <td></td>\n",
       "      <td></td>\n",
       "      <td></td>\n",
       "      <td></td>\n",
       "    </tr>\n",
       "    <tr>\n",
       "      <th>2</th>\n",
       "      <td>1975-09-16</td>\n",
       "      <td>Madrid</td>\n",
       "      <td>Spain</td>\n",
       "      <td></td>\n",
       "      <td></td>\n",
       "      <td>y</td>\n",
       "      <td></td>\n",
       "      <td></td>\n",
       "      <td></td>\n",
       "      <td></td>\n",
       "      <td></td>\n",
       "      <td></td>\n",
       "      <td></td>\n",
       "    </tr>\n",
       "    <tr>\n",
       "      <th>3</th>\n",
       "      <td>1975-09-22</td>\n",
       "      <td>Amsterdam</td>\n",
       "      <td>Holland</td>\n",
       "      <td></td>\n",
       "      <td></td>\n",
       "      <td>y</td>\n",
       "      <td></td>\n",
       "      <td>Reharse dutch ballet amsterdam</td>\n",
       "      <td></td>\n",
       "      <td></td>\n",
       "      <td></td>\n",
       "      <td></td>\n",
       "      <td></td>\n",
       "    </tr>\n",
       "    <tr>\n",
       "      <th>4</th>\n",
       "      <td>1975-10-17</td>\n",
       "      <td>Vienna</td>\n",
       "      <td>Austria</td>\n",
       "      <td></td>\n",
       "      <td></td>\n",
       "      <td>y</td>\n",
       "      <td></td>\n",
       "      <td></td>\n",
       "      <td></td>\n",
       "      <td></td>\n",
       "      <td></td>\n",
       "      <td></td>\n",
       "      <td></td>\n",
       "    </tr>\n",
       "  </tbody>\n",
       "</table>\n",
       "</div>"
      ],
      "text/plain": [
       "         DATE      CITY1  COUNTRY1 CITY2 COUNTRY2 WORKING HOTEL_ADDRESS  \\\n",
       "0  1975-09-01  Edinburgh  Scotland                      y                 \n",
       "1  1975-09-07    Glasgow  Scotland                      y                 \n",
       "2  1975-09-16     Madrid     Spain                      y                 \n",
       "3  1975-09-22  Amsterdam   Holland                      y                 \n",
       "4  1975-10-17     Vienna   Austria                      y                 \n",
       "\n",
       "                            VENUE1 VENUE_TYPE1 VENUE2 VENUE_TYPE2 NOTES SOURCE  \n",
       "0               Edinburgh festival                                              \n",
       "1  Reharse scottish ballet glasgow                                              \n",
       "2                                                                               \n",
       "3   Reharse dutch ballet amsterdam                                              \n",
       "4                                                                               "
      ]
     },
     "execution_count": 45,
     "metadata": {},
     "output_type": "execute_result"
    }
   ],
   "source": [
    "dunham_df.head()"
   ]
  },
  {
   "cell_type": "code",
   "execution_count": 46,
   "metadata": {},
   "outputs": [
    {
     "data": {
      "text/html": [
       "<div>\n",
       "<style scoped>\n",
       "    .dataframe tbody tr th:only-of-type {\n",
       "        vertical-align: middle;\n",
       "    }\n",
       "\n",
       "    .dataframe tbody tr th {\n",
       "        vertical-align: top;\n",
       "    }\n",
       "\n",
       "    .dataframe thead th {\n",
       "        text-align: right;\n",
       "    }\n",
       "</style>\n",
       "<table border=\"1\" class=\"dataframe\">\n",
       "  <thead>\n",
       "    <tr style=\"text-align: right;\">\n",
       "      <th></th>\n",
       "      <th>DATE</th>\n",
       "      <th>CITY1</th>\n",
       "      <th>COUNTRY1</th>\n",
       "      <th>CITY2</th>\n",
       "      <th>COUNTRY2</th>\n",
       "      <th>WORKING</th>\n",
       "      <th>HOTEL_ADDRESS</th>\n",
       "      <th>VENUE1</th>\n",
       "      <th>VENUE_TYPE1</th>\n",
       "      <th>VENUE2</th>\n",
       "      <th>VENUE_TYPE2</th>\n",
       "      <th>NOTES</th>\n",
       "      <th>SOURCE</th>\n",
       "    </tr>\n",
       "  </thead>\n",
       "  <tbody>\n",
       "    <tr>\n",
       "      <th>21</th>\n",
       "      <td>1976-02-15</td>\n",
       "      <td>Los Angeles area</td>\n",
       "      <td>California</td>\n",
       "      <td></td>\n",
       "      <td></td>\n",
       "      <td>y</td>\n",
       "      <td></td>\n",
       "      <td>With american ballet theatre</td>\n",
       "      <td></td>\n",
       "      <td></td>\n",
       "      <td></td>\n",
       "      <td></td>\n",
       "      <td></td>\n",
       "    </tr>\n",
       "  </tbody>\n",
       "</table>\n",
       "</div>"
      ],
      "text/plain": [
       "          DATE             CITY1    COUNTRY1 CITY2 COUNTRY2 WORKING  \\\n",
       "21  1976-02-15  Los Angeles area  California                      y   \n",
       "\n",
       "   HOTEL_ADDRESS                        VENUE1 VENUE_TYPE1 VENUE2 VENUE_TYPE2  \\\n",
       "21                With american ballet theatre                                  \n",
       "\n",
       "   NOTES SOURCE  \n",
       "21               "
      ]
     },
     "execution_count": 46,
     "metadata": {},
     "output_type": "execute_result"
    }
   ],
   "source": [
    "dunham_df.tail(1)"
   ]
  },
  {
   "cell_type": "markdown",
   "metadata": {},
   "source": [
    "## Pre-processing data"
   ]
  },
  {
   "cell_type": "code",
   "execution_count": 47,
   "metadata": {},
   "outputs": [],
   "source": [
    "geolocations = { # (lat, lon)\n",
    " 'Edinburgh'        :(55.9533456,-3.1883749 ),\n",
    " 'Glasgow'          :(55.861155, -4.2501687 ),\n",
    " 'Madrid'           :(40.4167047,-3.7035825 ),\n",
    " 'Amsterdam'        :(52.3730796,4.8924534 ),\n",
    " 'Vienna'           :(48.2083537,16.3725042 ),\n",
    " 'Zurich'           :(47.3744489,8.5410422 ),\n",
    " 'Lugano'           :(46.0050102,8.9520281 ),\n",
    " 'Lausanne'         :(46.5218269,6.6327025 ),\n",
    " 'Basel'            :(47.5581077,7.5878261 ),\n",
    " 'Bregenz'          :(47.5025779,9.7472924 ),\n",
    " 'Gallen'           :(51.4312285,12.5495463 ),\n",
    " 'Geneva'           :(46.2017559,6.1466014 ),\n",
    " 'The Hague'        :(52.0799838,4.3113461 ),\n",
    " 'New York'         :(40.7127281,-74.0060152 ),\n",
    " 'Brooklin'         :(40.691392, -73.982469),\n",
    " 'London'           :(51.5074456,-0.1277653 ),\n",
    " 'Manchester'       :(53.4794892,-2.2451148 ),\n",
    " 'London'           :(51.5074456,-0.1277653 ),\n",
    " 'New York'         :(40.7127281,-74.0060152 ),\n",
    " 'London'           :(51.5074456,-0.1277653 ),\n",
    " 'Paris'            :(48.8588897,2.320041022 ),\n",
    " 'Los Angeles'      :(34.0536909,-118.242766 ),\n",
    "} "
   ]
  },
  {
   "cell_type": "code",
   "execution_count": 48,
   "metadata": {},
   "outputs": [],
   "source": [
    "dunham_df['CITY'] = dunham_df.apply(lambda row: row.CITY2 if row.CITY2 else row.CITY1, axis=1)\n",
    "dunham_df['COUNTRY'] = dunham_df.apply(lambda row: row.COUNTRY2 if row.CITY2 else row.COUNTRY1, axis=1)"
   ]
  },
  {
   "cell_type": "markdown",
   "metadata": {},
   "source": [
    "## Processing data"
   ]
  },
  {
   "cell_type": "code",
   "execution_count": 51,
   "metadata": {
    "scrolled": true
   },
   "outputs": [
    {
     "name": "stdout",
     "output_type": "stream",
     "text": [
      "Los Angeles area\n",
      "{'Edinburgh': (55.9533456, -3.1883749), 'Glasgow': (55.861155, -4.2501687), 'Madrid': (40.4167047, -3.7035825), 'Amsterdam': (52.3730796, 4.8924534), 'Vienna': (48.2083537, 16.3725042), 'Zurich': (47.3744489, 8.5410422), 'Lugano': (46.0050102, 8.9520281), 'Lausanne': (46.5218269, 6.6327025), 'Basel': (47.5581077, 7.5878261), 'Bregenz': (47.5025779, 9.7472924), 'Gallen': (51.4312285, 12.5495463), 'Geneva': (46.2017559, 6.1466014), 'The Hague': (52.0799838, 4.3113461), 'New York': (40.7127281, -74.0060152), 'Brooklin': (40.691392, -73.982469), 'London': (51.5074456, -0.1277653), 'Manchester': (53.4794892, -2.2451148), 'Paris': (48.8588897, 2.320041022), 'Los Angeles': (34.0536909, -118.242766)}\n"
     ]
    },
    {
     "ename": "KeyError",
     "evalue": "'Los Angeles area'",
     "output_type": "error",
     "traceback": [
      "\u001b[1;31m---------------------------------------------------------------------------\u001b[0m",
      "\u001b[1;31mKeyError\u001b[0m                                  Traceback (most recent call last)",
      "Cell \u001b[1;32mIn[51], line 58\u001b[0m\n\u001b[0;32m     47\u001b[0m         \u001b[38;5;28mprint\u001b[39m(start_city)\n\u001b[0;32m     48\u001b[0m         \u001b[38;5;28mprint\u001b[39m(geolocations)  \n\u001b[0;32m     49\u001b[0m         itinerary_df\u001b[38;5;241m.\u001b[39mloc[\u001b[38;5;28mlen\u001b[39m(itinerary_df)] \u001b[38;5;241m=\u001b[39m [\n\u001b[0;32m     50\u001b[0m             start_date,\n\u001b[0;32m     51\u001b[0m             end_date,\n\u001b[0;32m     52\u001b[0m             start_city,\n\u001b[0;32m     53\u001b[0m             start_country,\n\u001b[0;32m     54\u001b[0m             n_rows,\n\u001b[0;32m     55\u001b[0m             \u001b[38;5;124m'\u001b[39m\u001b[38;5;124mThe next morning\u001b[39m\u001b[38;5;124m'\u001b[39m \u001b[38;5;28;01mif\u001b[39;00m row\u001b[38;5;241m.\u001b[39mCITY2 \u001b[38;5;28;01melse\u001b[39;00m \u001b[38;5;124m'\u001b[39m\u001b[38;5;124mProbably that night\u001b[39m\u001b[38;5;124m'\u001b[39m,\n\u001b[0;32m     56\u001b[0m             n_rows \u001b[38;5;241m+\u001b[39m (\u001b[38;5;241m0\u001b[39m \u001b[38;5;28;01mif\u001b[39;00m row\u001b[38;5;241m.\u001b[39mCITY2 \u001b[38;5;28;01melse\u001b[39;00m \u001b[38;5;241m-\u001b[39m\u001b[38;5;241m1\u001b[39m),\n\u001b[0;32m     57\u001b[0m             n_rows,          \n\u001b[1;32m---> 58\u001b[0m             \u001b[43mgeolocations\u001b[49m\u001b[43m[\u001b[49m\u001b[43mstart_city\u001b[49m\u001b[43m]\u001b[49m[\u001b[38;5;241m0\u001b[39m],\n\u001b[0;32m     59\u001b[0m             geolocations[start_city][\u001b[38;5;241m1\u001b[39m],\n\u001b[0;32m     60\u001b[0m         ]\n\u001b[0;32m     61\u001b[0m \u001b[38;5;66;03m#         display(pd.DataFrame(itinerary_df.iloc[-1]).T)\u001b[39;00m\n",
      "\u001b[1;31mKeyError\u001b[0m: 'Los Angeles area'"
     ]
    }
   ],
   "source": [
    "def is_valid_city(city):\n",
    "    return bool(city) and city != 'in transit'\n",
    "\n",
    "cols = [\n",
    "    'START_DATE', 'END_DATE',\n",
    "    'CITY', 'COUNTRY',\n",
    "    'N_ROWS', 'LAST_MOMENT', 'MIN_NIGHTS', 'MAX_NIGHTS',\n",
    "    'LATITUDE', 'LONGITUDE',\n",
    "]\n",
    "itinerary_df = pd.DataFrame(columns=cols)\n",
    "row = dunham_df.iloc[0]\n",
    "start_date = row.DATE\n",
    "end_date = row.DATE\n",
    "start_city = row.CITY\n",
    "start_country = row.COUNTRY\n",
    "n_rows = 1\n",
    "for i, row in dunham_df.iloc[1:].iterrows():\n",
    "    date = row.DATE\n",
    "    city = row.CITY\n",
    "    country = row.COUNTRY\n",
    "    if is_valid_city(city) and city == start_city:\n",
    "        n_rows += 1\n",
    "        end_date = date\n",
    "    else:\n",
    "        if is_valid_city(start_city):\n",
    "            itinerary_df.loc[len(itinerary_df)] = [\n",
    "                start_date,\n",
    "                end_date,\n",
    "                start_city,\n",
    "                start_country,\n",
    "                n_rows,\n",
    "                'The next morning' if row.CITY2 else 'Probably that night',\n",
    "                n_rows + (0 if row.CITY2 else -1),\n",
    "                n_rows,\n",
    "                geolocations[start_city][0],\n",
    "                geolocations[start_city][1],\n",
    "            ]\n",
    "#             display(pd.DataFrame(itinerary_df.iloc[-1]).T)\n",
    "        start_date = date\n",
    "        end_date = date\n",
    "        start_city = city\n",
    "        start_country = country\n",
    "        n_rows = 1\n",
    "if city == start_city:\n",
    "    if is_valid_city(start_city):\n",
    "            #just debug\n",
    "        print(start_city)\n",
    "        #print(geolocations)  \n",
    "        itinerary_df.loc[len(itinerary_df)] = [\n",
    "            start_date,\n",
    "            end_date,\n",
    "            start_city,\n",
    "            start_country,\n",
    "            n_rows,\n",
    "            'The next morning' if row.CITY2 else 'Probably that night',\n",
    "            n_rows + (0 if row.CITY2 else -1),\n",
    "            n_rows,          \n",
    "            geolocations[start_city][0],\n",
    "            geolocations[start_city][1],\n",
    "        ]\n",
    "#         display(pd.DataFrame(itinerary_df.iloc[-1]).T)"
   ]
  },
  {
   "cell_type": "code",
   "execution_count": 12,
   "metadata": {},
   "outputs": [
    {
     "data": {
      "text/plain": [
       "(0, 10)"
      ]
     },
     "execution_count": 12,
     "metadata": {},
     "output_type": "execute_result"
    }
   ],
   "source": [
    "itinerary_df.shape"
   ]
  },
  {
   "cell_type": "code",
   "execution_count": 13,
   "metadata": {
    "scrolled": false
   },
   "outputs": [
    {
     "data": {
      "text/html": [
       "<div>\n",
       "<style scoped>\n",
       "    .dataframe tbody tr th:only-of-type {\n",
       "        vertical-align: middle;\n",
       "    }\n",
       "\n",
       "    .dataframe tbody tr th {\n",
       "        vertical-align: top;\n",
       "    }\n",
       "\n",
       "    .dataframe thead th {\n",
       "        text-align: right;\n",
       "    }\n",
       "</style>\n",
       "<table border=\"1\" class=\"dataframe\">\n",
       "  <thead>\n",
       "    <tr style=\"text-align: right;\">\n",
       "      <th></th>\n",
       "      <th>START_DATE</th>\n",
       "      <th>END_DATE</th>\n",
       "      <th>CITY</th>\n",
       "      <th>COUNTRY</th>\n",
       "      <th>N_ROWS</th>\n",
       "      <th>LAST_MOMENT</th>\n",
       "      <th>MIN_NIGHTS</th>\n",
       "      <th>MAX_NIGHTS</th>\n",
       "      <th>LATITUDE</th>\n",
       "      <th>LONGITUDE</th>\n",
       "    </tr>\n",
       "  </thead>\n",
       "  <tbody>\n",
       "  </tbody>\n",
       "</table>\n",
       "</div>"
      ],
      "text/plain": [
       "Empty DataFrame\n",
       "Columns: [START_DATE, END_DATE, CITY, COUNTRY, N_ROWS, LAST_MOMENT, MIN_NIGHTS, MAX_NIGHTS, LATITUDE, LONGITUDE]\n",
       "Index: []"
      ]
     },
     "execution_count": 13,
     "metadata": {},
     "output_type": "execute_result"
    }
   ],
   "source": [
    "itinerary_df"
   ]
  },
  {
   "cell_type": "markdown",
   "metadata": {},
   "source": [
    "## Saving data"
   ]
  },
  {
   "cell_type": "code",
   "execution_count": 87,
   "metadata": {},
   "outputs": [],
   "source": [
    "itinerary_df.to_csv('data/out/itinerary_1955-92.csv', index=False)"
   ]
  },
  {
   "cell_type": "code",
   "execution_count": null,
   "metadata": {},
   "outputs": [],
   "source": []
  },
  {
   "cell_type": "code",
   "execution_count": null,
   "metadata": {},
   "outputs": [],
   "source": []
  },
  {
   "cell_type": "code",
   "execution_count": null,
   "metadata": {},
   "outputs": [],
   "source": []
  }
 ],
 "metadata": {
  "kernelspec": {
   "display_name": "Python 3 (ipykernel)",
   "language": "python",
   "name": "python3"
  },
  "language_info": {
   "codemirror_mode": {
    "name": "ipython",
    "version": 3
   },
   "file_extension": ".py",
   "mimetype": "text/x-python",
   "name": "python",
   "nbconvert_exporter": "python",
   "pygments_lexer": "ipython3",
   "version": "3.12.8"
  }
 },
 "nbformat": 4,
 "nbformat_minor": 2
}
