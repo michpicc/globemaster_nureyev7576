{
 "cells": [
  {
   "cell_type": "markdown",
   "metadata": {},
   "source": [
    "# Dunham's Data"
   ]
  },
  {
   "cell_type": "markdown",
   "metadata": {},
   "source": [
    "## Setting up"
   ]
  },
  {
   "cell_type": "code",
   "execution_count": 10,
   "metadata": {},
   "outputs": [],
   "source": [
    "from geopy.distance import geodesic\n",
    "# import networkx as nx\n",
    "import pandas as pd\n",
    "# import seaborn as sns"
   ]
  },
  {
   "cell_type": "code",
   "execution_count": 11,
   "metadata": {},
   "outputs": [],
   "source": [
    "# pd.set_option('display.max_rows', 999)"
   ]
  },
  {
   "cell_type": "code",
   "execution_count": 12,
   "metadata": {},
   "outputs": [],
   "source": [
    "# sns.set()"
   ]
  },
  {
   "cell_type": "code",
   "execution_count": 13,
   "metadata": {},
   "outputs": [],
   "source": [
    "# %matplotlib inline"
   ]
  },
  {
   "cell_type": "markdown",
   "metadata": {},
   "source": [
    "## Loading data"
   ]
  },
  {
   "cell_type": "code",
   "execution_count": 14,
   "metadata": {},
   "outputs": [],
   "source": [
    "col_used = [\n",
    "    'DATE', 'CITY1', 'COUNTRY1', 'CITY2', 'COUNTRY2', 'WORKING', 'HOTEL_ADDRESS',\n",
    "    'VENUE1', 'VENUE_TYPE1', 'VENUE2', 'VENUE_TYPE2', 'NOTES', 'SOURCE',\n",
    "]\n",
    "dunham_df = pd.read_excel('data/src/nureyev_EverydayItinerary_DatasetSample.xlsx',\n",
    "                          usecols='A:G,I:N', names=col_used)\n",
    "dunham_df.fillna('', inplace=True)"
   ]
  },
  {
   "cell_type": "code",
   "execution_count": 15,
   "metadata": {},
   "outputs": [
    {
     "data": {
      "text/plain": [
       "(22, 13)"
      ]
     },
     "execution_count": 15,
     "metadata": {},
     "output_type": "execute_result"
    }
   ],
   "source": [
    "dunham_df.shape"
   ]
  },
  {
   "cell_type": "code",
   "execution_count": 16,
   "metadata": {},
   "outputs": [
    {
     "data": {
      "text/html": [
       "<div>\n",
       "<style scoped>\n",
       "    .dataframe tbody tr th:only-of-type {\n",
       "        vertical-align: middle;\n",
       "    }\n",
       "\n",
       "    .dataframe tbody tr th {\n",
       "        vertical-align: top;\n",
       "    }\n",
       "\n",
       "    .dataframe thead th {\n",
       "        text-align: right;\n",
       "    }\n",
       "</style>\n",
       "<table border=\"1\" class=\"dataframe\">\n",
       "  <thead>\n",
       "    <tr style=\"text-align: right;\">\n",
       "      <th></th>\n",
       "      <th>DATE</th>\n",
       "      <th>CITY1</th>\n",
       "      <th>COUNTRY1</th>\n",
       "      <th>CITY2</th>\n",
       "      <th>COUNTRY2</th>\n",
       "      <th>WORKING</th>\n",
       "      <th>HOTEL_ADDRESS</th>\n",
       "      <th>VENUE1</th>\n",
       "      <th>VENUE_TYPE1</th>\n",
       "      <th>VENUE2</th>\n",
       "      <th>VENUE_TYPE2</th>\n",
       "      <th>NOTES</th>\n",
       "      <th>SOURCE</th>\n",
       "    </tr>\n",
       "  </thead>\n",
       "  <tbody>\n",
       "    <tr>\n",
       "      <th>0</th>\n",
       "      <td>1975-09-01</td>\n",
       "      <td>Edimburgh</td>\n",
       "      <td>Scotland</td>\n",
       "      <td></td>\n",
       "      <td></td>\n",
       "      <td>y</td>\n",
       "      <td></td>\n",
       "      <td>Edinburgh festival</td>\n",
       "      <td></td>\n",
       "      <td></td>\n",
       "      <td></td>\n",
       "      <td></td>\n",
       "      <td></td>\n",
       "    </tr>\n",
       "    <tr>\n",
       "      <th>1</th>\n",
       "      <td>1975-09-07</td>\n",
       "      <td>Glasgow</td>\n",
       "      <td>Scotland</td>\n",
       "      <td></td>\n",
       "      <td></td>\n",
       "      <td>y</td>\n",
       "      <td></td>\n",
       "      <td>Reharse scottish ballet glasgow</td>\n",
       "      <td></td>\n",
       "      <td></td>\n",
       "      <td></td>\n",
       "      <td></td>\n",
       "      <td></td>\n",
       "    </tr>\n",
       "    <tr>\n",
       "      <th>2</th>\n",
       "      <td>1975-09-16</td>\n",
       "      <td>Madrid</td>\n",
       "      <td>Spain</td>\n",
       "      <td></td>\n",
       "      <td></td>\n",
       "      <td>y</td>\n",
       "      <td></td>\n",
       "      <td></td>\n",
       "      <td></td>\n",
       "      <td></td>\n",
       "      <td></td>\n",
       "      <td></td>\n",
       "      <td></td>\n",
       "    </tr>\n",
       "    <tr>\n",
       "      <th>3</th>\n",
       "      <td>1975-09-22</td>\n",
       "      <td>Amsterdam</td>\n",
       "      <td>Holland</td>\n",
       "      <td></td>\n",
       "      <td></td>\n",
       "      <td>y</td>\n",
       "      <td></td>\n",
       "      <td>Reharse dutch ballet amsterdam</td>\n",
       "      <td></td>\n",
       "      <td></td>\n",
       "      <td></td>\n",
       "      <td></td>\n",
       "      <td></td>\n",
       "    </tr>\n",
       "    <tr>\n",
       "      <th>4</th>\n",
       "      <td>1975-10-17</td>\n",
       "      <td>Vienna</td>\n",
       "      <td>Austria</td>\n",
       "      <td></td>\n",
       "      <td></td>\n",
       "      <td>y</td>\n",
       "      <td></td>\n",
       "      <td></td>\n",
       "      <td></td>\n",
       "      <td></td>\n",
       "      <td></td>\n",
       "      <td></td>\n",
       "      <td></td>\n",
       "    </tr>\n",
       "  </tbody>\n",
       "</table>\n",
       "</div>"
      ],
      "text/plain": [
       "        DATE       CITY1  COUNTRY1 CITY2 COUNTRY2 WORKING HOTEL_ADDRESS  \\\n",
       "0 1975-09-01  Edimburgh   Scotland                      y                 \n",
       "1 1975-09-07     Glasgow  Scotland                      y                 \n",
       "2 1975-09-16      Madrid     Spain                      y                 \n",
       "3 1975-09-22   Amsterdam   Holland                      y                 \n",
       "4 1975-10-17      Vienna   Austria                      y                 \n",
       "\n",
       "                            VENUE1 VENUE_TYPE1 VENUE2 VENUE_TYPE2 NOTES SOURCE  \n",
       "0               Edinburgh festival                                              \n",
       "1  Reharse scottish ballet glasgow                                              \n",
       "2                                                                               \n",
       "3   Reharse dutch ballet amsterdam                                              \n",
       "4                                                                               "
      ]
     },
     "execution_count": 16,
     "metadata": {},
     "output_type": "execute_result"
    }
   ],
   "source": [
    "dunham_df.head()"
   ]
  },
  {
   "cell_type": "code",
   "execution_count": 17,
   "metadata": {},
   "outputs": [
    {
     "data": {
      "text/html": [
       "<div>\n",
       "<style scoped>\n",
       "    .dataframe tbody tr th:only-of-type {\n",
       "        vertical-align: middle;\n",
       "    }\n",
       "\n",
       "    .dataframe tbody tr th {\n",
       "        vertical-align: top;\n",
       "    }\n",
       "\n",
       "    .dataframe thead th {\n",
       "        text-align: right;\n",
       "    }\n",
       "</style>\n",
       "<table border=\"1\" class=\"dataframe\">\n",
       "  <thead>\n",
       "    <tr style=\"text-align: right;\">\n",
       "      <th></th>\n",
       "      <th>DATE</th>\n",
       "      <th>CITY1</th>\n",
       "      <th>COUNTRY1</th>\n",
       "      <th>CITY2</th>\n",
       "      <th>COUNTRY2</th>\n",
       "      <th>WORKING</th>\n",
       "      <th>HOTEL_ADDRESS</th>\n",
       "      <th>VENUE1</th>\n",
       "      <th>VENUE_TYPE1</th>\n",
       "      <th>VENUE2</th>\n",
       "      <th>VENUE_TYPE2</th>\n",
       "      <th>NOTES</th>\n",
       "      <th>SOURCE</th>\n",
       "    </tr>\n",
       "  </thead>\n",
       "  <tbody>\n",
       "    <tr>\n",
       "      <th>21</th>\n",
       "      <td>1976-02-15</td>\n",
       "      <td>Los Angeles,USA</td>\n",
       "      <td>California</td>\n",
       "      <td></td>\n",
       "      <td></td>\n",
       "      <td>y</td>\n",
       "      <td></td>\n",
       "      <td>With american ballet theatre</td>\n",
       "      <td></td>\n",
       "      <td></td>\n",
       "      <td></td>\n",
       "      <td></td>\n",
       "      <td></td>\n",
       "    </tr>\n",
       "  </tbody>\n",
       "</table>\n",
       "</div>"
      ],
      "text/plain": [
       "         DATE            CITY1    COUNTRY1 CITY2 COUNTRY2 WORKING  \\\n",
       "21 1976-02-15  Los Angeles,USA  California                      y   \n",
       "\n",
       "   HOTEL_ADDRESS                        VENUE1 VENUE_TYPE1 VENUE2 VENUE_TYPE2  \\\n",
       "21                With american ballet theatre                                  \n",
       "\n",
       "   NOTES SOURCE  \n",
       "21               "
      ]
     },
     "execution_count": 17,
     "metadata": {},
     "output_type": "execute_result"
    }
   ],
   "source": [
    "dunham_df.tail(1)"
   ]
  },
  {
   "cell_type": "markdown",
   "metadata": {},
   "source": [
    "## Pre-processing data"
   ]
  },
  {
   "cell_type": "code",
   "execution_count": 18,
   "metadata": {
    "scrolled": true
   },
   "outputs": [],
   "source": [
    "dunham_df.DATE = dunham_df.DATE.astype(str)\n",
    "for col in dunham_df.columns[1:]:\n",
    "    dunham_df[col] = dunham_df[col].apply(str.strip)"
   ]
  },
  {
   "cell_type": "code",
   "execution_count": 19,
   "metadata": {},
   "outputs": [],
   "source": [
    "def clean_city(x, y):\n",
    "    if x == 'Hamilton':\n",
    "        if y == 'Canada':\n",
    "            r = 'Hamilton (CA)'\n",
    "        else: # y == 'New Zealand'\n",
    "            r = 'Hamilton (NZ)'\n",
    "#     elif x == 'in transit':\n",
    "#         r = ''\n",
    "    else:\n",
    "        r = x\n",
    "    return r\n",
    "\n",
    "dunham_df.CITY1 = dunham_df.apply(lambda row: clean_city(row.CITY1, row.COUNTRY1), axis=1)\n",
    "dunham_df.CITY2 = dunham_df.apply(lambda row: clean_city(row.CITY2, row.COUNTRY2), axis=1)"
   ]
  },
  {
   "cell_type": "code",
   "execution_count": 20,
   "metadata": {},
   "outputs": [],
   "source": [
    "def clean_country(city, country):\n",
    "    x = country\n",
    "    y = city\n",
    "    if y == 'Gibraltar':\n",
    "        r = 'Gibraltar'\n",
    "    elif x == 'Newfoundland':\n",
    "        r = 'Canada'\n",
    "    else:\n",
    "        r = x\n",
    "    return r\n",
    "\n",
    "dunham_df.COUNTRY1 = dunham_df.apply(lambda row: clean_country(row.CITY1, row.COUNTRY1), axis=1)\n",
    "dunham_df.COUNTRY2 = dunham_df.apply(lambda row: clean_country(row.CITY2, row.COUNTRY2), axis=1)"
   ]
  },
  {
   "cell_type": "code",
   "execution_count": 21,
   "metadata": {},
   "outputs": [],
   "source": [
    "# def clean_working(x):\n",
    "#     if x.startswith('[[') and x.endswith(']]'):\n",
    "#         r = ''\n",
    "#     else:\n",
    "#         r = x\n",
    "#     return r\n",
    "\n",
    "# dunham_df.WORKING = dunham_df.WORKING.apply(clean_working)"
   ]
  },
  {
   "cell_type": "code",
   "execution_count": 22,
   "metadata": {},
   "outputs": [],
   "source": [
    "def clean_hotel_address(x):\n",
    "    r = x # do not clean for now\n",
    "    return r\n",
    "\n",
    "dunham_df.HOTEL_ADDRESS = dunham_df.HOTEL_ADDRESS.apply(clean_hotel_address)"
   ]
  },
  {
   "cell_type": "code",
   "execution_count": 23,
   "metadata": {},
   "outputs": [],
   "source": [
    "# def clean_performance_yn(x):\n",
    "#     if x == '?':\n",
    "#         r = ''\n",
    "#     elif x == 'N':\n",
    "#         r = 'n'\n",
    "#     else:\n",
    "#         r = x\n",
    "#     return r\n",
    "\n",
    "# dunham_df.PERFORMANCE_YN = dunham_df.PERFORMANCE_YN.apply(clean_performance_yn)"
   ]
  },
  {
   "cell_type": "code",
   "execution_count": 24,
   "metadata": {},
   "outputs": [],
   "source": [
    "# def clean_theater1(x):\n",
    "#     r = x # do not clean for now\n",
    "#     return r\n",
    "\n",
    "# dunham_df.THEATER1 = dunham_df.THEATER1.apply(clean_theater1)"
   ]
  },
  {
   "cell_type": "code",
   "execution_count": 25,
   "metadata": {},
   "outputs": [],
   "source": [
    "# def clean_theater2(x):\n",
    "#     r = x # do not clean for now\n",
    "#     return r\n",
    "\n",
    "# dunham_df.THEATER2 = dunham_df.THEATER2.apply(clean_theater2)"
   ]
  },
  {
   "cell_type": "code",
   "execution_count": 26,
   "metadata": {},
   "outputs": [],
   "source": [
    "# def clean_mode_transit(x):\n",
    "#     if x == '[[chartered bus Reno to Los Angeles?]]':\n",
    "#         r = 'bus'\n",
    "#     elif x == 'drive':\n",
    "#         r = 'car'\n",
    "#     elif x == 'drive?':\n",
    "#         r = 'car'\n",
    "#     elif x.startswith('plane'):\n",
    "#         r = 'plane'\n",
    "#     elif x == 'train; boat train':\n",
    "#         r = 'train, boat, train'\n",
    "#     elif x == 'train; plane; boat':\n",
    "#         r = 'train, plane, boat'\n",
    "#     else:\n",
    "#         r = x\n",
    "#     return r\n",
    "\n",
    "# dunham_df.MODE_TRANSIT = dunham_df.MODE_TRANSIT.apply(clean_mode_transit)"
   ]
  },
  {
   "cell_type": "code",
   "execution_count": 27,
   "metadata": {},
   "outputs": [],
   "source": [
    "# def clean_transit_cities(x):\n",
    "#     if x == 'Geneva; Rome':\n",
    "#         r = 'Geneva (Switzerland), Rome (Italy)'\n",
    "#     elif x == 'transit to Turin':\n",
    "#         r = ''\n",
    "#     elif x == 'transit through London':\n",
    "#         r = 'London (England)'\n",
    "#     elif x == 'transit: PanAm 201 flies NYC Laguardia - San Juan - Port of Spain - Belem':\n",
    "#         r = 'San Juan (Puerto Rico), Port of Spain (Trinidad and Tobago), Belem (Brazil)'\n",
    "#     elif x == 'Los Cerrillos airport':\n",
    "#         r = ''\n",
    "#     elif x == 'transit':\n",
    "#         r = ''\n",
    "#     elif x == 'destination':\n",
    "#         r = ''\n",
    "#     elif x == 'transit via Boston':\n",
    "#         r = 'Boston (USA)'\n",
    "#     elif x == 'in transit':\n",
    "#         r = ''\n",
    "#     elif x == 'last performance':\n",
    "#         r = ''\n",
    "#     elif x == 'London (Liverpool station), England; Harwich (Harwich Quay), England':\n",
    "#         r = 'Harwich (England)'\n",
    "#     elif x == 'New York':\n",
    "#         r = ''\n",
    "#     elif x == 'Chicago':\n",
    "#         r = 'Chicago (USA)'\n",
    "#     elif x == 'Gander, Newfoundland, Canada':\n",
    "#         r = 'Gander (Canada)'\n",
    "#     elif x == 'Zurich, Switzerland':\n",
    "#         r = 'Zurich (Switzerland)'\n",
    "#     elif x == 'Zurich':\n",
    "#         r = 'Zurich (Switzerland)'\n",
    "#     elif x == 'Rome, Italy; Geneva, Switzerland':\n",
    "#         r = 'Rome (Italy), Geneva (Switzerland)'\n",
    "#     elif x == 'Vevey, Switzerland':\n",
    "#         r = 'Vevey (Switzerland)'\n",
    "#     elif x == 'Amsterdam, Netherlands':\n",
    "#         r = 'Amsterdam (Netherlands)'\n",
    "#     elif x == 'Furet de P*?': # ???\n",
    "#         r = ''\n",
    "#     elif x == 'San Diego; Tijuana':\n",
    "#         r = 'San Diego (USA), Tijuana (Mexico)'\n",
    "#     elif x == 'Portworth':\n",
    "#         r = 'Fort Worth (USA)'\n",
    "#     elif x == 'Miami':\n",
    "#         r = 'Miami (USA)'\n",
    "#     elif x == 'Los Angeles':\n",
    "#         r = 'Los Angeles (USA)'\n",
    "#     elif x == \"El Paso, TX----I think probably this was to go to Mexico, and I don't think she ever went to Mexico\":\n",
    "#         r = 'El Paso (USA)'\n",
    "#     elif x == 'Honolulu':\n",
    "#         r = 'Honolulu (Hawaii)'\n",
    "#     elif x == 'Coolangatta':\n",
    "#         r = 'Coolangatta (Australia)'\n",
    "#     elif x == '[[Dunham Brisbane to Perth via Sydney and Melbourne--date open: https://osu.app.box.com/file/325139873147]]':\n",
    "#         r = ''\n",
    "#     elif x == 'Malacca':\n",
    "#         r = 'Malacca (Malaysia)'\n",
    "#     elif x == 'Amsterdam':\n",
    "#         r = 'Amsterdam (Netherlands)'\n",
    "#     elif x == 'Lyon; Bordeaux; Bayonne':\n",
    "#         r = 'Lyons (France), Bordeaux (France), Bayonne (France)'\n",
    "#     elif x == 'Irun, Spain':\n",
    "#         r = 'Irun (Spain)'\n",
    "#     elif x == 'Irun, Spain; Hendaye, France':\n",
    "#         r = 'Irun (Spain), Hendaye (France)'\n",
    "#     elif x == 'Marseilles':\n",
    "#         r = 'Marseille (France)'\n",
    "#     elif x == 'Piraeus, Greece':\n",
    "#         r = 'Piraeus (Greece)'\n",
    "#     elif x == 'Port Said, Egypt':\n",
    "#         r = 'Port Said (Egypt)'\n",
    "#     elif x == 'Munich':\n",
    "#         r = 'Munich (Germany)'\n",
    "#     elif x == 'Schwarzbach; Ravensberg':\n",
    "#         r = 'Schwarzbach (Germany), Ravensberg (Germany)'\n",
    "#     elif x == 'Colmar; Ligny en Barois; Rosay en Brie':\n",
    "#         r = 'Colmar (France), Ligny-en-Barrois (France), Rozay-en-Brie (France)'\n",
    "#     elif x == 'Verneson; Valence':\n",
    "#         r = 'Vernaison (France), Valence (France)'\n",
    "#     elif x == 'Alicante':\n",
    "#         r = 'Alicante (Spain)'\n",
    "#     elif x == 'Granada':\n",
    "#         r = 'Granada (Spain)'\n",
    "#     elif x == 'La Linea, Spain':\n",
    "#         r = 'La Linea (Spain)'\n",
    "#     else:\n",
    "#         r = x\n",
    "#     return r\n",
    "\n",
    "# dunham_df.TRANSIT_CITIES = dunham_df.TRANSIT_CITIES.apply(clean_transit_cities)"
   ]
  },
  {
   "cell_type": "code",
   "execution_count": 28,
   "metadata": {},
   "outputs": [],
   "source": [
    "def clean_notes(x):\n",
    "    r = x # do not clean for now\n",
    "    return r\n",
    "\n",
    "dunham_df.NOTES = dunham_df.NOTES.apply(clean_notes)"
   ]
  },
  {
   "cell_type": "code",
   "execution_count": 29,
   "metadata": {},
   "outputs": [],
   "source": [
    "def clean_source(x):\n",
    "    r = x # do not clean for now\n",
    "    return r\n",
    "\n",
    "dunham_df.SOURCE = dunham_df.SOURCE.apply(clean_source)"
   ]
  },
  {
   "cell_type": "code",
   "execution_count": 40,
   "metadata": {},
   "outputs": [],
   "source": [
    "dunham_df.fillna('', inplace=True)"
   ]
  },
  {
   "cell_type": "markdown",
   "metadata": {},
   "source": [
    "## Processing data"
   ]
  },
  {
   "cell_type": "code",
   "execution_count": 41,
   "metadata": {},
   "outputs": [],
   "source": [
    "\n",
    "\n",
    "geolocations = { # (lat, lon)\n",
    " 'Edinburgh'        :(55.9533456,-3.1883749 ),\n",
    " 'Glasgow'          :(55.861155, -4.2501687 ),\n",
    " 'Madrid'           :(40.4167047,-3.7035825 ),\n",
    " 'Amsterdam'        :(52.3730796,4.8924534 ),\n",
    " 'Vienna'           :(48.2083537,16.3725042 ),\n",
    " 'Zurich'           :(47.3744489,8.5410422 ),\n",
    " 'Lugano'           :(46.0050102,8.9520281 ),\n",
    " 'Lausanne'         :(46.5218269,6.6327025 ),\n",
    " 'Basel'            :(47.5581077,7.5878261 ),\n",
    " 'Bregenz'          :(47.5025779,9.7472924 ),\n",
    " 'Gallen'           :(51.4312285,12.5495463 ),\n",
    " 'Geneva'           :(46.2017559,6.1466014 ),\n",
    " 'The Hague'        :(52.0799838,4.3113461 ),\n",
    " 'New York'         :(40.7127281,-74.0060152 ),\n",
    " 'Brooklin'         :(40.691392, -73.982469),\n",
    " 'London'           :(51.5074456,-0.1277653 ),\n",
    " 'Manchester'       :(53.4794892,-2.2451148 ),\n",
    " 'London'           :(51.5074456,-0.1277653 ),\n",
    " 'New York'         :(40.7127281,-74.0060152 ),\n",
    " 'London'           :(51.5074456,-0.1277653 ),\n",
    " 'Paris'            :(48.8588897,2.320041022 ),\n",
    " 'Los Angeles'      :(34.0536909,-118.242766 ),\n",
    "} \n",
    "\n",
    "\n"
   ]
  },
  {
   "cell_type": "markdown",
   "metadata": {},
   "source": [
    "### Grouping locations"
   ]
  },
  {
   "cell_type": "code",
   "execution_count": 44,
   "metadata": {},
   "outputs": [
    {
     "name": "stdout",
     "output_type": "stream",
     "text": [
      "Bregenz\n",
      "Paris\n",
      "Bregenz\n",
      "Madrid\n",
      "Bregenz\n",
      "Edimburgh\n"
     ]
    },
    {
     "ename": "KeyError",
     "evalue": "'Edimburgh'",
     "output_type": "error",
     "traceback": [
      "\u001b[1;31m---------------------------------------------------------------------------\u001b[0m",
      "\u001b[1;31mKeyError\u001b[0m                                  Traceback (most recent call last)",
      "Cell \u001b[1;32mIn[44], line 11\u001b[0m\n\u001b[0;32m      9\u001b[0m \u001b[38;5;28mprint\u001b[39m(city1)\n\u001b[0;32m     10\u001b[0m \u001b[38;5;28mprint\u001b[39m(city2)\n\u001b[1;32m---> 11\u001b[0m p2 \u001b[38;5;241m=\u001b[39m \u001b[43mgeolocations\u001b[49m\u001b[43m[\u001b[49m\u001b[43mcity2\u001b[49m\u001b[43m]\u001b[49m\n\u001b[0;32m     12\u001b[0m dst \u001b[38;5;241m=\u001b[39m geodesic(p1, p2)\u001b[38;5;241m.\u001b[39mkm\n\u001b[0;32m     13\u001b[0m distances\u001b[38;5;241m.\u001b[39madd((city1, city2, dst))\n",
      "\u001b[1;31mKeyError\u001b[0m: 'Edimburgh'"
     ]
    }
   ],
   "source": [
    "distances = set()\n",
    "cities = set(dunham_df.CITY1.unique()).union(dunham_df.CITY2.unique())\n",
    "cities.discard('')\n",
    "cities.discard('in transit')\n",
    "for i, city1 in enumerate(cities):\n",
    "    p1 = geolocations[city1]\n",
    "    for j, city2 in enumerate(cities):\n",
    "        if j > i: # and city1 != city2:\n",
    "            print(city1)\n",
    "            print(city2)\n",
    "            p2 = geolocations[city2]\n",
    "            dst = geodesic(p1, p2).km\n",
    "            distances.add((city1, city2, dst))"
   ]
  },
  {
   "cell_type": "code",
   "execution_count": 33,
   "metadata": {},
   "outputs": [
    {
     "data": {
      "text/plain": [
       "2"
      ]
     },
     "execution_count": 33,
     "metadata": {},
     "output_type": "execute_result"
    }
   ],
   "source": [
    "len(distances)"
   ]
  },
  {
   "cell_type": "code",
   "execution_count": 34,
   "metadata": {},
   "outputs": [
    {
     "data": {
      "text/plain": [
       "[('Bregenz', 'Paris', 572.276019199182),\n",
       " ('Bregenz', 'Madrid', 1333.0905600175452)]"
      ]
     },
     "execution_count": 34,
     "metadata": {},
     "output_type": "execute_result"
    }
   ],
   "source": [
    "sorted(distances, key=lambda x: x[2])[:10]"
   ]
  },
  {
   "cell_type": "code",
   "execution_count": 35,
   "metadata": {},
   "outputs": [],
   "source": [
    "THRESHOLD = 15"
   ]
  },
  {
   "cell_type": "code",
   "execution_count": 36,
   "metadata": {},
   "outputs": [],
   "source": [
    "grouped_cities_dct = {\n",
    "    'Petion-Ville': 'Port-au-Prince',\n",
    "    'Los Angeles': 'Los Angeles area',\n",
    "    'Hollywood': 'Los Angeles area',\n",
    "    'Beverly Hills': 'Los Angeles area',\n",
    "    'Fiesole': 'Florence',\n",
    "#     'Mosman': 'Sydney',\n",
    "}"
   ]
  },
  {
   "cell_type": "code",
   "execution_count": 37,
   "metadata": {},
   "outputs": [],
   "source": [
    "for k in grouped_cities_dct:\n",
    "    dunham_df.replace(k, grouped_cities_dct[k], inplace=True)"
   ]
  },
  {
   "cell_type": "code",
   "execution_count": 38,
   "metadata": {},
   "outputs": [
    {
     "data": {
      "text/plain": [
       "(22, 13)"
      ]
     },
     "execution_count": 38,
     "metadata": {},
     "output_type": "execute_result"
    }
   ],
   "source": [
    "dunham_df.shape"
   ]
  },
  {
   "cell_type": "markdown",
   "metadata": {},
   "source": [
    "## Saving data"
   ]
  },
  {
   "cell_type": "code",
   "execution_count": 39,
   "metadata": {},
   "outputs": [],
   "source": [
    "dunham_df.to_csv('data/out/nureyev_1955-92.csv', index=False)"
   ]
  },
  {
   "cell_type": "code",
   "execution_count": null,
   "metadata": {},
   "outputs": [],
   "source": []
  },
  {
   "cell_type": "code",
   "execution_count": null,
   "metadata": {},
   "outputs": [],
   "source": []
  },
  {
   "cell_type": "code",
   "execution_count": null,
   "metadata": {},
   "outputs": [],
   "source": []
  }
 ],
 "metadata": {
  "kernelspec": {
   "display_name": "Python 3 (ipykernel)",
   "language": "python",
   "name": "python3"
  },
  "language_info": {
   "codemirror_mode": {
    "name": "ipython",
    "version": 3
   },
   "file_extension": ".py",
   "mimetype": "text/x-python",
   "name": "python",
   "nbconvert_exporter": "python",
   "pygments_lexer": "ipython3",
   "version": "3.12.8"
  }
 },
 "nbformat": 4,
 "nbformat_minor": 4
}
