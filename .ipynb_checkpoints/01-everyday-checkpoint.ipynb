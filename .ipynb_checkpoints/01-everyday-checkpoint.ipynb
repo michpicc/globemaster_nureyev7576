{
 "cells": [
  {
   "cell_type": "markdown",
   "metadata": {},
   "source": [
    "# Dunham's Data"
   ]
  },
  {
   "cell_type": "markdown",
   "metadata": {},
   "source": [
    "## Setting up"
   ]
  },
  {
   "cell_type": "code",
   "execution_count": 24,
   "metadata": {},
   "outputs": [],
   "source": [
    "from geopy.distance import geodesic\n",
    "# import networkx as nx\n",
    "import pandas as pd\n",
    "# import seaborn as sns"
   ]
  },
  {
   "cell_type": "code",
   "execution_count": 25,
   "metadata": {},
   "outputs": [],
   "source": [
    "# pd.set_option('display.max_rows', 999)"
   ]
  },
  {
   "cell_type": "code",
   "execution_count": 26,
   "metadata": {},
   "outputs": [],
   "source": [
    "# sns.set()"
   ]
  },
  {
   "cell_type": "code",
   "execution_count": 27,
   "metadata": {},
   "outputs": [],
   "source": [
    "# %matplotlib inline"
   ]
  },
  {
   "cell_type": "markdown",
   "metadata": {},
   "source": [
    "## Loading data"
   ]
  },
  {
   "cell_type": "code",
   "execution_count": 28,
   "metadata": {},
   "outputs": [],
   "source": [
    "col_used = [\n",
    "    'DATE', 'CITY1', 'COUNTRY1', 'CITY2', 'COUNTRY2', 'WORKING', 'HOTEL_ADDRESS',\n",
    "    'VENUE1', 'VENUE_TYPE1', 'VENUE2', 'VENUE_TYPE2', 'NOTES', 'SOURCE',\n",
    "]\n",
    "dunham_df = pd.read_excel('data/src/nureyev_EverydayItinerary_DatasetSample.xlsx',\n",
    "                          usecols='A:G,I:N', names=col_used)\n",
    "dunham_df.fillna('', inplace=True)"
   ]
  },
  {
   "cell_type": "code",
   "execution_count": 29,
   "metadata": {},
   "outputs": [
    {
     "data": {
      "text/plain": [
       "(11, 13)"
      ]
     },
     "execution_count": 29,
     "metadata": {},
     "output_type": "execute_result"
    }
   ],
   "source": [
    "dunham_df.shape"
   ]
  },
  {
   "cell_type": "code",
   "execution_count": 30,
   "metadata": {},
   "outputs": [
    {
     "data": {
      "text/html": [
       "<div>\n",
       "<style scoped>\n",
       "    .dataframe tbody tr th:only-of-type {\n",
       "        vertical-align: middle;\n",
       "    }\n",
       "\n",
       "    .dataframe tbody tr th {\n",
       "        vertical-align: top;\n",
       "    }\n",
       "\n",
       "    .dataframe thead th {\n",
       "        text-align: right;\n",
       "    }\n",
       "</style>\n",
       "<table border=\"1\" class=\"dataframe\">\n",
       "  <thead>\n",
       "    <tr style=\"text-align: right;\">\n",
       "      <th></th>\n",
       "      <th>DATE</th>\n",
       "      <th>CITY1</th>\n",
       "      <th>COUNTRY1</th>\n",
       "      <th>CITY2</th>\n",
       "      <th>COUNTRY2</th>\n",
       "      <th>WORKING</th>\n",
       "      <th>HOTEL_ADDRESS</th>\n",
       "      <th>VENUE1</th>\n",
       "      <th>VENUE_TYPE1</th>\n",
       "      <th>VENUE2</th>\n",
       "      <th>VENUE_TYPE2</th>\n",
       "      <th>NOTES</th>\n",
       "      <th>SOURCE</th>\n",
       "    </tr>\n",
       "  </thead>\n",
       "  <tbody>\n",
       "    <tr>\n",
       "      <th>0</th>\n",
       "      <td>1950-03-14</td>\n",
       "      <td>New York City</td>\n",
       "      <td>USA</td>\n",
       "      <td></td>\n",
       "      <td></td>\n",
       "      <td>y</td>\n",
       "      <td></td>\n",
       "      <td>Hotel Delmonico</td>\n",
       "      <td>n</td>\n",
       "      <td>Roxy</td>\n",
       "      <td>n</td>\n",
       "      <td>Diary--\"All Star Show for the Wounded\" between...</td>\n",
       "      <td>Display Ad New York Times (1923-Current file);...</td>\n",
       "    </tr>\n",
       "    <tr>\n",
       "      <th>1</th>\n",
       "      <td>1947-04-07</td>\n",
       "      <td>New York City</td>\n",
       "      <td>USA</td>\n",
       "      <td></td>\n",
       "      <td></td>\n",
       "      <td>y</td>\n",
       "      <td></td>\n",
       "      <td></td>\n",
       "      <td></td>\n",
       "      <td></td>\n",
       "      <td></td>\n",
       "      <td>Diary--rehearsal</td>\n",
       "      <td>SIU Box 142 Folder 7</td>\n",
       "    </tr>\n",
       "    <tr>\n",
       "      <th>2</th>\n",
       "      <td>1947-06-28</td>\n",
       "      <td>Mexico City</td>\n",
       "      <td>Mexico</td>\n",
       "      <td></td>\n",
       "      <td></td>\n",
       "      <td>y</td>\n",
       "      <td>Arenal #7, San Angel, Mexico, D.F.</td>\n",
       "      <td></td>\n",
       "      <td></td>\n",
       "      <td></td>\n",
       "      <td></td>\n",
       "      <td></td>\n",
       "      <td></td>\n",
       "    </tr>\n",
       "    <tr>\n",
       "      <th>3</th>\n",
       "      <td>1947-07-01</td>\n",
       "      <td>Mexico City</td>\n",
       "      <td>Mexico</td>\n",
       "      <td></td>\n",
       "      <td></td>\n",
       "      <td>y</td>\n",
       "      <td>Arenal #7, San Angel, Mexico, D.F.</td>\n",
       "      <td></td>\n",
       "      <td></td>\n",
       "      <td></td>\n",
       "      <td></td>\n",
       "      <td>Rehearsing every day at Dunham's rented house;...</td>\n",
       "      <td>SIU Box 10 Folder 4</td>\n",
       "    </tr>\n",
       "    <tr>\n",
       "      <th>4</th>\n",
       "      <td>1947-07-06</td>\n",
       "      <td>Mexico City</td>\n",
       "      <td>Mexico</td>\n",
       "      <td></td>\n",
       "      <td></td>\n",
       "      <td>y</td>\n",
       "      <td>Arenal #7, San Angel, Mexico, D.F.</td>\n",
       "      <td></td>\n",
       "      <td></td>\n",
       "      <td></td>\n",
       "      <td></td>\n",
       "      <td></td>\n",
       "      <td></td>\n",
       "    </tr>\n",
       "  </tbody>\n",
       "</table>\n",
       "</div>"
      ],
      "text/plain": [
       "        DATE          CITY1 COUNTRY1 CITY2 COUNTRY2 WORKING  \\\n",
       "0 1950-03-14  New York City      USA                      y   \n",
       "1 1947-04-07  New York City      USA                      y   \n",
       "2 1947-06-28    Mexico City   Mexico                      y   \n",
       "3 1947-07-01    Mexico City   Mexico                      y   \n",
       "4 1947-07-06    Mexico City   Mexico                      y   \n",
       "\n",
       "                        HOTEL_ADDRESS           VENUE1 VENUE_TYPE1 VENUE2  \\\n",
       "0                                      Hotel Delmonico           n   Roxy   \n",
       "1                                                                           \n",
       "2  Arenal #7, San Angel, Mexico, D.F.                                       \n",
       "3  Arenal #7, San Angel, Mexico, D.F.                                       \n",
       "4  Arenal #7, San Angel, Mexico, D.F.                                       \n",
       "\n",
       "  VENUE_TYPE2                                              NOTES  \\\n",
       "0           n  Diary--\"All Star Show for the Wounded\" between...   \n",
       "1                                               Diary--rehearsal   \n",
       "2                                                                  \n",
       "3              Rehearsing every day at Dunham's rented house;...   \n",
       "4                                                                  \n",
       "\n",
       "                                              SOURCE  \n",
       "0  Display Ad New York Times (1923-Current file);...  \n",
       "1                               SIU Box 142 Folder 7  \n",
       "2                                                     \n",
       "3                                SIU Box 10 Folder 4  \n",
       "4                                                     "
      ]
     },
     "execution_count": 30,
     "metadata": {},
     "output_type": "execute_result"
    }
   ],
   "source": [
    "dunham_df.head()"
   ]
  },
  {
   "cell_type": "code",
   "execution_count": 31,
   "metadata": {},
   "outputs": [
    {
     "data": {
      "text/html": [
       "<div>\n",
       "<style scoped>\n",
       "    .dataframe tbody tr th:only-of-type {\n",
       "        vertical-align: middle;\n",
       "    }\n",
       "\n",
       "    .dataframe tbody tr th {\n",
       "        vertical-align: top;\n",
       "    }\n",
       "\n",
       "    .dataframe thead th {\n",
       "        text-align: right;\n",
       "    }\n",
       "</style>\n",
       "<table border=\"1\" class=\"dataframe\">\n",
       "  <thead>\n",
       "    <tr style=\"text-align: right;\">\n",
       "      <th></th>\n",
       "      <th>DATE</th>\n",
       "      <th>CITY1</th>\n",
       "      <th>COUNTRY1</th>\n",
       "      <th>CITY2</th>\n",
       "      <th>COUNTRY2</th>\n",
       "      <th>WORKING</th>\n",
       "      <th>HOTEL_ADDRESS</th>\n",
       "      <th>VENUE1</th>\n",
       "      <th>VENUE_TYPE1</th>\n",
       "      <th>VENUE2</th>\n",
       "      <th>VENUE_TYPE2</th>\n",
       "      <th>NOTES</th>\n",
       "      <th>SOURCE</th>\n",
       "    </tr>\n",
       "  </thead>\n",
       "  <tbody>\n",
       "    <tr>\n",
       "      <th>10</th>\n",
       "      <td>1949-02-06</td>\n",
       "      <td>Rome</td>\n",
       "      <td>Italy</td>\n",
       "      <td></td>\n",
       "      <td></td>\n",
       "      <td>y</td>\n",
       "      <td></td>\n",
       "      <td>Duse</td>\n",
       "      <td>c</td>\n",
       "      <td></td>\n",
       "      <td></td>\n",
       "      <td></td>\n",
       "      <td>Fascio</td>\n",
       "    </tr>\n",
       "  </tbody>\n",
       "</table>\n",
       "</div>"
      ],
      "text/plain": [
       "         DATE CITY1 COUNTRY1 CITY2 COUNTRY2 WORKING HOTEL_ADDRESS VENUE1  \\\n",
       "10 1949-02-06  Rome    Italy                      y                 Duse   \n",
       "\n",
       "   VENUE_TYPE1 VENUE2 VENUE_TYPE2 NOTES  SOURCE  \n",
       "10           c                           Fascio  "
      ]
     },
     "execution_count": 31,
     "metadata": {},
     "output_type": "execute_result"
    }
   ],
   "source": [
    "dunham_df.tail(1)"
   ]
  },
  {
   "cell_type": "markdown",
   "metadata": {},
   "source": [
    "## Pre-processing data"
   ]
  },
  {
   "cell_type": "code",
   "execution_count": 32,
   "metadata": {
    "scrolled": true
   },
   "outputs": [],
   "source": [
    "dunham_df.DATE = dunham_df.DATE.astype(str)\n",
    "for col in dunham_df.columns[1:]:\n",
    "    dunham_df[col] = dunham_df[col].apply(str.strip)"
   ]
  },
  {
   "cell_type": "code",
   "execution_count": 33,
   "metadata": {},
   "outputs": [],
   "source": [
    "def clean_city(x, y):\n",
    "    if x == 'Hamilton':\n",
    "        if y == 'Canada':\n",
    "            r = 'Hamilton (CA)'\n",
    "        else: # y == 'New Zealand'\n",
    "            r = 'Hamilton (NZ)'\n",
    "#     elif x == 'in transit':\n",
    "#         r = ''\n",
    "    else:\n",
    "        r = x\n",
    "    return r\n",
    "\n",
    "dunham_df.CITY1 = dunham_df.apply(lambda row: clean_city(row.CITY1, row.COUNTRY1), axis=1)\n",
    "dunham_df.CITY2 = dunham_df.apply(lambda row: clean_city(row.CITY2, row.COUNTRY2), axis=1)"
   ]
  },
  {
   "cell_type": "code",
   "execution_count": 34,
   "metadata": {},
   "outputs": [],
   "source": [
    "def clean_country(city, country):\n",
    "    x = country\n",
    "    y = city\n",
    "    if y == 'Gibraltar':\n",
    "        r = 'Gibraltar'\n",
    "    elif x == 'Newfoundland':\n",
    "        r = 'Canada'\n",
    "    else:\n",
    "        r = x\n",
    "    return r\n",
    "\n",
    "dunham_df.COUNTRY1 = dunham_df.apply(lambda row: clean_country(row.CITY1, row.COUNTRY1), axis=1)\n",
    "dunham_df.COUNTRY2 = dunham_df.apply(lambda row: clean_country(row.CITY2, row.COUNTRY2), axis=1)"
   ]
  },
  {
   "cell_type": "code",
   "execution_count": 35,
   "metadata": {},
   "outputs": [],
   "source": [
    "# def clean_working(x):\n",
    "#     if x.startswith('[[') and x.endswith(']]'):\n",
    "#         r = ''\n",
    "#     else:\n",
    "#         r = x\n",
    "#     return r\n",
    "\n",
    "# dunham_df.WORKING = dunham_df.WORKING.apply(clean_working)"
   ]
  },
  {
   "cell_type": "code",
   "execution_count": 36,
   "metadata": {},
   "outputs": [],
   "source": [
    "def clean_hotel_address(x):\n",
    "    r = x # do not clean for now\n",
    "    return r\n",
    "\n",
    "dunham_df.HOTEL_ADDRESS = dunham_df.HOTEL_ADDRESS.apply(clean_hotel_address)"
   ]
  },
  {
   "cell_type": "code",
   "execution_count": 37,
   "metadata": {},
   "outputs": [],
   "source": [
    "# def clean_performance_yn(x):\n",
    "#     if x == '?':\n",
    "#         r = ''\n",
    "#     elif x == 'N':\n",
    "#         r = 'n'\n",
    "#     else:\n",
    "#         r = x\n",
    "#     return r\n",
    "\n",
    "# dunham_df.PERFORMANCE_YN = dunham_df.PERFORMANCE_YN.apply(clean_performance_yn)"
   ]
  },
  {
   "cell_type": "code",
   "execution_count": 38,
   "metadata": {},
   "outputs": [],
   "source": [
    "# def clean_theater1(x):\n",
    "#     r = x # do not clean for now\n",
    "#     return r\n",
    "\n",
    "# dunham_df.THEATER1 = dunham_df.THEATER1.apply(clean_theater1)"
   ]
  },
  {
   "cell_type": "code",
   "execution_count": 39,
   "metadata": {},
   "outputs": [],
   "source": [
    "# def clean_theater2(x):\n",
    "#     r = x # do not clean for now\n",
    "#     return r\n",
    "\n",
    "# dunham_df.THEATER2 = dunham_df.THEATER2.apply(clean_theater2)"
   ]
  },
  {
   "cell_type": "code",
   "execution_count": 40,
   "metadata": {},
   "outputs": [],
   "source": [
    "# def clean_mode_transit(x):\n",
    "#     if x == '[[chartered bus Reno to Los Angeles?]]':\n",
    "#         r = 'bus'\n",
    "#     elif x == 'drive':\n",
    "#         r = 'car'\n",
    "#     elif x == 'drive?':\n",
    "#         r = 'car'\n",
    "#     elif x.startswith('plane'):\n",
    "#         r = 'plane'\n",
    "#     elif x == 'train; boat train':\n",
    "#         r = 'train, boat, train'\n",
    "#     elif x == 'train; plane; boat':\n",
    "#         r = 'train, plane, boat'\n",
    "#     else:\n",
    "#         r = x\n",
    "#     return r\n",
    "\n",
    "# dunham_df.MODE_TRANSIT = dunham_df.MODE_TRANSIT.apply(clean_mode_transit)"
   ]
  },
  {
   "cell_type": "code",
   "execution_count": 41,
   "metadata": {},
   "outputs": [],
   "source": [
    "# def clean_transit_cities(x):\n",
    "#     if x == 'Geneva; Rome':\n",
    "#         r = 'Geneva (Switzerland), Rome (Italy)'\n",
    "#     elif x == 'transit to Turin':\n",
    "#         r = ''\n",
    "#     elif x == 'transit through London':\n",
    "#         r = 'London (England)'\n",
    "#     elif x == 'transit: PanAm 201 flies NYC Laguardia - San Juan - Port of Spain - Belem':\n",
    "#         r = 'San Juan (Puerto Rico), Port of Spain (Trinidad and Tobago), Belem (Brazil)'\n",
    "#     elif x == 'Los Cerrillos airport':\n",
    "#         r = ''\n",
    "#     elif x == 'transit':\n",
    "#         r = ''\n",
    "#     elif x == 'destination':\n",
    "#         r = ''\n",
    "#     elif x == 'transit via Boston':\n",
    "#         r = 'Boston (USA)'\n",
    "#     elif x == 'in transit':\n",
    "#         r = ''\n",
    "#     elif x == 'last performance':\n",
    "#         r = ''\n",
    "#     elif x == 'London (Liverpool station), England; Harwich (Harwich Quay), England':\n",
    "#         r = 'Harwich (England)'\n",
    "#     elif x == 'New York':\n",
    "#         r = ''\n",
    "#     elif x == 'Chicago':\n",
    "#         r = 'Chicago (USA)'\n",
    "#     elif x == 'Gander, Newfoundland, Canada':\n",
    "#         r = 'Gander (Canada)'\n",
    "#     elif x == 'Zurich, Switzerland':\n",
    "#         r = 'Zurich (Switzerland)'\n",
    "#     elif x == 'Zurich':\n",
    "#         r = 'Zurich (Switzerland)'\n",
    "#     elif x == 'Rome, Italy; Geneva, Switzerland':\n",
    "#         r = 'Rome (Italy), Geneva (Switzerland)'\n",
    "#     elif x == 'Vevey, Switzerland':\n",
    "#         r = 'Vevey (Switzerland)'\n",
    "#     elif x == 'Amsterdam, Netherlands':\n",
    "#         r = 'Amsterdam (Netherlands)'\n",
    "#     elif x == 'Furet de P*?': # ???\n",
    "#         r = ''\n",
    "#     elif x == 'San Diego; Tijuana':\n",
    "#         r = 'San Diego (USA), Tijuana (Mexico)'\n",
    "#     elif x == 'Portworth':\n",
    "#         r = 'Fort Worth (USA)'\n",
    "#     elif x == 'Miami':\n",
    "#         r = 'Miami (USA)'\n",
    "#     elif x == 'Los Angeles':\n",
    "#         r = 'Los Angeles (USA)'\n",
    "#     elif x == \"El Paso, TX----I think probably this was to go to Mexico, and I don't think she ever went to Mexico\":\n",
    "#         r = 'El Paso (USA)'\n",
    "#     elif x == 'Honolulu':\n",
    "#         r = 'Honolulu (Hawaii)'\n",
    "#     elif x == 'Coolangatta':\n",
    "#         r = 'Coolangatta (Australia)'\n",
    "#     elif x == '[[Dunham Brisbane to Perth via Sydney and Melbourne--date open: https://osu.app.box.com/file/325139873147]]':\n",
    "#         r = ''\n",
    "#     elif x == 'Malacca':\n",
    "#         r = 'Malacca (Malaysia)'\n",
    "#     elif x == 'Amsterdam':\n",
    "#         r = 'Amsterdam (Netherlands)'\n",
    "#     elif x == 'Lyon; Bordeaux; Bayonne':\n",
    "#         r = 'Lyons (France), Bordeaux (France), Bayonne (France)'\n",
    "#     elif x == 'Irun, Spain':\n",
    "#         r = 'Irun (Spain)'\n",
    "#     elif x == 'Irun, Spain; Hendaye, France':\n",
    "#         r = 'Irun (Spain), Hendaye (France)'\n",
    "#     elif x == 'Marseilles':\n",
    "#         r = 'Marseille (France)'\n",
    "#     elif x == 'Piraeus, Greece':\n",
    "#         r = 'Piraeus (Greece)'\n",
    "#     elif x == 'Port Said, Egypt':\n",
    "#         r = 'Port Said (Egypt)'\n",
    "#     elif x == 'Munich':\n",
    "#         r = 'Munich (Germany)'\n",
    "#     elif x == 'Schwarzbach; Ravensberg':\n",
    "#         r = 'Schwarzbach (Germany), Ravensberg (Germany)'\n",
    "#     elif x == 'Colmar; Ligny en Barois; Rosay en Brie':\n",
    "#         r = 'Colmar (France), Ligny-en-Barrois (France), Rozay-en-Brie (France)'\n",
    "#     elif x == 'Verneson; Valence':\n",
    "#         r = 'Vernaison (France), Valence (France)'\n",
    "#     elif x == 'Alicante':\n",
    "#         r = 'Alicante (Spain)'\n",
    "#     elif x == 'Granada':\n",
    "#         r = 'Granada (Spain)'\n",
    "#     elif x == 'La Linea, Spain':\n",
    "#         r = 'La Linea (Spain)'\n",
    "#     else:\n",
    "#         r = x\n",
    "#     return r\n",
    "\n",
    "# dunham_df.TRANSIT_CITIES = dunham_df.TRANSIT_CITIES.apply(clean_transit_cities)"
   ]
  },
  {
   "cell_type": "code",
   "execution_count": 42,
   "metadata": {},
   "outputs": [],
   "source": [
    "def clean_notes(x):\n",
    "    r = x # do not clean for now\n",
    "    return r\n",
    "\n",
    "dunham_df.NOTES = dunham_df.NOTES.apply(clean_notes)"
   ]
  },
  {
   "cell_type": "code",
   "execution_count": 43,
   "metadata": {},
   "outputs": [],
   "source": [
    "def clean_source(x):\n",
    "    r = x # do not clean for now\n",
    "    return r\n",
    "\n",
    "dunham_df.SOURCE = dunham_df.SOURCE.apply(clean_source)"
   ]
  },
  {
   "cell_type": "code",
   "execution_count": 44,
   "metadata": {},
   "outputs": [],
   "source": [
    "dunham_df.fillna('', inplace=True)"
   ]
  },
  {
   "cell_type": "markdown",
   "metadata": {},
   "source": [
    "## Processing data"
   ]
  },
  {
   "cell_type": "code",
   "execution_count": 54,
   "metadata": {},
   "outputs": [],
   "source": [
    "geolocations = { # (lat, lon)\n",
    "    'Mexico City': (19.433333, -99.133333),\n",
    "    'New York City': (40.7127, -74.0059),\n",
    "    'San Diego': (32.715, -117.1625),\n",
    "    'San Francisco': (37.783333, -122.416667),\n",
    "    'Stockton, CA': (37.975556, -121.300833),\n",
    "    'Rome, Italy': (41.902782, 12.496366),\n",
    "    'Amsterdam' : ( 52.3730796,4.8924534),\n",
    "    'Baltimore' : ( 39.2908816,-76.610759),\n",
    "    'Bath' : ( 51.3813864,-2.3596963),\n",
    "    'Berlin' : ( 52.510885,13.3989367),\n",
    "    'Bologna' : ( 44.4938203,11.3426327),\n",
    "    'Brussels' : ( 50.8465573,4.351697),\n",
    "    'Budapest' : ( 47.4978789,19.0402383),\n",
    "    'Cannes' : ( 43.5515198,7.0134418),\n",
    "    'Chicago' : ( 41.8755616,-87.6244212),\n",
    "    'Copenhagen' : ( 55.6867243,12.5700724),\n",
    "    'Deauville' : ( 49.36,0.0752778),\n",
    "    'Dublin' : ( 53.3493795,-6.2605593),\n",
    "    'Florence' : ( 43.7697955,11.2556404),\n",
    "    'Frankfurt' : ( 50.1106444,8.6820917),\n",
    "    'Genoa' : ( 44.40726,8.9338624),\n",
    "    'Hamburg' : ( 53.550341,10.000654),\n",
    "    'Holmdel' : ( 40.3451095,-74.1840322),\n",
    "    'jerusalem' : ( 31.7788242,35.2257626),\n",
    "    'Leningrad' : ( 59.938732,30.316229),\n",
    "    'Liverpool' : ( 53.4071991,-2.99168),\n",
    "    'London' : ( 51.5074456,-0.1277653),\n",
    "    'Madrid' : ( 40.4167047,-3.7035825),\n",
    "    'Mantua' : ( 45.1692628,10.67083652),\n",
    "    'Marseille' : ( 43.2961743,5.3699525),\n",
    "    'Melbourne' : ( -37.8142454,144.9631732),\n",
    "    'Mexico City' : ( 19.4326296,-99.1331785),\n",
    "    'Milano' : ( 45.4641943,9.1896346),\n",
    "    'Monte Carlo' : ( 43.7402961,7.426559),\n",
    "    'Montreal' : ( 45.5031824,-73.5698065),\n",
    "    'Moscow' : ( 55.7505412,37.6174782),\n",
    "    'Nervi' : ( 44.3833121,9.0391295),\n",
    "    'New York' : ( 40.7127281,-74.0060152),\n",
    "    'North Russia' : ( 40.2347473,-84.4071014),\n",
    "    'Palma de Mallorca' : ( 39.5695818,2.6500745),\n",
    "    'Paris' : ( 48.8588897,2.320041022),\n",
    "    'Rome' : ( 41.8933203,12.4829321),\n",
    "    'Scheveningen' : ( 52.1067449,4.2736937),\n",
    "    'Spoleto' : ( 52.663642,-1.580326),\n",
    "    'Stockholm' : ( 59.3251172,18.0710935),\n",
    "    'Stuttgart' : ( 48.7784485,9.1800132),\n",
    "    'Toronto' : ( 43.6534817,-79.3839347),\n",
    "    'Turin' : ( 45.0677551,7.6824892),\n",
    "    'Utrecht' : ( 52.0809856,5.127683969),\n",
    "    'Venice' : ( 45.4371908,12.3345898),\n",
    "    'Verona' : ( 45.4424977,10.98573769),\n",
    "    'Vienna' : ( 48.2083537,16.3725042), \n",
    "}"
   ]
  },
  {
   "cell_type": "markdown",
   "metadata": {},
   "source": [
    "### Grouping locations"
   ]
  },
  {
   "cell_type": "code",
   "execution_count": 46,
   "metadata": {},
   "outputs": [
    {
     "ename": "KeyError",
     "evalue": "'Rome'",
     "output_type": "error",
     "traceback": [
      "\u001b[1;31m---------------------------------------------------------------------------\u001b[0m",
      "\u001b[1;31mKeyError\u001b[0m                                  Traceback (most recent call last)",
      "Cell \u001b[1;32mIn[46], line 9\u001b[0m\n\u001b[0;32m      7\u001b[0m \u001b[38;5;28;01mfor\u001b[39;00m j, city2 \u001b[38;5;129;01min\u001b[39;00m \u001b[38;5;28menumerate\u001b[39m(cities):\n\u001b[0;32m      8\u001b[0m     \u001b[38;5;28;01mif\u001b[39;00m j \u001b[38;5;241m>\u001b[39m i: \u001b[38;5;66;03m# and city1 != city2:\u001b[39;00m\n\u001b[1;32m----> 9\u001b[0m         p2 \u001b[38;5;241m=\u001b[39m \u001b[43mgeolocations\u001b[49m\u001b[43m[\u001b[49m\u001b[43mcity2\u001b[49m\u001b[43m]\u001b[49m\n\u001b[0;32m     10\u001b[0m         dst \u001b[38;5;241m=\u001b[39m geodesic(p1, p2)\u001b[38;5;241m.\u001b[39mkm\n\u001b[0;32m     11\u001b[0m         distances\u001b[38;5;241m.\u001b[39madd((city1, city2, dst))\n",
      "\u001b[1;31mKeyError\u001b[0m: 'Rome'"
     ]
    }
   ],
   "source": [
    "distances = set()\n",
    "cities = set(dunham_df.CITY1.unique()).union(dunham_df.CITY2.unique())\n",
    "cities.discard('')\n",
    "cities.discard('in transit')\n",
    "for i, city1 in enumerate(cities):\n",
    "    p1 = geolocations[city1]\n",
    "    for j, city2 in enumerate(cities):\n",
    "        if j > i: # and city1 != city2:\n",
    "            p2 = geolocations[city2]\n",
    "            dst = geodesic(p1, p2).km\n",
    "            distances.add((city1, city2, dst))"
   ]
  },
  {
   "cell_type": "code",
   "execution_count": 47,
   "metadata": {},
   "outputs": [
    {
     "data": {
      "text/plain": [
       "1"
      ]
     },
     "execution_count": 47,
     "metadata": {},
     "output_type": "execute_result"
    }
   ],
   "source": [
    "len(distances)"
   ]
  },
  {
   "cell_type": "code",
   "execution_count": 48,
   "metadata": {},
   "outputs": [
    {
     "data": {
      "text/plain": [
       "[('Stockton, CA', 'Mexico City', 2970.4516208202813)]"
      ]
     },
     "execution_count": 48,
     "metadata": {},
     "output_type": "execute_result"
    }
   ],
   "source": [
    "sorted(distances, key=lambda x: x[2])[:10]"
   ]
  },
  {
   "cell_type": "code",
   "execution_count": 49,
   "metadata": {},
   "outputs": [],
   "source": [
    "THRESHOLD = 15"
   ]
  },
  {
   "cell_type": "code",
   "execution_count": 50,
   "metadata": {},
   "outputs": [],
   "source": [
    "grouped_cities_dct = {\n",
    "    'Petion-Ville': 'Port-au-Prince',\n",
    "    'Los Angeles': 'Los Angeles area',\n",
    "    'Hollywood': 'Los Angeles area',\n",
    "    'Beverly Hills': 'Los Angeles area',\n",
    "    'Fiesole': 'Florence',\n",
    "#     'Mosman': 'Sydney',\n",
    "}"
   ]
  },
  {
   "cell_type": "code",
   "execution_count": 51,
   "metadata": {},
   "outputs": [],
   "source": [
    "for k in grouped_cities_dct:\n",
    "    dunham_df.replace(k, grouped_cities_dct[k], inplace=True)"
   ]
  },
  {
   "cell_type": "code",
   "execution_count": 52,
   "metadata": {},
   "outputs": [
    {
     "data": {
      "text/plain": [
       "(11, 13)"
      ]
     },
     "execution_count": 52,
     "metadata": {},
     "output_type": "execute_result"
    }
   ],
   "source": [
    "dunham_df.shape"
   ]
  },
  {
   "cell_type": "markdown",
   "metadata": {},
   "source": [
    "## Saving data"
   ]
  },
  {
   "cell_type": "code",
   "execution_count": 53,
   "metadata": {},
   "outputs": [],
   "source": [
    "dunham_df.to_csv('data/out/dunham_1947-60.csv', index=False)"
   ]
  },
  {
   "cell_type": "code",
   "execution_count": null,
   "metadata": {},
   "outputs": [],
   "source": []
  },
  {
   "cell_type": "code",
   "execution_count": null,
   "metadata": {},
   "outputs": [],
   "source": []
  },
  {
   "cell_type": "code",
   "execution_count": null,
   "metadata": {},
   "outputs": [],
   "source": []
  }
 ],
 "metadata": {
  "kernelspec": {
   "display_name": "Python 3 (ipykernel)",
   "language": "python",
   "name": "python3"
  },
  "language_info": {
   "codemirror_mode": {
    "name": "ipython",
    "version": 3
   },
   "file_extension": ".py",
   "mimetype": "text/x-python",
   "name": "python",
   "nbconvert_exporter": "python",
   "pygments_lexer": "ipython3",
   "version": "3.12.8"
  }
 },
 "nbformat": 4,
 "nbformat_minor": 4
}
