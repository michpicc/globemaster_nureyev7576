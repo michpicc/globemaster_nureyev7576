{
 "cells": [
  {
   "cell_type": "markdown",
   "metadata": {},
   "source": [
    "# Dunham's Data"
   ]
  },
  {
   "cell_type": "markdown",
   "metadata": {},
   "source": [
    "## Setting up"
   ]
  },
  {
   "cell_type": "code",
   "execution_count": 329,
   "metadata": {},
   "outputs": [],
   "source": [
    "import math\n",
    "\n",
    "import pandas as pd\n",
    "import seaborn as sns"
   ]
  },
  {
   "cell_type": "code",
   "execution_count": 330,
   "metadata": {},
   "outputs": [],
   "source": [
    "# pd.set_option('display.max_rows', 999)"
   ]
  },
  {
   "cell_type": "code",
   "execution_count": 331,
   "metadata": {},
   "outputs": [],
   "source": [
    "# sns.set()"
   ]
  },
  {
   "cell_type": "code",
   "execution_count": 332,
   "metadata": {},
   "outputs": [],
   "source": [
    "# %matplotlib inline"
   ]
  },
  {
   "cell_type": "markdown",
   "metadata": {},
   "source": [
    "## Loading data"
   ]
  },
  {
   "cell_type": "code",
   "execution_count": 333,
   "metadata": {},
   "outputs": [],
   "source": [
    "itinerary_df = pd.read_csv('data/out/itinerary_1955-92.csv')\n",
    "itinerary_df.fillna('', inplace=True)"
   ]
  },
  {
   "cell_type": "code",
   "execution_count": 334,
   "metadata": {},
   "outputs": [
    {
     "data": {
      "text/plain": [
       "(123, 10)"
      ]
     },
     "execution_count": 334,
     "metadata": {},
     "output_type": "execute_result"
    }
   ],
   "source": [
    "itinerary_df.shape"
   ]
  },
  {
   "cell_type": "code",
   "execution_count": 335,
   "metadata": {
    "scrolled": false
   },
   "outputs": [
    {
     "data": {
      "text/html": [
       "<div>\n",
       "<style scoped>\n",
       "    .dataframe tbody tr th:only-of-type {\n",
       "        vertical-align: middle;\n",
       "    }\n",
       "\n",
       "    .dataframe tbody tr th {\n",
       "        vertical-align: top;\n",
       "    }\n",
       "\n",
       "    .dataframe thead th {\n",
       "        text-align: right;\n",
       "    }\n",
       "</style>\n",
       "<table border=\"1\" class=\"dataframe\">\n",
       "  <thead>\n",
       "    <tr style=\"text-align: right;\">\n",
       "      <th></th>\n",
       "      <th>START_DATE</th>\n",
       "      <th>END_DATE</th>\n",
       "      <th>CITY</th>\n",
       "      <th>COUNTRY</th>\n",
       "      <th>N_ROWS</th>\n",
       "      <th>LAST_MOMENT</th>\n",
       "      <th>MIN_NIGHTS</th>\n",
       "      <th>MAX_NIGHTS</th>\n",
       "      <th>LATITUDE</th>\n",
       "      <th>LONGITUDE</th>\n",
       "    </tr>\n",
       "  </thead>\n",
       "  <tbody>\n",
       "    <tr>\n",
       "      <th>0</th>\n",
       "      <td>1955-01-01 00:00:00</td>\n",
       "      <td>1955-01-01 00:00:00</td>\n",
       "      <td>Moscow</td>\n",
       "      <td>Russia</td>\n",
       "      <td>1</td>\n",
       "      <td>Probably that night</td>\n",
       "      <td>0</td>\n",
       "      <td>1</td>\n",
       "      <td>55.750541</td>\n",
       "      <td>37.617478</td>\n",
       "    </tr>\n",
       "    <tr>\n",
       "      <th>1</th>\n",
       "      <td>1955-08-24 00:00:00</td>\n",
       "      <td>1958-03-02 00:00:00</td>\n",
       "      <td>Leningrad</td>\n",
       "      <td>Russia</td>\n",
       "      <td>13</td>\n",
       "      <td>Probably that night</td>\n",
       "      <td>12</td>\n",
       "      <td>13</td>\n",
       "      <td>59.938732</td>\n",
       "      <td>30.316229</td>\n",
       "    </tr>\n",
       "    <tr>\n",
       "      <th>2</th>\n",
       "      <td>1958-04-21 00:00:00</td>\n",
       "      <td>1958-05-22 00:00:00</td>\n",
       "      <td>Moscow</td>\n",
       "      <td>Russia</td>\n",
       "      <td>4</td>\n",
       "      <td>Probably that night</td>\n",
       "      <td>3</td>\n",
       "      <td>4</td>\n",
       "      <td>55.750541</td>\n",
       "      <td>37.617478</td>\n",
       "    </tr>\n",
       "    <tr>\n",
       "      <th>3</th>\n",
       "      <td>1958-06-19 00:00:00</td>\n",
       "      <td>1959-06-28 00:00:00</td>\n",
       "      <td>Leningrad</td>\n",
       "      <td>Russia</td>\n",
       "      <td>15</td>\n",
       "      <td>Probably that night</td>\n",
       "      <td>14</td>\n",
       "      <td>15</td>\n",
       "      <td>59.938732</td>\n",
       "      <td>30.316229</td>\n",
       "    </tr>\n",
       "    <tr>\n",
       "      <th>4</th>\n",
       "      <td>1959-07-26 00:00:00</td>\n",
       "      <td>1959-08-04 00:00:00</td>\n",
       "      <td>Vienna</td>\n",
       "      <td>Austria</td>\n",
       "      <td>2</td>\n",
       "      <td>Probably that night</td>\n",
       "      <td>1</td>\n",
       "      <td>2</td>\n",
       "      <td>48.208354</td>\n",
       "      <td>16.372504</td>\n",
       "    </tr>\n",
       "    <tr>\n",
       "      <th>...</th>\n",
       "      <td>...</td>\n",
       "      <td>...</td>\n",
       "      <td>...</td>\n",
       "      <td>...</td>\n",
       "      <td>...</td>\n",
       "      <td>...</td>\n",
       "      <td>...</td>\n",
       "      <td>...</td>\n",
       "      <td>...</td>\n",
       "      <td>...</td>\n",
       "    </tr>\n",
       "    <tr>\n",
       "      <th>118</th>\n",
       "      <td>1992-01-01 00:00:00</td>\n",
       "      <td>1992-01-01 00:00:00</td>\n",
       "      <td>Vienna</td>\n",
       "      <td>Austria</td>\n",
       "      <td>1</td>\n",
       "      <td>Probably that night</td>\n",
       "      <td>0</td>\n",
       "      <td>1</td>\n",
       "      <td>48.208354</td>\n",
       "      <td>16.372504</td>\n",
       "    </tr>\n",
       "    <tr>\n",
       "      <th>119</th>\n",
       "      <td>1992-02-28 00:00:00</td>\n",
       "      <td>1992-02-28 00:00:00</td>\n",
       "      <td>Budapest</td>\n",
       "      <td>Hungary</td>\n",
       "      <td>1</td>\n",
       "      <td>Probably that night</td>\n",
       "      <td>0</td>\n",
       "      <td>1</td>\n",
       "      <td>47.497879</td>\n",
       "      <td>19.040238</td>\n",
       "    </tr>\n",
       "    <tr>\n",
       "      <th>120</th>\n",
       "      <td>1992-02-29 00:00:00</td>\n",
       "      <td>1992-02-29 00:00:00</td>\n",
       "      <td>Berlin</td>\n",
       "      <td>Germany</td>\n",
       "      <td>1</td>\n",
       "      <td>Probably that night</td>\n",
       "      <td>0</td>\n",
       "      <td>1</td>\n",
       "      <td>52.510885</td>\n",
       "      <td>13.398937</td>\n",
       "    </tr>\n",
       "    <tr>\n",
       "      <th>121</th>\n",
       "      <td>1992-03-01 00:00:00</td>\n",
       "      <td>1992-03-01 00:00:00</td>\n",
       "      <td>Budapest</td>\n",
       "      <td>Hungary</td>\n",
       "      <td>1</td>\n",
       "      <td>Probably that night</td>\n",
       "      <td>0</td>\n",
       "      <td>1</td>\n",
       "      <td>47.497879</td>\n",
       "      <td>19.040238</td>\n",
       "    </tr>\n",
       "    <tr>\n",
       "      <th>122</th>\n",
       "      <td>1992-10-08 00:00:00</td>\n",
       "      <td>31/8/1992</td>\n",
       "      <td>Paris</td>\n",
       "      <td>France</td>\n",
       "      <td>2</td>\n",
       "      <td>Probably that night</td>\n",
       "      <td>1</td>\n",
       "      <td>2</td>\n",
       "      <td>48.858890</td>\n",
       "      <td>2.320041</td>\n",
       "    </tr>\n",
       "  </tbody>\n",
       "</table>\n",
       "<p>123 rows × 10 columns</p>\n",
       "</div>"
      ],
      "text/plain": [
       "              START_DATE             END_DATE       CITY  COUNTRY  N_ROWS  \\\n",
       "0    1955-01-01 00:00:00  1955-01-01 00:00:00     Moscow   Russia       1   \n",
       "1    1955-08-24 00:00:00  1958-03-02 00:00:00  Leningrad   Russia      13   \n",
       "2    1958-04-21 00:00:00  1958-05-22 00:00:00     Moscow   Russia       4   \n",
       "3    1958-06-19 00:00:00  1959-06-28 00:00:00  Leningrad   Russia      15   \n",
       "4    1959-07-26 00:00:00  1959-08-04 00:00:00     Vienna  Austria       2   \n",
       "..                   ...                  ...        ...      ...     ...   \n",
       "118  1992-01-01 00:00:00  1992-01-01 00:00:00     Vienna  Austria       1   \n",
       "119  1992-02-28 00:00:00  1992-02-28 00:00:00   Budapest  Hungary       1   \n",
       "120  1992-02-29 00:00:00  1992-02-29 00:00:00     Berlin  Germany       1   \n",
       "121  1992-03-01 00:00:00  1992-03-01 00:00:00   Budapest  Hungary       1   \n",
       "122  1992-10-08 00:00:00            31/8/1992      Paris   France       2   \n",
       "\n",
       "             LAST_MOMENT  MIN_NIGHTS  MAX_NIGHTS   LATITUDE  LONGITUDE  \n",
       "0    Probably that night           0           1  55.750541  37.617478  \n",
       "1    Probably that night          12          13  59.938732  30.316229  \n",
       "2    Probably that night           3           4  55.750541  37.617478  \n",
       "3    Probably that night          14          15  59.938732  30.316229  \n",
       "4    Probably that night           1           2  48.208354  16.372504  \n",
       "..                   ...         ...         ...        ...        ...  \n",
       "118  Probably that night           0           1  48.208354  16.372504  \n",
       "119  Probably that night           0           1  47.497879  19.040238  \n",
       "120  Probably that night           0           1  52.510885  13.398937  \n",
       "121  Probably that night           0           1  47.497879  19.040238  \n",
       "122  Probably that night           1           2  48.858890   2.320041  \n",
       "\n",
       "[123 rows x 10 columns]"
      ]
     },
     "execution_count": 335,
     "metadata": {},
     "output_type": "execute_result"
    }
   ],
   "source": [
    "itinerary_df"
   ]
  },
  {
   "cell_type": "markdown",
   "metadata": {},
   "source": [
    "## Pre-processing data"
   ]
  },
  {
   "cell_type": "code",
   "execution_count": 336,
   "metadata": {},
   "outputs": [
    {
     "data": {
      "text/html": [
       "<div>\n",
       "<style scoped>\n",
       "    .dataframe tbody tr th:only-of-type {\n",
       "        vertical-align: middle;\n",
       "    }\n",
       "\n",
       "    .dataframe tbody tr th {\n",
       "        vertical-align: top;\n",
       "    }\n",
       "\n",
       "    .dataframe thead th {\n",
       "        text-align: right;\n",
       "    }\n",
       "</style>\n",
       "<table border=\"1\" class=\"dataframe\">\n",
       "  <thead>\n",
       "    <tr style=\"text-align: right;\">\n",
       "      <th></th>\n",
       "      <th>START_DATE</th>\n",
       "      <th>END_DATE</th>\n",
       "      <th>CITY</th>\n",
       "      <th>COUNTRY</th>\n",
       "      <th>N_ROWS</th>\n",
       "      <th>LAST_MOMENT</th>\n",
       "      <th>MIN_NIGHTS</th>\n",
       "      <th>MAX_NIGHTS</th>\n",
       "      <th>LATITUDE</th>\n",
       "      <th>LONGITUDE</th>\n",
       "    </tr>\n",
       "  </thead>\n",
       "  <tbody>\n",
       "    <tr>\n",
       "      <th>118</th>\n",
       "      <td>1992-01-01 00:00:00</td>\n",
       "      <td>1992-01-01 00:00:00</td>\n",
       "      <td>Vienna</td>\n",
       "      <td>Austria</td>\n",
       "      <td>1</td>\n",
       "      <td>Probably that night</td>\n",
       "      <td>0</td>\n",
       "      <td>1</td>\n",
       "      <td>48.208354</td>\n",
       "      <td>16.372504</td>\n",
       "    </tr>\n",
       "    <tr>\n",
       "      <th>119</th>\n",
       "      <td>1992-02-28 00:00:00</td>\n",
       "      <td>1992-02-28 00:00:00</td>\n",
       "      <td>Budapest</td>\n",
       "      <td>Hungary</td>\n",
       "      <td>1</td>\n",
       "      <td>Probably that night</td>\n",
       "      <td>0</td>\n",
       "      <td>1</td>\n",
       "      <td>47.497879</td>\n",
       "      <td>19.040238</td>\n",
       "    </tr>\n",
       "    <tr>\n",
       "      <th>120</th>\n",
       "      <td>1992-02-29 00:00:00</td>\n",
       "      <td>1992-02-29 00:00:00</td>\n",
       "      <td>Berlin</td>\n",
       "      <td>Germany</td>\n",
       "      <td>1</td>\n",
       "      <td>Probably that night</td>\n",
       "      <td>0</td>\n",
       "      <td>1</td>\n",
       "      <td>52.510885</td>\n",
       "      <td>13.398937</td>\n",
       "    </tr>\n",
       "    <tr>\n",
       "      <th>121</th>\n",
       "      <td>1992-03-01 00:00:00</td>\n",
       "      <td>1992-03-01 00:00:00</td>\n",
       "      <td>Budapest</td>\n",
       "      <td>Hungary</td>\n",
       "      <td>1</td>\n",
       "      <td>Probably that night</td>\n",
       "      <td>0</td>\n",
       "      <td>1</td>\n",
       "      <td>47.497879</td>\n",
       "      <td>19.040238</td>\n",
       "    </tr>\n",
       "    <tr>\n",
       "      <th>122</th>\n",
       "      <td>1992-10-08 00:00:00</td>\n",
       "      <td>31/8/1992</td>\n",
       "      <td>Paris</td>\n",
       "      <td>France</td>\n",
       "      <td>2</td>\n",
       "      <td>Probably that night</td>\n",
       "      <td>1</td>\n",
       "      <td>2</td>\n",
       "      <td>48.858890</td>\n",
       "      <td>2.320041</td>\n",
       "    </tr>\n",
       "  </tbody>\n",
       "</table>\n",
       "</div>"
      ],
      "text/plain": [
       "              START_DATE             END_DATE      CITY  COUNTRY  N_ROWS  \\\n",
       "118  1992-01-01 00:00:00  1992-01-01 00:00:00    Vienna  Austria       1   \n",
       "119  1992-02-28 00:00:00  1992-02-28 00:00:00  Budapest  Hungary       1   \n",
       "120  1992-02-29 00:00:00  1992-02-29 00:00:00    Berlin  Germany       1   \n",
       "121  1992-03-01 00:00:00  1992-03-01 00:00:00  Budapest  Hungary       1   \n",
       "122  1992-10-08 00:00:00            31/8/1992     Paris   France       2   \n",
       "\n",
       "             LAST_MOMENT  MIN_NIGHTS  MAX_NIGHTS   LATITUDE  LONGITUDE  \n",
       "118  Probably that night           0           1  48.208354  16.372504  \n",
       "119  Probably that night           0           1  47.497879  19.040238  \n",
       "120  Probably that night           0           1  52.510885  13.398937  \n",
       "121  Probably that night           0           1  47.497879  19.040238  \n",
       "122  Probably that night           1           2  48.858890   2.320041  "
      ]
     },
     "execution_count": 336,
     "metadata": {},
     "output_type": "execute_result"
    }
   ],
   "source": [
    "itinerary_df = itinerary_df[pd.to_datetime(itinerary_df.START_DATE) < '1993'].copy()\n",
    "itinerary_df.tail()"
   ]
  },
  {
   "cell_type": "code",
   "execution_count": 337,
   "metadata": {},
   "outputs": [
    {
     "name": "stderr",
     "output_type": "stream",
     "text": [
      "C:\\Users\\mricci\\AppData\\Local\\Temp\\ipykernel_31076\\4204671717.py:2: UserWarning: Parsing dates in DD/MM/YYYY format when dayfirst=False (the default) was specified. This may lead to inconsistently parsed dates! Specify a format to ensure consistent parsing.\n",
      "  last_date = pd.to_datetime(itinerary_df.END_DATE.iloc[-1])\n"
     ]
    }
   ],
   "source": [
    "first_date = pd.to_datetime(itinerary_df.START_DATE.iloc[0].split('-')[0])\n",
    "last_date = pd.to_datetime(itinerary_df.END_DATE.iloc[-1])\n",
    "total_days = (last_date - first_date).days + 1"
   ]
  },
  {
   "cell_type": "code",
   "execution_count": 338,
   "metadata": {},
   "outputs": [
    {
     "data": {
      "text/plain": [
       "13758"
      ]
     },
     "execution_count": 338,
     "metadata": {},
     "output_type": "execute_result"
    }
   ],
   "source": [
    "total_days"
   ]
  },
  {
   "cell_type": "code",
   "execution_count": 339,
   "metadata": {},
   "outputs": [
    {
     "name": "stdout",
     "output_type": "stream",
     "text": [
      "ERROR\n",
      "ERROR\n",
      "ERROR\n",
      "ERROR\n"
     ]
    }
   ],
   "source": [
    "itinerary_df['GROUP'] = 0\n",
    "group = 1\n",
    "itinerary_df.loc[0, 'GROUP'] = group\n",
    "for i, row in itinerary_df[1:].iterrows():\n",
    "    prev_row = itinerary_df.loc[i-1]\n",
    "    prev_row_end_date = pd.to_datetime(prev_row['END_DATE'])\n",
    "    curr_row_start_date = pd.to_datetime(row['START_DATE'])\n",
    "    n_days = (curr_row_start_date - prev_row_end_date).days\n",
    "    if n_days == 0:\n",
    "        print('ERROR')\n",
    "    elif n_days <= 7:\n",
    "        pass\n",
    "    else: # n_days > 7\n",
    "        group += 1\n",
    "    itinerary_df.loc[i, 'GROUP'] = group"
   ]
  },
  {
   "cell_type": "code",
   "execution_count": 340,
   "metadata": {},
   "outputs": [
    {
     "data": {
      "text/html": [
       "<div>\n",
       "<style scoped>\n",
       "    .dataframe tbody tr th:only-of-type {\n",
       "        vertical-align: middle;\n",
       "    }\n",
       "\n",
       "    .dataframe tbody tr th {\n",
       "        vertical-align: top;\n",
       "    }\n",
       "\n",
       "    .dataframe thead th {\n",
       "        text-align: right;\n",
       "    }\n",
       "</style>\n",
       "<table border=\"1\" class=\"dataframe\">\n",
       "  <thead>\n",
       "    <tr style=\"text-align: right;\">\n",
       "      <th></th>\n",
       "      <th>START_DATE</th>\n",
       "      <th>END_DATE</th>\n",
       "      <th>CITY</th>\n",
       "      <th>COUNTRY</th>\n",
       "      <th>N_ROWS</th>\n",
       "      <th>LAST_MOMENT</th>\n",
       "      <th>MIN_NIGHTS</th>\n",
       "      <th>MAX_NIGHTS</th>\n",
       "      <th>LATITUDE</th>\n",
       "      <th>LONGITUDE</th>\n",
       "      <th>GROUP</th>\n",
       "    </tr>\n",
       "  </thead>\n",
       "  <tbody>\n",
       "    <tr>\n",
       "      <th>0</th>\n",
       "      <td>1955-01-01 00:00:00</td>\n",
       "      <td>1955-01-01 00:00:00</td>\n",
       "      <td>Moscow</td>\n",
       "      <td>Russia</td>\n",
       "      <td>1</td>\n",
       "      <td>Probably that night</td>\n",
       "      <td>0</td>\n",
       "      <td>1</td>\n",
       "      <td>55.750541</td>\n",
       "      <td>37.617478</td>\n",
       "      <td>1</td>\n",
       "    </tr>\n",
       "    <tr>\n",
       "      <th>1</th>\n",
       "      <td>1955-08-24 00:00:00</td>\n",
       "      <td>1958-03-02 00:00:00</td>\n",
       "      <td>Leningrad</td>\n",
       "      <td>Russia</td>\n",
       "      <td>13</td>\n",
       "      <td>Probably that night</td>\n",
       "      <td>12</td>\n",
       "      <td>13</td>\n",
       "      <td>59.938732</td>\n",
       "      <td>30.316229</td>\n",
       "      <td>2</td>\n",
       "    </tr>\n",
       "    <tr>\n",
       "      <th>2</th>\n",
       "      <td>1958-04-21 00:00:00</td>\n",
       "      <td>1958-05-22 00:00:00</td>\n",
       "      <td>Moscow</td>\n",
       "      <td>Russia</td>\n",
       "      <td>4</td>\n",
       "      <td>Probably that night</td>\n",
       "      <td>3</td>\n",
       "      <td>4</td>\n",
       "      <td>55.750541</td>\n",
       "      <td>37.617478</td>\n",
       "      <td>3</td>\n",
       "    </tr>\n",
       "    <tr>\n",
       "      <th>3</th>\n",
       "      <td>1958-06-19 00:00:00</td>\n",
       "      <td>1959-06-28 00:00:00</td>\n",
       "      <td>Leningrad</td>\n",
       "      <td>Russia</td>\n",
       "      <td>15</td>\n",
       "      <td>Probably that night</td>\n",
       "      <td>14</td>\n",
       "      <td>15</td>\n",
       "      <td>59.938732</td>\n",
       "      <td>30.316229</td>\n",
       "      <td>4</td>\n",
       "    </tr>\n",
       "    <tr>\n",
       "      <th>4</th>\n",
       "      <td>1959-07-26 00:00:00</td>\n",
       "      <td>1959-08-04 00:00:00</td>\n",
       "      <td>Vienna</td>\n",
       "      <td>Austria</td>\n",
       "      <td>2</td>\n",
       "      <td>Probably that night</td>\n",
       "      <td>1</td>\n",
       "      <td>2</td>\n",
       "      <td>48.208354</td>\n",
       "      <td>16.372504</td>\n",
       "      <td>5</td>\n",
       "    </tr>\n",
       "  </tbody>\n",
       "</table>\n",
       "</div>"
      ],
      "text/plain": [
       "            START_DATE             END_DATE       CITY  COUNTRY  N_ROWS  \\\n",
       "0  1955-01-01 00:00:00  1955-01-01 00:00:00     Moscow   Russia       1   \n",
       "1  1955-08-24 00:00:00  1958-03-02 00:00:00  Leningrad   Russia      13   \n",
       "2  1958-04-21 00:00:00  1958-05-22 00:00:00     Moscow   Russia       4   \n",
       "3  1958-06-19 00:00:00  1959-06-28 00:00:00  Leningrad   Russia      15   \n",
       "4  1959-07-26 00:00:00  1959-08-04 00:00:00     Vienna  Austria       2   \n",
       "\n",
       "           LAST_MOMENT  MIN_NIGHTS  MAX_NIGHTS   LATITUDE  LONGITUDE  GROUP  \n",
       "0  Probably that night           0           1  55.750541  37.617478      1  \n",
       "1  Probably that night          12          13  59.938732  30.316229      2  \n",
       "2  Probably that night           3           4  55.750541  37.617478      3  \n",
       "3  Probably that night          14          15  59.938732  30.316229      4  \n",
       "4  Probably that night           1           2  48.208354  16.372504      5  "
      ]
     },
     "execution_count": 340,
     "metadata": {},
     "output_type": "execute_result"
    }
   ],
   "source": [
    "itinerary_df.head()"
   ]
  },
  {
   "cell_type": "code",
   "execution_count": 341,
   "metadata": {},
   "outputs": [
    {
     "data": {
      "text/html": [
       "<div>\n",
       "<style scoped>\n",
       "    .dataframe tbody tr th:only-of-type {\n",
       "        vertical-align: middle;\n",
       "    }\n",
       "\n",
       "    .dataframe tbody tr th {\n",
       "        vertical-align: top;\n",
       "    }\n",
       "\n",
       "    .dataframe thead th {\n",
       "        text-align: right;\n",
       "    }\n",
       "</style>\n",
       "<table border=\"1\" class=\"dataframe\">\n",
       "  <thead>\n",
       "    <tr style=\"text-align: right;\">\n",
       "      <th></th>\n",
       "      <th>START_DATE</th>\n",
       "      <th>END_DATE</th>\n",
       "      <th>CITY</th>\n",
       "      <th>COUNTRY</th>\n",
       "      <th>N_ROWS</th>\n",
       "      <th>LAST_MOMENT</th>\n",
       "      <th>MIN_NIGHTS</th>\n",
       "      <th>MAX_NIGHTS</th>\n",
       "      <th>LATITUDE</th>\n",
       "      <th>LONGITUDE</th>\n",
       "      <th>GROUP</th>\n",
       "    </tr>\n",
       "  </thead>\n",
       "  <tbody>\n",
       "    <tr>\n",
       "      <th>118</th>\n",
       "      <td>1992-01-01 00:00:00</td>\n",
       "      <td>1992-01-01 00:00:00</td>\n",
       "      <td>Vienna</td>\n",
       "      <td>Austria</td>\n",
       "      <td>1</td>\n",
       "      <td>Probably that night</td>\n",
       "      <td>0</td>\n",
       "      <td>1</td>\n",
       "      <td>48.208354</td>\n",
       "      <td>16.372504</td>\n",
       "      <td>96</td>\n",
       "    </tr>\n",
       "    <tr>\n",
       "      <th>119</th>\n",
       "      <td>1992-02-28 00:00:00</td>\n",
       "      <td>1992-02-28 00:00:00</td>\n",
       "      <td>Budapest</td>\n",
       "      <td>Hungary</td>\n",
       "      <td>1</td>\n",
       "      <td>Probably that night</td>\n",
       "      <td>0</td>\n",
       "      <td>1</td>\n",
       "      <td>47.497879</td>\n",
       "      <td>19.040238</td>\n",
       "      <td>97</td>\n",
       "    </tr>\n",
       "    <tr>\n",
       "      <th>120</th>\n",
       "      <td>1992-02-29 00:00:00</td>\n",
       "      <td>1992-02-29 00:00:00</td>\n",
       "      <td>Berlin</td>\n",
       "      <td>Germany</td>\n",
       "      <td>1</td>\n",
       "      <td>Probably that night</td>\n",
       "      <td>0</td>\n",
       "      <td>1</td>\n",
       "      <td>52.510885</td>\n",
       "      <td>13.398937</td>\n",
       "      <td>97</td>\n",
       "    </tr>\n",
       "    <tr>\n",
       "      <th>121</th>\n",
       "      <td>1992-03-01 00:00:00</td>\n",
       "      <td>1992-03-01 00:00:00</td>\n",
       "      <td>Budapest</td>\n",
       "      <td>Hungary</td>\n",
       "      <td>1</td>\n",
       "      <td>Probably that night</td>\n",
       "      <td>0</td>\n",
       "      <td>1</td>\n",
       "      <td>47.497879</td>\n",
       "      <td>19.040238</td>\n",
       "      <td>97</td>\n",
       "    </tr>\n",
       "    <tr>\n",
       "      <th>122</th>\n",
       "      <td>1992-10-08 00:00:00</td>\n",
       "      <td>31/8/1992</td>\n",
       "      <td>Paris</td>\n",
       "      <td>France</td>\n",
       "      <td>2</td>\n",
       "      <td>Probably that night</td>\n",
       "      <td>1</td>\n",
       "      <td>2</td>\n",
       "      <td>48.858890</td>\n",
       "      <td>2.320041</td>\n",
       "      <td>98</td>\n",
       "    </tr>\n",
       "  </tbody>\n",
       "</table>\n",
       "</div>"
      ],
      "text/plain": [
       "              START_DATE             END_DATE      CITY  COUNTRY  N_ROWS  \\\n",
       "118  1992-01-01 00:00:00  1992-01-01 00:00:00    Vienna  Austria       1   \n",
       "119  1992-02-28 00:00:00  1992-02-28 00:00:00  Budapest  Hungary       1   \n",
       "120  1992-02-29 00:00:00  1992-02-29 00:00:00    Berlin  Germany       1   \n",
       "121  1992-03-01 00:00:00  1992-03-01 00:00:00  Budapest  Hungary       1   \n",
       "122  1992-10-08 00:00:00            31/8/1992     Paris   France       2   \n",
       "\n",
       "             LAST_MOMENT  MIN_NIGHTS  MAX_NIGHTS   LATITUDE  LONGITUDE  GROUP  \n",
       "118  Probably that night           0           1  48.208354  16.372504     96  \n",
       "119  Probably that night           0           1  47.497879  19.040238     97  \n",
       "120  Probably that night           0           1  52.510885  13.398937     97  \n",
       "121  Probably that night           0           1  47.497879  19.040238     97  \n",
       "122  Probably that night           1           2  48.858890   2.320041     98  "
      ]
     },
     "execution_count": 341,
     "metadata": {},
     "output_type": "execute_result"
    }
   ],
   "source": [
    "itinerary_df.tail()"
   ]
  },
  {
   "cell_type": "code",
   "execution_count": 342,
   "metadata": {},
   "outputs": [],
   "source": [
    "aux_df = itinerary_df.drop_duplicates('CITY', keep='last') \\\n",
    "    [['CITY', 'LATITUDE', 'LONGITUDE', 'GROUP', 'END_DATE']]"
   ]
  },
  {
   "cell_type": "code",
   "execution_count": 343,
   "metadata": {},
   "outputs": [
    {
     "data": {
      "text/html": [
       "<div>\n",
       "<style scoped>\n",
       "    .dataframe tbody tr th:only-of-type {\n",
       "        vertical-align: middle;\n",
       "    }\n",
       "\n",
       "    .dataframe tbody tr th {\n",
       "        vertical-align: top;\n",
       "    }\n",
       "\n",
       "    .dataframe thead th {\n",
       "        text-align: right;\n",
       "    }\n",
       "</style>\n",
       "<table border=\"1\" class=\"dataframe\">\n",
       "  <thead>\n",
       "    <tr style=\"text-align: right;\">\n",
       "      <th></th>\n",
       "      <th>CITY</th>\n",
       "      <th>LATITUDE</th>\n",
       "      <th>LONGITUDE</th>\n",
       "      <th>GROUP</th>\n",
       "      <th>END_DATE</th>\n",
       "    </tr>\n",
       "  </thead>\n",
       "  <tbody>\n",
       "    <tr>\n",
       "      <th>6</th>\n",
       "      <td>Moscow</td>\n",
       "      <td>55.750541</td>\n",
       "      <td>37.617478</td>\n",
       "      <td>6</td>\n",
       "      <td>1960-06-26 00:00:00</td>\n",
       "    </tr>\n",
       "    <tr>\n",
       "      <th>11</th>\n",
       "      <td>North Russia</td>\n",
       "      <td>40.234747</td>\n",
       "      <td>-84.407101</td>\n",
       "      <td>9</td>\n",
       "      <td>1960-12-01 00:00:00</td>\n",
       "    </tr>\n",
       "    <tr>\n",
       "      <th>14</th>\n",
       "      <td>Leningrad</td>\n",
       "      <td>59.938732</td>\n",
       "      <td>30.316229</td>\n",
       "      <td>11</td>\n",
       "      <td>1961-05-19 00:00:00</td>\n",
       "    </tr>\n",
       "    <tr>\n",
       "      <th>18</th>\n",
       "      <td>Frankfurt</td>\n",
       "      <td>50.110644</td>\n",
       "      <td>8.682092</td>\n",
       "      <td>12</td>\n",
       "      <td>1961-08-02 00:00:00</td>\n",
       "    </tr>\n",
       "    <tr>\n",
       "      <th>20</th>\n",
       "      <td>Deauville</td>\n",
       "      <td>49.360000</td>\n",
       "      <td>0.075278</td>\n",
       "      <td>13</td>\n",
       "      <td>1961-08-12 00:00:00</td>\n",
       "    </tr>\n",
       "  </tbody>\n",
       "</table>\n",
       "</div>"
      ],
      "text/plain": [
       "            CITY   LATITUDE  LONGITUDE  GROUP             END_DATE\n",
       "6         Moscow  55.750541  37.617478      6  1960-06-26 00:00:00\n",
       "11  North Russia  40.234747 -84.407101      9  1960-12-01 00:00:00\n",
       "14     Leningrad  59.938732  30.316229     11  1961-05-19 00:00:00\n",
       "18     Frankfurt  50.110644   8.682092     12  1961-08-02 00:00:00\n",
       "20     Deauville  49.360000   0.075278     13  1961-08-12 00:00:00"
      ]
     },
     "execution_count": 343,
     "metadata": {},
     "output_type": "execute_result"
    }
   ],
   "source": [
    "aux_df.head()"
   ]
  },
  {
   "cell_type": "markdown",
   "metadata": {},
   "source": [
    "## Processing data"
   ]
  },
  {
   "cell_type": "code",
   "execution_count": 344,
   "metadata": {},
   "outputs": [],
   "source": [
    "def next_year(d_str):\n",
    "    return pd.to_datetime('{}-01-01'.format(int(d_str.split('-')[0]) + 1))\n",
    "\n",
    "def altitud_year(d):\n",
    "    return (d - first_date).days# + 1"
   ]
  },
  {
   "cell_type": "code",
   "execution_count": 345,
   "metadata": {},
   "outputs": [
    {
     "name": "stderr",
     "output_type": "stream",
     "text": [
      "C:\\Users\\mricci\\AppData\\Local\\Temp\\ipykernel_31076\\3629784302.py:3: UserWarning: Parsing dates in DD/MM/YYYY format when dayfirst=False (the default) was specified. This may lead to inconsistently parsed dates! Specify a format to ensure consistent parsing.\n",
      "  points_df['ALTITUDE'] = aux_df['END_DATE'].apply(lambda x: altitud_year(pd.to_datetime(x)))\n"
     ]
    }
   ],
   "source": [
    "points_df = aux_df[['LATITUDE', 'LONGITUDE', 'CITY']].copy()\n",
    "# points_df['ALTITUDE'] = aux_df['END_DATE'].apply(lambda x: altitud_year(next_year(x)))\n",
    "points_df['ALTITUDE'] = aux_df['END_DATE'].apply(lambda x: altitud_year(pd.to_datetime(x)))"
   ]
  },
  {
   "cell_type": "code",
   "execution_count": 346,
   "metadata": {},
   "outputs": [
    {
     "data": {
      "text/plain": [
       "(46, 4)"
      ]
     },
     "execution_count": 346,
     "metadata": {},
     "output_type": "execute_result"
    }
   ],
   "source": [
    "points_df.shape"
   ]
  },
  {
   "cell_type": "code",
   "execution_count": 347,
   "metadata": {},
   "outputs": [
    {
     "data": {
      "text/html": [
       "<div>\n",
       "<style scoped>\n",
       "    .dataframe tbody tr th:only-of-type {\n",
       "        vertical-align: middle;\n",
       "    }\n",
       "\n",
       "    .dataframe tbody tr th {\n",
       "        vertical-align: top;\n",
       "    }\n",
       "\n",
       "    .dataframe thead th {\n",
       "        text-align: right;\n",
       "    }\n",
       "</style>\n",
       "<table border=\"1\" class=\"dataframe\">\n",
       "  <thead>\n",
       "    <tr style=\"text-align: right;\">\n",
       "      <th></th>\n",
       "      <th>LATITUDE</th>\n",
       "      <th>LONGITUDE</th>\n",
       "      <th>CITY</th>\n",
       "      <th>ALTITUDE</th>\n",
       "    </tr>\n",
       "  </thead>\n",
       "  <tbody>\n",
       "    <tr>\n",
       "      <th>6</th>\n",
       "      <td>55.750541</td>\n",
       "      <td>37.617478</td>\n",
       "      <td>Moscow</td>\n",
       "      <td>2003</td>\n",
       "    </tr>\n",
       "    <tr>\n",
       "      <th>11</th>\n",
       "      <td>40.234747</td>\n",
       "      <td>-84.407101</td>\n",
       "      <td>North Russia</td>\n",
       "      <td>2161</td>\n",
       "    </tr>\n",
       "    <tr>\n",
       "      <th>14</th>\n",
       "      <td>59.938732</td>\n",
       "      <td>30.316229</td>\n",
       "      <td>Leningrad</td>\n",
       "      <td>2330</td>\n",
       "    </tr>\n",
       "    <tr>\n",
       "      <th>18</th>\n",
       "      <td>50.110644</td>\n",
       "      <td>8.682092</td>\n",
       "      <td>Frankfurt</td>\n",
       "      <td>2405</td>\n",
       "    </tr>\n",
       "    <tr>\n",
       "      <th>20</th>\n",
       "      <td>49.360000</td>\n",
       "      <td>0.075278</td>\n",
       "      <td>Deauville</td>\n",
       "      <td>2415</td>\n",
       "    </tr>\n",
       "  </tbody>\n",
       "</table>\n",
       "</div>"
      ],
      "text/plain": [
       "     LATITUDE  LONGITUDE          CITY  ALTITUDE\n",
       "6   55.750541  37.617478        Moscow      2003\n",
       "11  40.234747 -84.407101  North Russia      2161\n",
       "14  59.938732  30.316229     Leningrad      2330\n",
       "18  50.110644   8.682092     Frankfurt      2405\n",
       "20  49.360000   0.075278     Deauville      2415"
      ]
     },
     "execution_count": 347,
     "metadata": {},
     "output_type": "execute_result"
    }
   ],
   "source": [
    "points_df.head()"
   ]
  },
  {
   "cell_type": "code",
   "execution_count": 348,
   "metadata": {},
   "outputs": [],
   "source": [
    "cities_df = aux_df[['CITY', 'LATITUDE', 'LONGITUDE']].copy()\n",
    "cities_df.columns = ['TEXT', 'LATITUDE', 'LONGITUDE']\n",
    "cities_df['ALTITUDE'] = 0\n",
    "cities_df['TYPE'] = 'city'"
   ]
  },
  {
   "cell_type": "code",
   "execution_count": 349,
   "metadata": {},
   "outputs": [
    {
     "data": {
      "text/plain": [
       "(46, 5)"
      ]
     },
     "execution_count": 349,
     "metadata": {},
     "output_type": "execute_result"
    }
   ],
   "source": [
    "cities_df.shape"
   ]
  },
  {
   "cell_type": "code",
   "execution_count": 350,
   "metadata": {},
   "outputs": [
    {
     "data": {
      "text/html": [
       "<div>\n",
       "<style scoped>\n",
       "    .dataframe tbody tr th:only-of-type {\n",
       "        vertical-align: middle;\n",
       "    }\n",
       "\n",
       "    .dataframe tbody tr th {\n",
       "        vertical-align: top;\n",
       "    }\n",
       "\n",
       "    .dataframe thead th {\n",
       "        text-align: right;\n",
       "    }\n",
       "</style>\n",
       "<table border=\"1\" class=\"dataframe\">\n",
       "  <thead>\n",
       "    <tr style=\"text-align: right;\">\n",
       "      <th></th>\n",
       "      <th>TEXT</th>\n",
       "      <th>LATITUDE</th>\n",
       "      <th>LONGITUDE</th>\n",
       "      <th>ALTITUDE</th>\n",
       "      <th>TYPE</th>\n",
       "    </tr>\n",
       "  </thead>\n",
       "  <tbody>\n",
       "    <tr>\n",
       "      <th>6</th>\n",
       "      <td>Moscow</td>\n",
       "      <td>55.750541</td>\n",
       "      <td>37.617478</td>\n",
       "      <td>0</td>\n",
       "      <td>city</td>\n",
       "    </tr>\n",
       "    <tr>\n",
       "      <th>11</th>\n",
       "      <td>North Russia</td>\n",
       "      <td>40.234747</td>\n",
       "      <td>-84.407101</td>\n",
       "      <td>0</td>\n",
       "      <td>city</td>\n",
       "    </tr>\n",
       "    <tr>\n",
       "      <th>14</th>\n",
       "      <td>Leningrad</td>\n",
       "      <td>59.938732</td>\n",
       "      <td>30.316229</td>\n",
       "      <td>0</td>\n",
       "      <td>city</td>\n",
       "    </tr>\n",
       "    <tr>\n",
       "      <th>18</th>\n",
       "      <td>Frankfurt</td>\n",
       "      <td>50.110644</td>\n",
       "      <td>8.682092</td>\n",
       "      <td>0</td>\n",
       "      <td>city</td>\n",
       "    </tr>\n",
       "    <tr>\n",
       "      <th>20</th>\n",
       "      <td>Deauville</td>\n",
       "      <td>49.360000</td>\n",
       "      <td>0.075278</td>\n",
       "      <td>0</td>\n",
       "      <td>city</td>\n",
       "    </tr>\n",
       "  </tbody>\n",
       "</table>\n",
       "</div>"
      ],
      "text/plain": [
       "            TEXT   LATITUDE  LONGITUDE  ALTITUDE  TYPE\n",
       "6         Moscow  55.750541  37.617478         0  city\n",
       "11  North Russia  40.234747 -84.407101         0  city\n",
       "14     Leningrad  59.938732  30.316229         0  city\n",
       "18     Frankfurt  50.110644   8.682092         0  city\n",
       "20     Deauville  49.360000   0.075278         0  city"
      ]
     },
     "execution_count": 350,
     "metadata": {},
     "output_type": "execute_result"
    }
   ],
   "source": [
    "cities_df.head()"
   ]
  },
  {
   "cell_type": "code",
   "execution_count": 351,
   "metadata": {},
   "outputs": [
    {
     "ename": "ValueError",
     "evalue": "invalid literal for int() with base 10: '31/8/1992'",
     "output_type": "error",
     "traceback": [
      "\u001b[1;31m---------------------------------------------------------------------------\u001b[0m",
      "\u001b[1;31mValueError\u001b[0m                                Traceback (most recent call last)",
      "Cell \u001b[1;32mIn[351], line 4\u001b[0m\n\u001b[0;32m      2\u001b[0m \u001b[38;5;28;01mfor\u001b[39;00m i, row \u001b[38;5;129;01min\u001b[39;00m aux_df\u001b[38;5;241m.\u001b[39miterrows():\n\u001b[0;32m      3\u001b[0m     end_date \u001b[38;5;241m=\u001b[39m aux_df\u001b[38;5;241m.\u001b[39mloc[i, \u001b[38;5;124m'\u001b[39m\u001b[38;5;124mEND_DATE\u001b[39m\u001b[38;5;124m'\u001b[39m]\n\u001b[1;32m----> 4\u001b[0m     next_year_date \u001b[38;5;241m=\u001b[39m \u001b[43mnext_year\u001b[49m\u001b[43m(\u001b[49m\u001b[43mend_date\u001b[49m\u001b[43m)\u001b[49m\n\u001b[0;32m      5\u001b[0m \u001b[38;5;66;03m#     print(aux_df.loc[i, 'CITY'], end_date)\u001b[39;00m\n\u001b[0;32m      6\u001b[0m \u001b[38;5;66;03m#     print(pd.date_range(first_date, next_year_date, freq='YS'))\u001b[39;00m\n\u001b[0;32m      7\u001b[0m     \u001b[38;5;28;01mfor\u001b[39;00m d \u001b[38;5;129;01min\u001b[39;00m pd\u001b[38;5;241m.\u001b[39mdate_range(first_date, next_year_date, freq\u001b[38;5;241m=\u001b[39m\u001b[38;5;124m'\u001b[39m\u001b[38;5;124mYS\u001b[39m\u001b[38;5;124m'\u001b[39m):\n",
      "Cell \u001b[1;32mIn[344], line 2\u001b[0m, in \u001b[0;36mnext_year\u001b[1;34m(d_str)\u001b[0m\n\u001b[0;32m      1\u001b[0m \u001b[38;5;28;01mdef\u001b[39;00m \u001b[38;5;21mnext_year\u001b[39m(d_str):\n\u001b[1;32m----> 2\u001b[0m     \u001b[38;5;28;01mreturn\u001b[39;00m pd\u001b[38;5;241m.\u001b[39mto_datetime(\u001b[38;5;124m'\u001b[39m\u001b[38;5;132;01m{}\u001b[39;00m\u001b[38;5;124m-01-01\u001b[39m\u001b[38;5;124m'\u001b[39m\u001b[38;5;241m.\u001b[39mformat(\u001b[38;5;28;43mint\u001b[39;49m\u001b[43m(\u001b[49m\u001b[43md_str\u001b[49m\u001b[38;5;241;43m.\u001b[39;49m\u001b[43msplit\u001b[49m\u001b[43m(\u001b[49m\u001b[38;5;124;43m'\u001b[39;49m\u001b[38;5;124;43m-\u001b[39;49m\u001b[38;5;124;43m'\u001b[39;49m\u001b[43m)\u001b[49m\u001b[43m[\u001b[49m\u001b[38;5;241;43m0\u001b[39;49m\u001b[43m]\u001b[49m\u001b[43m)\u001b[49m \u001b[38;5;241m+\u001b[39m \u001b[38;5;241m1\u001b[39m))\n",
      "\u001b[1;31mValueError\u001b[0m: invalid literal for int() with base 10: '31/8/1992'"
     ]
    }
   ],
   "source": [
    "years_df = pd.DataFrame(columns=['TEXT', 'LATITUDE', 'LONGITUDE', 'ALTITUDE', 'TYPE'])\n",
    "for i, row in aux_df.iterrows():\n",
    "    end_date = aux_df.loc[i, 'END_DATE']\n",
    "    next_year_date = next_year(end_date)\n",
    "#     print(aux_df.loc[i, 'CITY'], end_date)\n",
    "#     print(pd.date_range(first_date, next_year_date, freq='YS'))\n",
    "    for d in pd.date_range(first_date, next_year_date, freq='YS'):\n",
    "        years_df.loc[len(years_df)] = [str(d.year), row['LATITUDE'], row['LONGITUDE'], altitud_year(d), 'year']"
   ]
  },
  {
   "cell_type": "code",
   "execution_count": null,
   "metadata": {},
   "outputs": [],
   "source": [
    "years_df.shape"
   ]
  },
  {
   "cell_type": "code",
   "execution_count": null,
   "metadata": {},
   "outputs": [],
   "source": [
    "years_df.head(10)"
   ]
  },
  {
   "cell_type": "code",
   "execution_count": 352,
   "metadata": {},
   "outputs": [],
   "source": [
    "labels_df = pd.concat([cities_df, years_df], ignore_index=True)"
   ]
  },
  {
   "cell_type": "code",
   "execution_count": 353,
   "metadata": {},
   "outputs": [
    {
     "data": {
      "text/plain": [
       "(951, 5)"
      ]
     },
     "execution_count": 353,
     "metadata": {},
     "output_type": "execute_result"
    }
   ],
   "source": [
    "labels_df.shape"
   ]
  },
  {
   "cell_type": "code",
   "execution_count": 354,
   "metadata": {},
   "outputs": [
    {
     "name": "stderr",
     "output_type": "stream",
     "text": [
      "C:\\Users\\mricci\\AppData\\Local\\Temp\\ipykernel_31076\\663310921.py:14: UserWarning: Parsing dates in DD/MM/YYYY format when dayfirst=False (the default) was specified. This may lead to inconsistently parsed dates! Specify a format to ensure consistent parsing.\n",
      "  paths_df.loc[i*2+1, 'ALTITUDE'] =  (pd.to_datetime(row['END_DATE']) - first_date).days\n",
      "C:\\Users\\mricci\\AppData\\Local\\Temp\\ipykernel_31076\\663310921.py:2: UserWarning: Parsing dates in DD/MM/YYYY format when dayfirst=False (the default) was specified. This may lead to inconsistently parsed dates! Specify a format to ensure consistent parsing.\n",
      "  return pd.to_datetime(date_str).strftime('%b %d, %Y').replace(' 0', ' ')\n"
     ]
    }
   ],
   "source": [
    "def format_date(date_str):\n",
    "    return pd.to_datetime(date_str).strftime('%b %d, %Y').replace(' 0', ' ')\n",
    "\n",
    "paths_df = pd.DataFrame(columns=['LATITUDE', 'LONGITUDE', 'ALTITUDE', 'GROUP', 'CITY', 'DATE'])\n",
    "for i, row in itinerary_df.iterrows():\n",
    "    paths_df.loc[i*2, 'LATITUDE'] = row['LATITUDE']\n",
    "    paths_df.loc[i*2, 'LONGITUDE'] = row['LONGITUDE']\n",
    "    paths_df.loc[i*2, 'ALTITUDE'] =  (pd.to_datetime(row['START_DATE']) - first_date).days\n",
    "    paths_df.loc[i*2, 'GROUP'] = row['GROUP']\n",
    "    paths_df.loc[i*2, 'CITY'] = row['CITY']\n",
    "    paths_df.loc[i*2, 'DATE'] = format_date(row['START_DATE'])\n",
    "    paths_df.loc[i*2+1, 'LATITUDE'] = paths_df.loc[i*2, 'LATITUDE']\n",
    "    paths_df.loc[i*2+1, 'LONGITUDE'] = paths_df.loc[i*2, 'LONGITUDE']\n",
    "    paths_df.loc[i*2+1, 'ALTITUDE'] =  (pd.to_datetime(row['END_DATE']) - first_date).days\n",
    "#     paths_df.loc[i*2+1, 'ALTITUDE'] =  paths_df.loc[i*2, 'ALTITUDE'] + row['MAX_NIGHTS']\n",
    "    paths_df.loc[i*2+1, 'GROUP'] = paths_df.loc[i*2, 'GROUP']\n",
    "    paths_df.loc[i*2+1, 'CITY'] = paths_df.loc[i*2, 'CITY']\n",
    "    paths_df.loc[i*2+1, 'DATE'] = format_date(row['END_DATE'])\n",
    "# paths_df['COLOR'] = paths_df['GROUP'].apply(rgb01Hex)"
   ]
  },
  {
   "cell_type": "code",
   "execution_count": 355,
   "metadata": {},
   "outputs": [
    {
     "data": {
      "text/plain": [
       "(246, 6)"
      ]
     },
     "execution_count": 355,
     "metadata": {},
     "output_type": "execute_result"
    }
   ],
   "source": [
    "paths_df.shape"
   ]
  },
  {
   "cell_type": "code",
   "execution_count": 356,
   "metadata": {},
   "outputs": [
    {
     "data": {
      "text/html": [
       "<div>\n",
       "<style scoped>\n",
       "    .dataframe tbody tr th:only-of-type {\n",
       "        vertical-align: middle;\n",
       "    }\n",
       "\n",
       "    .dataframe tbody tr th {\n",
       "        vertical-align: top;\n",
       "    }\n",
       "\n",
       "    .dataframe thead th {\n",
       "        text-align: right;\n",
       "    }\n",
       "</style>\n",
       "<table border=\"1\" class=\"dataframe\">\n",
       "  <thead>\n",
       "    <tr style=\"text-align: right;\">\n",
       "      <th></th>\n",
       "      <th>LATITUDE</th>\n",
       "      <th>LONGITUDE</th>\n",
       "      <th>ALTITUDE</th>\n",
       "      <th>GROUP</th>\n",
       "      <th>CITY</th>\n",
       "      <th>DATE</th>\n",
       "    </tr>\n",
       "  </thead>\n",
       "  <tbody>\n",
       "    <tr>\n",
       "      <th>0</th>\n",
       "      <td>55.750541</td>\n",
       "      <td>37.617478</td>\n",
       "      <td>0</td>\n",
       "      <td>1</td>\n",
       "      <td>Moscow</td>\n",
       "      <td>Jan 1, 1955</td>\n",
       "    </tr>\n",
       "    <tr>\n",
       "      <th>1</th>\n",
       "      <td>55.750541</td>\n",
       "      <td>37.617478</td>\n",
       "      <td>0</td>\n",
       "      <td>1</td>\n",
       "      <td>Moscow</td>\n",
       "      <td>Jan 1, 1955</td>\n",
       "    </tr>\n",
       "    <tr>\n",
       "      <th>2</th>\n",
       "      <td>59.938732</td>\n",
       "      <td>30.316229</td>\n",
       "      <td>235</td>\n",
       "      <td>2</td>\n",
       "      <td>Leningrad</td>\n",
       "      <td>Aug 24, 1955</td>\n",
       "    </tr>\n",
       "    <tr>\n",
       "      <th>3</th>\n",
       "      <td>59.938732</td>\n",
       "      <td>30.316229</td>\n",
       "      <td>1156</td>\n",
       "      <td>2</td>\n",
       "      <td>Leningrad</td>\n",
       "      <td>Mar 2, 1958</td>\n",
       "    </tr>\n",
       "    <tr>\n",
       "      <th>4</th>\n",
       "      <td>55.750541</td>\n",
       "      <td>37.617478</td>\n",
       "      <td>1206</td>\n",
       "      <td>3</td>\n",
       "      <td>Moscow</td>\n",
       "      <td>Apr 21, 1958</td>\n",
       "    </tr>\n",
       "  </tbody>\n",
       "</table>\n",
       "</div>"
      ],
      "text/plain": [
       "    LATITUDE  LONGITUDE ALTITUDE GROUP       CITY          DATE\n",
       "0  55.750541  37.617478        0     1     Moscow   Jan 1, 1955\n",
       "1  55.750541  37.617478        0     1     Moscow   Jan 1, 1955\n",
       "2  59.938732  30.316229      235     2  Leningrad  Aug 24, 1955\n",
       "3  59.938732  30.316229     1156     2  Leningrad   Mar 2, 1958\n",
       "4  55.750541  37.617478     1206     3     Moscow  Apr 21, 1958"
      ]
     },
     "execution_count": 356,
     "metadata": {},
     "output_type": "execute_result"
    }
   ],
   "source": [
    "paths_df.head()"
   ]
  },
  {
   "cell_type": "code",
   "execution_count": 357,
   "metadata": {},
   "outputs": [
    {
     "data": {
      "text/html": [
       "<div>\n",
       "<style scoped>\n",
       "    .dataframe tbody tr th:only-of-type {\n",
       "        vertical-align: middle;\n",
       "    }\n",
       "\n",
       "    .dataframe tbody tr th {\n",
       "        vertical-align: top;\n",
       "    }\n",
       "\n",
       "    .dataframe thead th {\n",
       "        text-align: right;\n",
       "    }\n",
       "</style>\n",
       "<table border=\"1\" class=\"dataframe\">\n",
       "  <thead>\n",
       "    <tr style=\"text-align: right;\">\n",
       "      <th></th>\n",
       "      <th>LATITUDE</th>\n",
       "      <th>LONGITUDE</th>\n",
       "      <th>ALTITUDE</th>\n",
       "      <th>GROUP</th>\n",
       "      <th>CITY</th>\n",
       "      <th>DATE</th>\n",
       "    </tr>\n",
       "  </thead>\n",
       "  <tbody>\n",
       "    <tr>\n",
       "      <th>241</th>\n",
       "      <td>52.510885</td>\n",
       "      <td>13.398937</td>\n",
       "      <td>13573</td>\n",
       "      <td>97</td>\n",
       "      <td>Berlin</td>\n",
       "      <td>Feb 29, 1992</td>\n",
       "    </tr>\n",
       "    <tr>\n",
       "      <th>242</th>\n",
       "      <td>47.497879</td>\n",
       "      <td>19.040238</td>\n",
       "      <td>13574</td>\n",
       "      <td>97</td>\n",
       "      <td>Budapest</td>\n",
       "      <td>Mar 1, 1992</td>\n",
       "    </tr>\n",
       "    <tr>\n",
       "      <th>243</th>\n",
       "      <td>47.497879</td>\n",
       "      <td>19.040238</td>\n",
       "      <td>13574</td>\n",
       "      <td>97</td>\n",
       "      <td>Budapest</td>\n",
       "      <td>Mar 1, 1992</td>\n",
       "    </tr>\n",
       "    <tr>\n",
       "      <th>244</th>\n",
       "      <td>48.85889</td>\n",
       "      <td>2.320041</td>\n",
       "      <td>13795</td>\n",
       "      <td>98</td>\n",
       "      <td>Paris</td>\n",
       "      <td>Oct 8, 1992</td>\n",
       "    </tr>\n",
       "    <tr>\n",
       "      <th>245</th>\n",
       "      <td>48.85889</td>\n",
       "      <td>2.320041</td>\n",
       "      <td>13757</td>\n",
       "      <td>98</td>\n",
       "      <td>Paris</td>\n",
       "      <td>Aug 31, 1992</td>\n",
       "    </tr>\n",
       "  </tbody>\n",
       "</table>\n",
       "</div>"
      ],
      "text/plain": [
       "      LATITUDE  LONGITUDE ALTITUDE GROUP      CITY          DATE\n",
       "241  52.510885  13.398937    13573    97    Berlin  Feb 29, 1992\n",
       "242  47.497879  19.040238    13574    97  Budapest   Mar 1, 1992\n",
       "243  47.497879  19.040238    13574    97  Budapest   Mar 1, 1992\n",
       "244   48.85889   2.320041    13795    98     Paris   Oct 8, 1992\n",
       "245   48.85889   2.320041    13757    98     Paris  Aug 31, 1992"
      ]
     },
     "execution_count": 357,
     "metadata": {},
     "output_type": "execute_result"
    }
   ],
   "source": [
    "paths_df.tail()"
   ]
  },
  {
   "cell_type": "code",
   "execution_count": 358,
   "metadata": {},
   "outputs": [],
   "source": [
    "total_lines = len(paths_df) - 1"
   ]
  },
  {
   "cell_type": "code",
   "execution_count": 359,
   "metadata": {},
   "outputs": [
    {
     "data": {
      "text/plain": [
       "245"
      ]
     },
     "execution_count": 359,
     "metadata": {},
     "output_type": "execute_result"
    }
   ],
   "source": [
    "total_lines"
   ]
  },
  {
   "cell_type": "code",
   "execution_count": 360,
   "metadata": {},
   "outputs": [],
   "source": [
    "N = 300"
   ]
  },
  {
   "cell_type": "code",
   "execution_count": 361,
   "metadata": {},
   "outputs": [
    {
     "data": {
      "image/png": "[encoded data removed]",
      "text/plain": [
       "<Figure size 300x100 with 1 Axes>"
      ]
     },
     "metadata": {},
     "output_type": "display_data"
    }
   ],
   "source": [
    "# Color 1\n",
    "palette1 = sns.color_palette('YlOrRd', n_colors=total_lines+N*2)[N:-N]\n",
    "# sns.palplot(palette1)\n",
    "sns.palplot([palette1[0], palette1[len(palette1)//2], palette1[-1]])"
   ]
  },
  {
   "cell_type": "code",
   "execution_count": 362,
   "metadata": {},
   "outputs": [
    {
     "data": {
      "image/png": "[encoded data removed]",
      "text/plain": [
       "<Figure size 300x100 with 1 Axes>"
      ]
     },
     "metadata": {},
     "output_type": "display_data"
    }
   ],
   "source": [
    "# Color 1R\n",
    "palette1r = sns.color_palette('YlOrRd', n_colors=total_lines+N*2)[-N:N:-1]\n",
    "# sns.palplot(palette1)\n",
    "sns.palplot([palette1[0], palette1[len(palette1)//2], palette1[-1]])"
   ]
  },
  {
   "cell_type": "code",
   "execution_count": 363,
   "metadata": {},
   "outputs": [
    {
     "data": {
      "image/png": "[encoded data removed]",
      "text/plain": [
       "<Figure size 300x100 with 1 Axes>"
      ]
     },
     "metadata": {},
     "output_type": "display_data"
    }
   ],
   "source": [
    "# Color 2\n",
    "palette2 = sns.color_palette('Blues', n_colors=total_lines+N*2)[N:-N]\n",
    "# sns.palplot(palette2)\n",
    "sns.palplot([palette2[0], palette2[len(palette2)//2], palette2[-1]])"
   ]
  },
  {
   "cell_type": "code",
   "execution_count": 364,
   "metadata": {},
   "outputs": [
    {
     "data": {
      "image/png": "[encoded data removed]",
      "text/plain": [
       "<Figure size 300x100 with 1 Axes>"
      ]
     },
     "metadata": {},
     "output_type": "display_data"
    }
   ],
   "source": [
    "# Color 3\n",
    "palette3 = sns.color_palette('BuPu', n_colors=total_lines+N*2)[N:-N]\n",
    "# sns.palplot(palette3)\n",
    "sns.palplot([palette3[0], palette3[len(palette3)//2], palette3[-1]])"
   ]
  },
  {
   "cell_type": "code",
   "execution_count": 365,
   "metadata": {},
   "outputs": [
    {
     "data": {
      "image/png": "[encoded data removed]",
      "text/plain": [
       "<Figure size 300x100 with 1 Axes>"
      ]
     },
     "metadata": {},
     "output_type": "display_data"
    }
   ],
   "source": [
    "# Color 4\n",
    "palette4 = sns.color_palette('GnBu', n_colors=total_lines+N*2)[N:-N]\n",
    "# sns.palplot(palette4)\n",
    "sns.palplot([palette4[0], palette4[len(palette4)//2], palette4[-1]])"
   ]
  },
  {
   "cell_type": "code",
   "execution_count": 366,
   "metadata": {},
   "outputs": [],
   "source": [
    "def rgb01Hex(n, palette):\n",
    "    c = palette[n]\n",
    "    r = int(round(c[0] * 255))\n",
    "    g = int(round(c[1] * 255))\n",
    "    b = int(round(c[2] * 255))\n",
    "    h = '#%02x%02x%02x' % (r, g, b)\n",
    "    return h"
   ]
  },
  {
   "cell_type": "code",
   "execution_count": 367,
   "metadata": {},
   "outputs": [],
   "source": [
    "path_colors_df = pd.DataFrame(columns=[\n",
    "    'CITY1', 'CITY2', 'HEXCODE1', 'HEXCODE1R', 'HEXCODE2', 'HEXCODE3', 'HEXCODE4',\n",
    "])\n",
    "prev_g = paths_df.GROUP[0]\n",
    "for curr_g in paths_df.GROUP[1:]:\n",
    "    i = len(path_colors_df)\n",
    "    if curr_g == prev_g:\n",
    "        path_colors_df.loc[i] = [\n",
    "            paths_df.loc[i, 'CITY'],\n",
    "            paths_df.loc[i+1, 'CITY'],\n",
    "            rgb01Hex(i, palette1),\n",
    "            rgb01Hex(i, palette1r),\n",
    "            rgb01Hex(i, palette2),\n",
    "            rgb01Hex(i, palette3),\n",
    "            rgb01Hex(i, palette4),\n",
    "        ]\n",
    "    else:\n",
    "        path_colors_df.loc[i] = [\n",
    "            paths_df.loc[i, 'CITY'],\n",
    "            paths_df.loc[i+1, 'CITY'],\n",
    "            'grey', 'grey', 'grey', 'grey', 'grey',\n",
    "        ]\n",
    "    prev_g = curr_g"
   ]
  },
  {
   "cell_type": "code",
   "execution_count": 368,
   "metadata": {},
   "outputs": [
    {
     "data": {
      "text/plain": [
       "(245, 7)"
      ]
     },
     "execution_count": 368,
     "metadata": {},
     "output_type": "execute_result"
    }
   ],
   "source": [
    "path_colors_df.shape"
   ]
  },
  {
   "cell_type": "code",
   "execution_count": 369,
   "metadata": {
    "scrolled": false
   },
   "outputs": [
    {
     "data": {
      "text/html": [
       "<div>\n",
       "<style scoped>\n",
       "    .dataframe tbody tr th:only-of-type {\n",
       "        vertical-align: middle;\n",
       "    }\n",
       "\n",
       "    .dataframe tbody tr th {\n",
       "        vertical-align: top;\n",
       "    }\n",
       "\n",
       "    .dataframe thead th {\n",
       "        text-align: right;\n",
       "    }\n",
       "</style>\n",
       "<table border=\"1\" class=\"dataframe\">\n",
       "  <thead>\n",
       "    <tr style=\"text-align: right;\">\n",
       "      <th></th>\n",
       "      <th>CITY1</th>\n",
       "      <th>CITY2</th>\n",
       "      <th>HEXCODE1</th>\n",
       "      <th>HEXCODE1R</th>\n",
       "      <th>HEXCODE2</th>\n",
       "      <th>HEXCODE3</th>\n",
       "      <th>HEXCODE4</th>\n",
       "    </tr>\n",
       "  </thead>\n",
       "  <tbody>\n",
       "    <tr>\n",
       "      <th>0</th>\n",
       "      <td>Moscow</td>\n",
       "      <td>Moscow</td>\n",
       "      <td>#feb852</td>\n",
       "      <td>#f84528</td>\n",
       "      <td>#a4cce3</td>\n",
       "      <td>#a3bfdc</td>\n",
       "      <td>#addfb7</td>\n",
       "    </tr>\n",
       "    <tr>\n",
       "      <th>1</th>\n",
       "      <td>Moscow</td>\n",
       "      <td>Leningrad</td>\n",
       "      <td>grey</td>\n",
       "      <td>grey</td>\n",
       "      <td>grey</td>\n",
       "      <td>grey</td>\n",
       "      <td>grey</td>\n",
       "    </tr>\n",
       "    <tr>\n",
       "      <th>2</th>\n",
       "      <td>Leningrad</td>\n",
       "      <td>Leningrad</td>\n",
       "      <td>#feb852</td>\n",
       "      <td>#f84628</td>\n",
       "      <td>#a4cce3</td>\n",
       "      <td>#a3bfdc</td>\n",
       "      <td>#addfb7</td>\n",
       "    </tr>\n",
       "    <tr>\n",
       "      <th>3</th>\n",
       "      <td>Leningrad</td>\n",
       "      <td>Moscow</td>\n",
       "      <td>grey</td>\n",
       "      <td>grey</td>\n",
       "      <td>grey</td>\n",
       "      <td>grey</td>\n",
       "      <td>grey</td>\n",
       "    </tr>\n",
       "    <tr>\n",
       "      <th>4</th>\n",
       "      <td>Moscow</td>\n",
       "      <td>Moscow</td>\n",
       "      <td>#feb651</td>\n",
       "      <td>#f84628</td>\n",
       "      <td>#a3cce3</td>\n",
       "      <td>#a2bfdb</td>\n",
       "      <td>#acdfb7</td>\n",
       "    </tr>\n",
       "  </tbody>\n",
       "</table>\n",
       "</div>"
      ],
      "text/plain": [
       "       CITY1      CITY2 HEXCODE1 HEXCODE1R HEXCODE2 HEXCODE3 HEXCODE4\n",
       "0     Moscow     Moscow  #feb852   #f84528  #a4cce3  #a3bfdc  #addfb7\n",
       "1     Moscow  Leningrad     grey      grey     grey     grey     grey\n",
       "2  Leningrad  Leningrad  #feb852   #f84628  #a4cce3  #a3bfdc  #addfb7\n",
       "3  Leningrad     Moscow     grey      grey     grey     grey     grey\n",
       "4     Moscow     Moscow  #feb651   #f84628  #a3cce3  #a2bfdb  #acdfb7"
      ]
     },
     "execution_count": 369,
     "metadata": {},
     "output_type": "execute_result"
    }
   ],
   "source": [
    "path_colors_df.head()"
   ]
  },
  {
   "cell_type": "code",
   "execution_count": 370,
   "metadata": {},
   "outputs": [
    {
     "data": {
      "text/html": [
       "<div>\n",
       "<style scoped>\n",
       "    .dataframe tbody tr th:only-of-type {\n",
       "        vertical-align: middle;\n",
       "    }\n",
       "\n",
       "    .dataframe tbody tr th {\n",
       "        vertical-align: top;\n",
       "    }\n",
       "\n",
       "    .dataframe thead th {\n",
       "        text-align: right;\n",
       "    }\n",
       "</style>\n",
       "<table border=\"1\" class=\"dataframe\">\n",
       "  <thead>\n",
       "    <tr style=\"text-align: right;\">\n",
       "      <th></th>\n",
       "      <th>CITY1</th>\n",
       "      <th>CITY2</th>\n",
       "      <th>HEXCODE1</th>\n",
       "      <th>HEXCODE1R</th>\n",
       "      <th>HEXCODE2</th>\n",
       "      <th>HEXCODE3</th>\n",
       "      <th>HEXCODE4</th>\n",
       "    </tr>\n",
       "  </thead>\n",
       "  <tbody>\n",
       "    <tr>\n",
       "      <th>240</th>\n",
       "      <td>Berlin</td>\n",
       "      <td>Berlin</td>\n",
       "      <td>#f94828</td>\n",
       "      <td>#feb651</td>\n",
       "      <td>#3e8ec4</td>\n",
       "      <td>#8c66af</td>\n",
       "      <td>#4aafd1</td>\n",
       "    </tr>\n",
       "    <tr>\n",
       "      <th>241</th>\n",
       "      <td>Berlin</td>\n",
       "      <td>Budapest</td>\n",
       "      <td>#f84628</td>\n",
       "      <td>#feb651</td>\n",
       "      <td>#3d8dc4</td>\n",
       "      <td>#8b65ae</td>\n",
       "      <td>#49add0</td>\n",
       "    </tr>\n",
       "    <tr>\n",
       "      <th>242</th>\n",
       "      <td>Budapest</td>\n",
       "      <td>Budapest</td>\n",
       "      <td>#f84628</td>\n",
       "      <td>#feb852</td>\n",
       "      <td>#3d8dc4</td>\n",
       "      <td>#8b65ae</td>\n",
       "      <td>#49add0</td>\n",
       "    </tr>\n",
       "    <tr>\n",
       "      <th>243</th>\n",
       "      <td>Budapest</td>\n",
       "      <td>Paris</td>\n",
       "      <td>grey</td>\n",
       "      <td>grey</td>\n",
       "      <td>grey</td>\n",
       "      <td>grey</td>\n",
       "      <td>grey</td>\n",
       "    </tr>\n",
       "    <tr>\n",
       "      <th>244</th>\n",
       "      <td>Paris</td>\n",
       "      <td>Paris</td>\n",
       "      <td>#f84628</td>\n",
       "      <td>#feb852</td>\n",
       "      <td>#3d8dc4</td>\n",
       "      <td>#8b65ae</td>\n",
       "      <td>#49add0</td>\n",
       "    </tr>\n",
       "  </tbody>\n",
       "</table>\n",
       "</div>"
      ],
      "text/plain": [
       "        CITY1     CITY2 HEXCODE1 HEXCODE1R HEXCODE2 HEXCODE3 HEXCODE4\n",
       "240    Berlin    Berlin  #f94828   #feb651  #3e8ec4  #8c66af  #4aafd1\n",
       "241    Berlin  Budapest  #f84628   #feb651  #3d8dc4  #8b65ae  #49add0\n",
       "242  Budapest  Budapest  #f84628   #feb852  #3d8dc4  #8b65ae  #49add0\n",
       "243  Budapest     Paris     grey      grey     grey     grey     grey\n",
       "244     Paris     Paris  #f84628   #feb852  #3d8dc4  #8b65ae  #49add0"
      ]
     },
     "execution_count": 370,
     "metadata": {},
     "output_type": "execute_result"
    }
   ],
   "source": [
    "path_colors_df.tail()"
   ]
  },
  {
   "cell_type": "code",
   "execution_count": 371,
   "metadata": {},
   "outputs": [],
   "source": [
    "# sns.palplot(path_colors_df.HEXCODE1)"
   ]
  },
  {
   "cell_type": "code",
   "execution_count": 372,
   "metadata": {},
   "outputs": [],
   "source": [
    "# sns.palplot(path_colors_df.HEXCODE1R)"
   ]
  },
  {
   "cell_type": "code",
   "execution_count": 373,
   "metadata": {},
   "outputs": [],
   "source": [
    "# sns.palplot(path_colors_df.HEXCODE2)"
   ]
  },
  {
   "cell_type": "code",
   "execution_count": 374,
   "metadata": {},
   "outputs": [],
   "source": [
    "# sns.palplot(path_colors_df.HEXCODE3)"
   ]
  },
  {
   "cell_type": "code",
   "execution_count": 375,
   "metadata": {},
   "outputs": [],
   "source": [
    "# sns.palplot(path_colors_df.HEXCODE4)"
   ]
  },
  {
   "cell_type": "markdown",
   "metadata": {},
   "source": [
    "## Saving data"
   ]
  },
  {
   "cell_type": "code",
   "execution_count": 376,
   "metadata": {},
   "outputs": [],
   "source": [
    "points_df.to_csv('web/data/points4760.csv', index=False)\n",
    "labels_df.to_csv('web/data/labels4760.csv', index=False)\n",
    "paths_df.to_csv('web/data/paths4760.csv', index=False)\n",
    "path_colors_df.to_csv('web/data/path_colors4760.csv', index=False)"
   ]
  },
  {
   "cell_type": "code",
   "execution_count": null,
   "metadata": {},
   "outputs": [],
   "source": []
  },
  {
   "cell_type": "code",
   "execution_count": null,
   "metadata": {},
   "outputs": [],
   "source": []
  }
 ],
 "metadata": {
  "kernelspec": {
   "display_name": "Python 3 (ipykernel)",
   "language": "python",
   "name": "python3"
  },
  "language_info": {
   "codemirror_mode": {
    "name": "ipython",
    "version": 3
   },
   "file_extension": ".py",
   "mimetype": "text/x-python",
   "name": "python",
   "nbconvert_exporter": "python",
   "pygments_lexer": "ipython3",
   "version": "3.12.8"
  }
 },
 "nbformat": 4,
 "nbformat_minor": 2
}
