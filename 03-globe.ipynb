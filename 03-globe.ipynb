{
 "cells": [
  {
   "cell_type": "markdown",
   "metadata": {},
   "source": [
    "# Dunham's Data"
   ]
  },
  {
   "cell_type": "markdown",
   "metadata": {},
   "source": [
    "## Setting up"
   ]
  },
  {
   "cell_type": "code",
   "execution_count": 51,
   "metadata": {},
   "outputs": [],
   "source": [
    "import math\n",
    "\n",
    "import pandas as pd\n",
    "import seaborn as sns"
   ]
  },
  {
   "cell_type": "code",
   "execution_count": 52,
   "metadata": {},
   "outputs": [],
   "source": [
    "# pd.set_option('display.max_rows', 999)"
   ]
  },
  {
   "cell_type": "code",
   "execution_count": 53,
   "metadata": {},
   "outputs": [],
   "source": [
    "# sns.set()"
   ]
  },
  {
   "cell_type": "code",
   "execution_count": 54,
   "metadata": {},
   "outputs": [],
   "source": [
    "# %matplotlib inline"
   ]
  },
  {
   "cell_type": "markdown",
   "metadata": {},
   "source": [
    "## Loading data"
   ]
  },
  {
   "cell_type": "code",
   "execution_count": 55,
   "metadata": {},
   "outputs": [],
   "source": [
    "itinerary_df = pd.read_csv('data/out/itinerary_1955-92.csv')\n",
    "itinerary_df.fillna('', inplace=True)"
   ]
  },
  {
   "cell_type": "code",
   "execution_count": 56,
   "metadata": {},
   "outputs": [
    {
     "data": {
      "text/plain": [
       "(22, 10)"
      ]
     },
     "execution_count": 56,
     "metadata": {},
     "output_type": "execute_result"
    }
   ],
   "source": [
    "itinerary_df.shape"
   ]
  },
  {
   "cell_type": "code",
   "execution_count": 57,
   "metadata": {
    "scrolled": false
   },
   "outputs": [
    {
     "data": {
      "text/html": [
       "<div>\n",
       "<style scoped>\n",
       "    .dataframe tbody tr th:only-of-type {\n",
       "        vertical-align: middle;\n",
       "    }\n",
       "\n",
       "    .dataframe tbody tr th {\n",
       "        vertical-align: top;\n",
       "    }\n",
       "\n",
       "    .dataframe thead th {\n",
       "        text-align: right;\n",
       "    }\n",
       "</style>\n",
       "<table border=\"1\" class=\"dataframe\">\n",
       "  <thead>\n",
       "    <tr style=\"text-align: right;\">\n",
       "      <th></th>\n",
       "      <th>START_DATE</th>\n",
       "      <th>END_DATE</th>\n",
       "      <th>CITY</th>\n",
       "      <th>COUNTRY</th>\n",
       "      <th>N_ROWS</th>\n",
       "      <th>LAST_MOMENT</th>\n",
       "      <th>MIN_NIGHTS</th>\n",
       "      <th>MAX_NIGHTS</th>\n",
       "      <th>LATITUDE</th>\n",
       "      <th>LONGITUDE</th>\n",
       "    </tr>\n",
       "  </thead>\n",
       "  <tbody>\n",
       "    <tr>\n",
       "      <th>0</th>\n",
       "      <td>9/1/1975</td>\n",
       "      <td>9/1/1975</td>\n",
       "      <td>Edinburgh</td>\n",
       "      <td>Scotland</td>\n",
       "      <td>1</td>\n",
       "      <td>Probably that night</td>\n",
       "      <td>0</td>\n",
       "      <td>1</td>\n",
       "      <td>55.953346</td>\n",
       "      <td>-3.188375</td>\n",
       "    </tr>\n",
       "    <tr>\n",
       "      <th>1</th>\n",
       "      <td>9/7/1975</td>\n",
       "      <td>9/7/1975</td>\n",
       "      <td>Glasgow</td>\n",
       "      <td>Scotland</td>\n",
       "      <td>1</td>\n",
       "      <td>Probably that night</td>\n",
       "      <td>0</td>\n",
       "      <td>1</td>\n",
       "      <td>55.861155</td>\n",
       "      <td>-4.250169</td>\n",
       "    </tr>\n",
       "    <tr>\n",
       "      <th>2</th>\n",
       "      <td>9/16/1975</td>\n",
       "      <td>9/16/1975</td>\n",
       "      <td>Madrid</td>\n",
       "      <td>Spain</td>\n",
       "      <td>1</td>\n",
       "      <td>Probably that night</td>\n",
       "      <td>0</td>\n",
       "      <td>1</td>\n",
       "      <td>40.416705</td>\n",
       "      <td>-3.703582</td>\n",
       "    </tr>\n",
       "    <tr>\n",
       "      <th>3</th>\n",
       "      <td>9/22/1975</td>\n",
       "      <td>9/22/1975</td>\n",
       "      <td>Amsterdam</td>\n",
       "      <td>Holland</td>\n",
       "      <td>1</td>\n",
       "      <td>Probably that night</td>\n",
       "      <td>0</td>\n",
       "      <td>1</td>\n",
       "      <td>52.373080</td>\n",
       "      <td>4.892453</td>\n",
       "    </tr>\n",
       "    <tr>\n",
       "      <th>4</th>\n",
       "      <td>10/17/1975</td>\n",
       "      <td>10/17/1975</td>\n",
       "      <td>Vienna</td>\n",
       "      <td>Austria</td>\n",
       "      <td>1</td>\n",
       "      <td>Probably that night</td>\n",
       "      <td>0</td>\n",
       "      <td>1</td>\n",
       "      <td>48.208354</td>\n",
       "      <td>16.372504</td>\n",
       "    </tr>\n",
       "    <tr>\n",
       "      <th>5</th>\n",
       "      <td>10/20/1975</td>\n",
       "      <td>10/20/1975</td>\n",
       "      <td>Zurich</td>\n",
       "      <td>Switzerland</td>\n",
       "      <td>1</td>\n",
       "      <td>Probably that night</td>\n",
       "      <td>0</td>\n",
       "      <td>1</td>\n",
       "      <td>47.374449</td>\n",
       "      <td>8.541042</td>\n",
       "    </tr>\n",
       "    <tr>\n",
       "      <th>6</th>\n",
       "      <td>10/21/1975</td>\n",
       "      <td>10/21/1975</td>\n",
       "      <td>Lugano</td>\n",
       "      <td>Switzerland</td>\n",
       "      <td>1</td>\n",
       "      <td>Probably that night</td>\n",
       "      <td>0</td>\n",
       "      <td>1</td>\n",
       "      <td>46.005010</td>\n",
       "      <td>8.952028</td>\n",
       "    </tr>\n",
       "    <tr>\n",
       "      <th>7</th>\n",
       "      <td>10/23/1975</td>\n",
       "      <td>10/23/1975</td>\n",
       "      <td>Lausanne</td>\n",
       "      <td>Switzerland</td>\n",
       "      <td>1</td>\n",
       "      <td>Probably that night</td>\n",
       "      <td>0</td>\n",
       "      <td>1</td>\n",
       "      <td>46.521827</td>\n",
       "      <td>6.632702</td>\n",
       "    </tr>\n",
       "    <tr>\n",
       "      <th>8</th>\n",
       "      <td>10/24/1975</td>\n",
       "      <td>10/24/1975</td>\n",
       "      <td>Basel</td>\n",
       "      <td>Switzerland</td>\n",
       "      <td>1</td>\n",
       "      <td>Probably that night</td>\n",
       "      <td>0</td>\n",
       "      <td>1</td>\n",
       "      <td>47.558108</td>\n",
       "      <td>7.587826</td>\n",
       "    </tr>\n",
       "    <tr>\n",
       "      <th>9</th>\n",
       "      <td>10/25/1975</td>\n",
       "      <td>10/25/1975</td>\n",
       "      <td>Bregenz</td>\n",
       "      <td>Austria</td>\n",
       "      <td>1</td>\n",
       "      <td>Probably that night</td>\n",
       "      <td>0</td>\n",
       "      <td>1</td>\n",
       "      <td>47.502578</td>\n",
       "      <td>9.747292</td>\n",
       "    </tr>\n",
       "    <tr>\n",
       "      <th>10</th>\n",
       "      <td>10/26/1975</td>\n",
       "      <td>10/26/1975</td>\n",
       "      <td>Gallen</td>\n",
       "      <td>Switzerland</td>\n",
       "      <td>1</td>\n",
       "      <td>Probably that night</td>\n",
       "      <td>0</td>\n",
       "      <td>1</td>\n",
       "      <td>51.431229</td>\n",
       "      <td>12.549546</td>\n",
       "    </tr>\n",
       "    <tr>\n",
       "      <th>11</th>\n",
       "      <td>10/27/1975</td>\n",
       "      <td>10/27/1975</td>\n",
       "      <td>Geneva</td>\n",
       "      <td>Switzerland</td>\n",
       "      <td>1</td>\n",
       "      <td>Probably that night</td>\n",
       "      <td>0</td>\n",
       "      <td>1</td>\n",
       "      <td>46.201756</td>\n",
       "      <td>6.146601</td>\n",
       "    </tr>\n",
       "    <tr>\n",
       "      <th>12</th>\n",
       "      <td>10/29/1975</td>\n",
       "      <td>10/29/1975</td>\n",
       "      <td>The Hague</td>\n",
       "      <td>Netherlands</td>\n",
       "      <td>1</td>\n",
       "      <td>Probably that night</td>\n",
       "      <td>0</td>\n",
       "      <td>1</td>\n",
       "      <td>52.079984</td>\n",
       "      <td>4.311346</td>\n",
       "    </tr>\n",
       "    <tr>\n",
       "      <th>13</th>\n",
       "      <td>11/1/1975</td>\n",
       "      <td>11/1/1975</td>\n",
       "      <td>New York</td>\n",
       "      <td>New York</td>\n",
       "      <td>1</td>\n",
       "      <td>Probably that night</td>\n",
       "      <td>0</td>\n",
       "      <td>1</td>\n",
       "      <td>40.712728</td>\n",
       "      <td>-74.006015</td>\n",
       "    </tr>\n",
       "    <tr>\n",
       "      <th>14</th>\n",
       "      <td>11/17/1975</td>\n",
       "      <td>11/17/1975</td>\n",
       "      <td>Brooklin</td>\n",
       "      <td>New York</td>\n",
       "      <td>1</td>\n",
       "      <td>Probably that night</td>\n",
       "      <td>0</td>\n",
       "      <td>1</td>\n",
       "      <td>40.691392</td>\n",
       "      <td>-73.982469</td>\n",
       "    </tr>\n",
       "    <tr>\n",
       "      <th>15</th>\n",
       "      <td>12/1/1975</td>\n",
       "      <td>12/1/1975</td>\n",
       "      <td>London</td>\n",
       "      <td>United Kingdom</td>\n",
       "      <td>1</td>\n",
       "      <td>Probably that night</td>\n",
       "      <td>0</td>\n",
       "      <td>1</td>\n",
       "      <td>51.507446</td>\n",
       "      <td>-0.127765</td>\n",
       "    </tr>\n",
       "    <tr>\n",
       "      <th>16</th>\n",
       "      <td>12/3/1975</td>\n",
       "      <td>12/3/1975</td>\n",
       "      <td>Manchester</td>\n",
       "      <td>United Kingdom</td>\n",
       "      <td>1</td>\n",
       "      <td>Probably that night</td>\n",
       "      <td>0</td>\n",
       "      <td>1</td>\n",
       "      <td>53.479489</td>\n",
       "      <td>-2.245115</td>\n",
       "    </tr>\n",
       "    <tr>\n",
       "      <th>17</th>\n",
       "      <td>12/4/1975</td>\n",
       "      <td>12/4/1975</td>\n",
       "      <td>London</td>\n",
       "      <td>United Kingdom</td>\n",
       "      <td>1</td>\n",
       "      <td>Probably that night</td>\n",
       "      <td>0</td>\n",
       "      <td>1</td>\n",
       "      <td>51.507446</td>\n",
       "      <td>-0.127765</td>\n",
       "    </tr>\n",
       "    <tr>\n",
       "      <th>18</th>\n",
       "      <td>12/8/1975</td>\n",
       "      <td>12/8/1975</td>\n",
       "      <td>New York</td>\n",
       "      <td>New York</td>\n",
       "      <td>1</td>\n",
       "      <td>Probably that night</td>\n",
       "      <td>0</td>\n",
       "      <td>1</td>\n",
       "      <td>40.712728</td>\n",
       "      <td>-74.006015</td>\n",
       "    </tr>\n",
       "    <tr>\n",
       "      <th>19</th>\n",
       "      <td>12/31/1975</td>\n",
       "      <td>12/31/1975</td>\n",
       "      <td>London</td>\n",
       "      <td>United Kingdom</td>\n",
       "      <td>1</td>\n",
       "      <td>Probably that night</td>\n",
       "      <td>0</td>\n",
       "      <td>1</td>\n",
       "      <td>51.507446</td>\n",
       "      <td>-0.127765</td>\n",
       "    </tr>\n",
       "    <tr>\n",
       "      <th>20</th>\n",
       "      <td>1/12/1976</td>\n",
       "      <td>1/12/1976</td>\n",
       "      <td>Paris</td>\n",
       "      <td>France</td>\n",
       "      <td>1</td>\n",
       "      <td>Probably that night</td>\n",
       "      <td>0</td>\n",
       "      <td>1</td>\n",
       "      <td>48.858890</td>\n",
       "      <td>2.320041</td>\n",
       "    </tr>\n",
       "    <tr>\n",
       "      <th>21</th>\n",
       "      <td>2/15/1976</td>\n",
       "      <td>2/15/1976</td>\n",
       "      <td>Los Angeles</td>\n",
       "      <td>California</td>\n",
       "      <td>1</td>\n",
       "      <td>Probably that night</td>\n",
       "      <td>0</td>\n",
       "      <td>1</td>\n",
       "      <td>34.053691</td>\n",
       "      <td>-118.242766</td>\n",
       "    </tr>\n",
       "  </tbody>\n",
       "</table>\n",
       "</div>"
      ],
      "text/plain": [
       "    START_DATE    END_DATE         CITY         COUNTRY  N_ROWS  \\\n",
       "0     9/1/1975    9/1/1975    Edinburgh        Scotland       1   \n",
       "1     9/7/1975    9/7/1975      Glasgow        Scotland       1   \n",
       "2    9/16/1975   9/16/1975       Madrid           Spain       1   \n",
       "3    9/22/1975   9/22/1975    Amsterdam         Holland       1   \n",
       "4   10/17/1975  10/17/1975       Vienna         Austria       1   \n",
       "5   10/20/1975  10/20/1975       Zurich     Switzerland       1   \n",
       "6   10/21/1975  10/21/1975       Lugano     Switzerland       1   \n",
       "7   10/23/1975  10/23/1975     Lausanne     Switzerland       1   \n",
       "8   10/24/1975  10/24/1975        Basel     Switzerland       1   \n",
       "9   10/25/1975  10/25/1975      Bregenz         Austria       1   \n",
       "10  10/26/1975  10/26/1975       Gallen     Switzerland       1   \n",
       "11  10/27/1975  10/27/1975       Geneva     Switzerland       1   \n",
       "12  10/29/1975  10/29/1975    The Hague     Netherlands       1   \n",
       "13   11/1/1975   11/1/1975     New York        New York       1   \n",
       "14  11/17/1975  11/17/1975     Brooklin        New York       1   \n",
       "15   12/1/1975   12/1/1975       London  United Kingdom       1   \n",
       "16   12/3/1975   12/3/1975   Manchester  United Kingdom       1   \n",
       "17   12/4/1975   12/4/1975       London  United Kingdom       1   \n",
       "18   12/8/1975   12/8/1975     New York        New York       1   \n",
       "19  12/31/1975  12/31/1975       London  United Kingdom       1   \n",
       "20   1/12/1976   1/12/1976        Paris          France       1   \n",
       "21   2/15/1976   2/15/1976  Los Angeles      California       1   \n",
       "\n",
       "            LAST_MOMENT  MIN_NIGHTS  MAX_NIGHTS   LATITUDE   LONGITUDE  \n",
       "0   Probably that night           0           1  55.953346   -3.188375  \n",
       "1   Probably that night           0           1  55.861155   -4.250169  \n",
       "2   Probably that night           0           1  40.416705   -3.703582  \n",
       "3   Probably that night           0           1  52.373080    4.892453  \n",
       "4   Probably that night           0           1  48.208354   16.372504  \n",
       "5   Probably that night           0           1  47.374449    8.541042  \n",
       "6   Probably that night           0           1  46.005010    8.952028  \n",
       "7   Probably that night           0           1  46.521827    6.632702  \n",
       "8   Probably that night           0           1  47.558108    7.587826  \n",
       "9   Probably that night           0           1  47.502578    9.747292  \n",
       "10  Probably that night           0           1  51.431229   12.549546  \n",
       "11  Probably that night           0           1  46.201756    6.146601  \n",
       "12  Probably that night           0           1  52.079984    4.311346  \n",
       "13  Probably that night           0           1  40.712728  -74.006015  \n",
       "14  Probably that night           0           1  40.691392  -73.982469  \n",
       "15  Probably that night           0           1  51.507446   -0.127765  \n",
       "16  Probably that night           0           1  53.479489   -2.245115  \n",
       "17  Probably that night           0           1  51.507446   -0.127765  \n",
       "18  Probably that night           0           1  40.712728  -74.006015  \n",
       "19  Probably that night           0           1  51.507446   -0.127765  \n",
       "20  Probably that night           0           1  48.858890    2.320041  \n",
       "21  Probably that night           0           1  34.053691 -118.242766  "
      ]
     },
     "execution_count": 57,
     "metadata": {},
     "output_type": "execute_result"
    }
   ],
   "source": [
    "itinerary_df"
   ]
  },
  {
   "cell_type": "markdown",
   "metadata": {},
   "source": [
    "## Pre-processing data"
   ]
  },
  {
   "cell_type": "code",
   "execution_count": 58,
   "metadata": {},
   "outputs": [
    {
     "data": {
      "text/html": [
       "<div>\n",
       "<style scoped>\n",
       "    .dataframe tbody tr th:only-of-type {\n",
       "        vertical-align: middle;\n",
       "    }\n",
       "\n",
       "    .dataframe tbody tr th {\n",
       "        vertical-align: top;\n",
       "    }\n",
       "\n",
       "    .dataframe thead th {\n",
       "        text-align: right;\n",
       "    }\n",
       "</style>\n",
       "<table border=\"1\" class=\"dataframe\">\n",
       "  <thead>\n",
       "    <tr style=\"text-align: right;\">\n",
       "      <th></th>\n",
       "      <th>START_DATE</th>\n",
       "      <th>END_DATE</th>\n",
       "      <th>CITY</th>\n",
       "      <th>COUNTRY</th>\n",
       "      <th>N_ROWS</th>\n",
       "      <th>LAST_MOMENT</th>\n",
       "      <th>MIN_NIGHTS</th>\n",
       "      <th>MAX_NIGHTS</th>\n",
       "      <th>LATITUDE</th>\n",
       "      <th>LONGITUDE</th>\n",
       "    </tr>\n",
       "  </thead>\n",
       "  <tbody>\n",
       "    <tr>\n",
       "      <th>17</th>\n",
       "      <td>12/4/1975</td>\n",
       "      <td>12/4/1975</td>\n",
       "      <td>London</td>\n",
       "      <td>United Kingdom</td>\n",
       "      <td>1</td>\n",
       "      <td>Probably that night</td>\n",
       "      <td>0</td>\n",
       "      <td>1</td>\n",
       "      <td>51.507446</td>\n",
       "      <td>-0.127765</td>\n",
       "    </tr>\n",
       "    <tr>\n",
       "      <th>18</th>\n",
       "      <td>12/8/1975</td>\n",
       "      <td>12/8/1975</td>\n",
       "      <td>New York</td>\n",
       "      <td>New York</td>\n",
       "      <td>1</td>\n",
       "      <td>Probably that night</td>\n",
       "      <td>0</td>\n",
       "      <td>1</td>\n",
       "      <td>40.712728</td>\n",
       "      <td>-74.006015</td>\n",
       "    </tr>\n",
       "    <tr>\n",
       "      <th>19</th>\n",
       "      <td>12/31/1975</td>\n",
       "      <td>12/31/1975</td>\n",
       "      <td>London</td>\n",
       "      <td>United Kingdom</td>\n",
       "      <td>1</td>\n",
       "      <td>Probably that night</td>\n",
       "      <td>0</td>\n",
       "      <td>1</td>\n",
       "      <td>51.507446</td>\n",
       "      <td>-0.127765</td>\n",
       "    </tr>\n",
       "    <tr>\n",
       "      <th>20</th>\n",
       "      <td>1/12/1976</td>\n",
       "      <td>1/12/1976</td>\n",
       "      <td>Paris</td>\n",
       "      <td>France</td>\n",
       "      <td>1</td>\n",
       "      <td>Probably that night</td>\n",
       "      <td>0</td>\n",
       "      <td>1</td>\n",
       "      <td>48.858890</td>\n",
       "      <td>2.320041</td>\n",
       "    </tr>\n",
       "    <tr>\n",
       "      <th>21</th>\n",
       "      <td>2/15/1976</td>\n",
       "      <td>2/15/1976</td>\n",
       "      <td>Los Angeles</td>\n",
       "      <td>California</td>\n",
       "      <td>1</td>\n",
       "      <td>Probably that night</td>\n",
       "      <td>0</td>\n",
       "      <td>1</td>\n",
       "      <td>34.053691</td>\n",
       "      <td>-118.242766</td>\n",
       "    </tr>\n",
       "  </tbody>\n",
       "</table>\n",
       "</div>"
      ],
      "text/plain": [
       "    START_DATE    END_DATE         CITY         COUNTRY  N_ROWS  \\\n",
       "17   12/4/1975   12/4/1975       London  United Kingdom       1   \n",
       "18   12/8/1975   12/8/1975     New York        New York       1   \n",
       "19  12/31/1975  12/31/1975       London  United Kingdom       1   \n",
       "20   1/12/1976   1/12/1976        Paris          France       1   \n",
       "21   2/15/1976   2/15/1976  Los Angeles      California       1   \n",
       "\n",
       "            LAST_MOMENT  MIN_NIGHTS  MAX_NIGHTS   LATITUDE   LONGITUDE  \n",
       "17  Probably that night           0           1  51.507446   -0.127765  \n",
       "18  Probably that night           0           1  40.712728  -74.006015  \n",
       "19  Probably that night           0           1  51.507446   -0.127765  \n",
       "20  Probably that night           0           1  48.858890    2.320041  \n",
       "21  Probably that night           0           1  34.053691 -118.242766  "
      ]
     },
     "execution_count": 58,
     "metadata": {},
     "output_type": "execute_result"
    }
   ],
   "source": [
    "itinerary_df = itinerary_df[pd.to_datetime(itinerary_df.START_DATE) < '1993'].copy()\n",
    "itinerary_df.tail()"
   ]
  },
  {
   "cell_type": "code",
   "execution_count": 59,
   "metadata": {},
   "outputs": [],
   "source": [
    "first_date = pd.to_datetime(itinerary_df.START_DATE.iloc[0].split('-')[0])\n",
    "last_date = pd.to_datetime(itinerary_df.END_DATE.iloc[-1])\n",
    "total_days = (last_date - first_date).days + 1"
   ]
  },
  {
   "cell_type": "code",
   "execution_count": 60,
   "metadata": {},
   "outputs": [
    {
     "data": {
      "text/plain": [
       "168"
      ]
     },
     "execution_count": 60,
     "metadata": {},
     "output_type": "execute_result"
    }
   ],
   "source": [
    "total_days"
   ]
  },
  {
   "cell_type": "code",
   "execution_count": 61,
   "metadata": {},
   "outputs": [],
   "source": [
    "itinerary_df['GROUP'] = 0\n",
    "group = 1\n",
    "itinerary_df.loc[0, 'GROUP'] = group\n",
    "for i, row in itinerary_df[1:].iterrows():\n",
    "    prev_row = itinerary_df.loc[i-1]\n",
    "    prev_row_end_date = pd.to_datetime(prev_row['END_DATE'])\n",
    "    curr_row_start_date = pd.to_datetime(row['START_DATE'])\n",
    "    n_days = (curr_row_start_date - prev_row_end_date).days\n",
    "    if n_days == 0:\n",
    "        print('ERROR')\n",
    "    elif n_days <= 7:\n",
    "        pass\n",
    "    else: # n_days > 7\n",
    "        group += 1\n",
    "    itinerary_df.loc[i, 'GROUP'] = group"
   ]
  },
  {
   "cell_type": "code",
   "execution_count": 62,
   "metadata": {},
   "outputs": [
    {
     "data": {
      "text/html": [
       "<div>\n",
       "<style scoped>\n",
       "    .dataframe tbody tr th:only-of-type {\n",
       "        vertical-align: middle;\n",
       "    }\n",
       "\n",
       "    .dataframe tbody tr th {\n",
       "        vertical-align: top;\n",
       "    }\n",
       "\n",
       "    .dataframe thead th {\n",
       "        text-align: right;\n",
       "    }\n",
       "</style>\n",
       "<table border=\"1\" class=\"dataframe\">\n",
       "  <thead>\n",
       "    <tr style=\"text-align: right;\">\n",
       "      <th></th>\n",
       "      <th>START_DATE</th>\n",
       "      <th>END_DATE</th>\n",
       "      <th>CITY</th>\n",
       "      <th>COUNTRY</th>\n",
       "      <th>N_ROWS</th>\n",
       "      <th>LAST_MOMENT</th>\n",
       "      <th>MIN_NIGHTS</th>\n",
       "      <th>MAX_NIGHTS</th>\n",
       "      <th>LATITUDE</th>\n",
       "      <th>LONGITUDE</th>\n",
       "      <th>GROUP</th>\n",
       "    </tr>\n",
       "  </thead>\n",
       "  <tbody>\n",
       "    <tr>\n",
       "      <th>0</th>\n",
       "      <td>9/1/1975</td>\n",
       "      <td>9/1/1975</td>\n",
       "      <td>Edinburgh</td>\n",
       "      <td>Scotland</td>\n",
       "      <td>1</td>\n",
       "      <td>Probably that night</td>\n",
       "      <td>0</td>\n",
       "      <td>1</td>\n",
       "      <td>55.953346</td>\n",
       "      <td>-3.188375</td>\n",
       "      <td>1</td>\n",
       "    </tr>\n",
       "    <tr>\n",
       "      <th>1</th>\n",
       "      <td>9/7/1975</td>\n",
       "      <td>9/7/1975</td>\n",
       "      <td>Glasgow</td>\n",
       "      <td>Scotland</td>\n",
       "      <td>1</td>\n",
       "      <td>Probably that night</td>\n",
       "      <td>0</td>\n",
       "      <td>1</td>\n",
       "      <td>55.861155</td>\n",
       "      <td>-4.250169</td>\n",
       "      <td>1</td>\n",
       "    </tr>\n",
       "    <tr>\n",
       "      <th>2</th>\n",
       "      <td>9/16/1975</td>\n",
       "      <td>9/16/1975</td>\n",
       "      <td>Madrid</td>\n",
       "      <td>Spain</td>\n",
       "      <td>1</td>\n",
       "      <td>Probably that night</td>\n",
       "      <td>0</td>\n",
       "      <td>1</td>\n",
       "      <td>40.416705</td>\n",
       "      <td>-3.703582</td>\n",
       "      <td>2</td>\n",
       "    </tr>\n",
       "    <tr>\n",
       "      <th>3</th>\n",
       "      <td>9/22/1975</td>\n",
       "      <td>9/22/1975</td>\n",
       "      <td>Amsterdam</td>\n",
       "      <td>Holland</td>\n",
       "      <td>1</td>\n",
       "      <td>Probably that night</td>\n",
       "      <td>0</td>\n",
       "      <td>1</td>\n",
       "      <td>52.373080</td>\n",
       "      <td>4.892453</td>\n",
       "      <td>2</td>\n",
       "    </tr>\n",
       "    <tr>\n",
       "      <th>4</th>\n",
       "      <td>10/17/1975</td>\n",
       "      <td>10/17/1975</td>\n",
       "      <td>Vienna</td>\n",
       "      <td>Austria</td>\n",
       "      <td>1</td>\n",
       "      <td>Probably that night</td>\n",
       "      <td>0</td>\n",
       "      <td>1</td>\n",
       "      <td>48.208354</td>\n",
       "      <td>16.372504</td>\n",
       "      <td>3</td>\n",
       "    </tr>\n",
       "  </tbody>\n",
       "</table>\n",
       "</div>"
      ],
      "text/plain": [
       "   START_DATE    END_DATE       CITY   COUNTRY  N_ROWS          LAST_MOMENT  \\\n",
       "0    9/1/1975    9/1/1975  Edinburgh  Scotland       1  Probably that night   \n",
       "1    9/7/1975    9/7/1975    Glasgow  Scotland       1  Probably that night   \n",
       "2   9/16/1975   9/16/1975     Madrid     Spain       1  Probably that night   \n",
       "3   9/22/1975   9/22/1975  Amsterdam   Holland       1  Probably that night   \n",
       "4  10/17/1975  10/17/1975     Vienna   Austria       1  Probably that night   \n",
       "\n",
       "   MIN_NIGHTS  MAX_NIGHTS   LATITUDE  LONGITUDE  GROUP  \n",
       "0           0           1  55.953346  -3.188375      1  \n",
       "1           0           1  55.861155  -4.250169      1  \n",
       "2           0           1  40.416705  -3.703582      2  \n",
       "3           0           1  52.373080   4.892453      2  \n",
       "4           0           1  48.208354  16.372504      3  "
      ]
     },
     "execution_count": 62,
     "metadata": {},
     "output_type": "execute_result"
    }
   ],
   "source": [
    "itinerary_df.head()"
   ]
  },
  {
   "cell_type": "code",
   "execution_count": 63,
   "metadata": {},
   "outputs": [
    {
     "data": {
      "text/html": [
       "<div>\n",
       "<style scoped>\n",
       "    .dataframe tbody tr th:only-of-type {\n",
       "        vertical-align: middle;\n",
       "    }\n",
       "\n",
       "    .dataframe tbody tr th {\n",
       "        vertical-align: top;\n",
       "    }\n",
       "\n",
       "    .dataframe thead th {\n",
       "        text-align: right;\n",
       "    }\n",
       "</style>\n",
       "<table border=\"1\" class=\"dataframe\">\n",
       "  <thead>\n",
       "    <tr style=\"text-align: right;\">\n",
       "      <th></th>\n",
       "      <th>START_DATE</th>\n",
       "      <th>END_DATE</th>\n",
       "      <th>CITY</th>\n",
       "      <th>COUNTRY</th>\n",
       "      <th>N_ROWS</th>\n",
       "      <th>LAST_MOMENT</th>\n",
       "      <th>MIN_NIGHTS</th>\n",
       "      <th>MAX_NIGHTS</th>\n",
       "      <th>LATITUDE</th>\n",
       "      <th>LONGITUDE</th>\n",
       "      <th>GROUP</th>\n",
       "    </tr>\n",
       "  </thead>\n",
       "  <tbody>\n",
       "    <tr>\n",
       "      <th>17</th>\n",
       "      <td>12/4/1975</td>\n",
       "      <td>12/4/1975</td>\n",
       "      <td>London</td>\n",
       "      <td>United Kingdom</td>\n",
       "      <td>1</td>\n",
       "      <td>Probably that night</td>\n",
       "      <td>0</td>\n",
       "      <td>1</td>\n",
       "      <td>51.507446</td>\n",
       "      <td>-0.127765</td>\n",
       "      <td>5</td>\n",
       "    </tr>\n",
       "    <tr>\n",
       "      <th>18</th>\n",
       "      <td>12/8/1975</td>\n",
       "      <td>12/8/1975</td>\n",
       "      <td>New York</td>\n",
       "      <td>New York</td>\n",
       "      <td>1</td>\n",
       "      <td>Probably that night</td>\n",
       "      <td>0</td>\n",
       "      <td>1</td>\n",
       "      <td>40.712728</td>\n",
       "      <td>-74.006015</td>\n",
       "      <td>5</td>\n",
       "    </tr>\n",
       "    <tr>\n",
       "      <th>19</th>\n",
       "      <td>12/31/1975</td>\n",
       "      <td>12/31/1975</td>\n",
       "      <td>London</td>\n",
       "      <td>United Kingdom</td>\n",
       "      <td>1</td>\n",
       "      <td>Probably that night</td>\n",
       "      <td>0</td>\n",
       "      <td>1</td>\n",
       "      <td>51.507446</td>\n",
       "      <td>-0.127765</td>\n",
       "      <td>6</td>\n",
       "    </tr>\n",
       "    <tr>\n",
       "      <th>20</th>\n",
       "      <td>1/12/1976</td>\n",
       "      <td>1/12/1976</td>\n",
       "      <td>Paris</td>\n",
       "      <td>France</td>\n",
       "      <td>1</td>\n",
       "      <td>Probably that night</td>\n",
       "      <td>0</td>\n",
       "      <td>1</td>\n",
       "      <td>48.858890</td>\n",
       "      <td>2.320041</td>\n",
       "      <td>7</td>\n",
       "    </tr>\n",
       "    <tr>\n",
       "      <th>21</th>\n",
       "      <td>2/15/1976</td>\n",
       "      <td>2/15/1976</td>\n",
       "      <td>Los Angeles</td>\n",
       "      <td>California</td>\n",
       "      <td>1</td>\n",
       "      <td>Probably that night</td>\n",
       "      <td>0</td>\n",
       "      <td>1</td>\n",
       "      <td>34.053691</td>\n",
       "      <td>-118.242766</td>\n",
       "      <td>8</td>\n",
       "    </tr>\n",
       "  </tbody>\n",
       "</table>\n",
       "</div>"
      ],
      "text/plain": [
       "    START_DATE    END_DATE         CITY         COUNTRY  N_ROWS  \\\n",
       "17   12/4/1975   12/4/1975       London  United Kingdom       1   \n",
       "18   12/8/1975   12/8/1975     New York        New York       1   \n",
       "19  12/31/1975  12/31/1975       London  United Kingdom       1   \n",
       "20   1/12/1976   1/12/1976        Paris          France       1   \n",
       "21   2/15/1976   2/15/1976  Los Angeles      California       1   \n",
       "\n",
       "            LAST_MOMENT  MIN_NIGHTS  MAX_NIGHTS   LATITUDE   LONGITUDE  GROUP  \n",
       "17  Probably that night           0           1  51.507446   -0.127765      5  \n",
       "18  Probably that night           0           1  40.712728  -74.006015      5  \n",
       "19  Probably that night           0           1  51.507446   -0.127765      6  \n",
       "20  Probably that night           0           1  48.858890    2.320041      7  \n",
       "21  Probably that night           0           1  34.053691 -118.242766      8  "
      ]
     },
     "execution_count": 63,
     "metadata": {},
     "output_type": "execute_result"
    }
   ],
   "source": [
    "itinerary_df.tail()"
   ]
  },
  {
   "cell_type": "code",
   "execution_count": 64,
   "metadata": {},
   "outputs": [],
   "source": [
    "aux_df = itinerary_df.drop_duplicates('CITY', keep='last') \\\n",
    "    [['CITY', 'LATITUDE', 'LONGITUDE', 'GROUP', 'END_DATE']]"
   ]
  },
  {
   "cell_type": "code",
   "execution_count": 65,
   "metadata": {},
   "outputs": [
    {
     "data": {
      "text/html": [
       "<div>\n",
       "<style scoped>\n",
       "    .dataframe tbody tr th:only-of-type {\n",
       "        vertical-align: middle;\n",
       "    }\n",
       "\n",
       "    .dataframe tbody tr th {\n",
       "        vertical-align: top;\n",
       "    }\n",
       "\n",
       "    .dataframe thead th {\n",
       "        text-align: right;\n",
       "    }\n",
       "</style>\n",
       "<table border=\"1\" class=\"dataframe\">\n",
       "  <thead>\n",
       "    <tr style=\"text-align: right;\">\n",
       "      <th></th>\n",
       "      <th>CITY</th>\n",
       "      <th>LATITUDE</th>\n",
       "      <th>LONGITUDE</th>\n",
       "      <th>GROUP</th>\n",
       "      <th>END_DATE</th>\n",
       "    </tr>\n",
       "  </thead>\n",
       "  <tbody>\n",
       "    <tr>\n",
       "      <th>0</th>\n",
       "      <td>Edinburgh</td>\n",
       "      <td>55.953346</td>\n",
       "      <td>-3.188375</td>\n",
       "      <td>1</td>\n",
       "      <td>9/1/1975</td>\n",
       "    </tr>\n",
       "    <tr>\n",
       "      <th>1</th>\n",
       "      <td>Glasgow</td>\n",
       "      <td>55.861155</td>\n",
       "      <td>-4.250169</td>\n",
       "      <td>1</td>\n",
       "      <td>9/7/1975</td>\n",
       "    </tr>\n",
       "    <tr>\n",
       "      <th>2</th>\n",
       "      <td>Madrid</td>\n",
       "      <td>40.416705</td>\n",
       "      <td>-3.703582</td>\n",
       "      <td>2</td>\n",
       "      <td>9/16/1975</td>\n",
       "    </tr>\n",
       "    <tr>\n",
       "      <th>3</th>\n",
       "      <td>Amsterdam</td>\n",
       "      <td>52.373080</td>\n",
       "      <td>4.892453</td>\n",
       "      <td>2</td>\n",
       "      <td>9/22/1975</td>\n",
       "    </tr>\n",
       "    <tr>\n",
       "      <th>4</th>\n",
       "      <td>Vienna</td>\n",
       "      <td>48.208354</td>\n",
       "      <td>16.372504</td>\n",
       "      <td>3</td>\n",
       "      <td>10/17/1975</td>\n",
       "    </tr>\n",
       "  </tbody>\n",
       "</table>\n",
       "</div>"
      ],
      "text/plain": [
       "        CITY   LATITUDE  LONGITUDE  GROUP    END_DATE\n",
       "0  Edinburgh  55.953346  -3.188375      1    9/1/1975\n",
       "1    Glasgow  55.861155  -4.250169      1    9/7/1975\n",
       "2     Madrid  40.416705  -3.703582      2   9/16/1975\n",
       "3  Amsterdam  52.373080   4.892453      2   9/22/1975\n",
       "4     Vienna  48.208354  16.372504      3  10/17/1975"
      ]
     },
     "execution_count": 65,
     "metadata": {},
     "output_type": "execute_result"
    }
   ],
   "source": [
    "aux_df.head()"
   ]
  },
  {
   "cell_type": "markdown",
   "metadata": {},
   "source": [
    "## Processing data"
   ]
  },
  {
   "cell_type": "code",
   "execution_count": 66,
   "metadata": {},
   "outputs": [],
   "source": [
    "def next_year(d_str):\n",
    "    return pd.to_datetime('{}-01-01'.format(int(d_str.split('-')[0]) + 1))\n",
    "\n",
    "def altitud_year(d):\n",
    "    return (d - first_date).days# + 1"
   ]
  },
  {
   "cell_type": "code",
   "execution_count": 67,
   "metadata": {},
   "outputs": [],
   "source": [
    "points_df = aux_df[['LATITUDE', 'LONGITUDE', 'CITY']].copy()\n",
    "# points_df['ALTITUDE'] = aux_df['END_DATE'].apply(lambda x: altitud_year(next_year(x)))\n",
    "points_df['ALTITUDE'] = aux_df['END_DATE'].apply(lambda x: altitud_year(pd.to_datetime(x)))"
   ]
  },
  {
   "cell_type": "code",
   "execution_count": 68,
   "metadata": {},
   "outputs": [
    {
     "data": {
      "text/plain": [
       "(19, 4)"
      ]
     },
     "execution_count": 68,
     "metadata": {},
     "output_type": "execute_result"
    }
   ],
   "source": [
    "points_df.shape"
   ]
  },
  {
   "cell_type": "code",
   "execution_count": 69,
   "metadata": {},
   "outputs": [
    {
     "data": {
      "text/html": [
       "<div>\n",
       "<style scoped>\n",
       "    .dataframe tbody tr th:only-of-type {\n",
       "        vertical-align: middle;\n",
       "    }\n",
       "\n",
       "    .dataframe tbody tr th {\n",
       "        vertical-align: top;\n",
       "    }\n",
       "\n",
       "    .dataframe thead th {\n",
       "        text-align: right;\n",
       "    }\n",
       "</style>\n",
       "<table border=\"1\" class=\"dataframe\">\n",
       "  <thead>\n",
       "    <tr style=\"text-align: right;\">\n",
       "      <th></th>\n",
       "      <th>LATITUDE</th>\n",
       "      <th>LONGITUDE</th>\n",
       "      <th>CITY</th>\n",
       "      <th>ALTITUDE</th>\n",
       "    </tr>\n",
       "  </thead>\n",
       "  <tbody>\n",
       "    <tr>\n",
       "      <th>0</th>\n",
       "      <td>55.953346</td>\n",
       "      <td>-3.188375</td>\n",
       "      <td>Edinburgh</td>\n",
       "      <td>0</td>\n",
       "    </tr>\n",
       "    <tr>\n",
       "      <th>1</th>\n",
       "      <td>55.861155</td>\n",
       "      <td>-4.250169</td>\n",
       "      <td>Glasgow</td>\n",
       "      <td>6</td>\n",
       "    </tr>\n",
       "    <tr>\n",
       "      <th>2</th>\n",
       "      <td>40.416705</td>\n",
       "      <td>-3.703582</td>\n",
       "      <td>Madrid</td>\n",
       "      <td>15</td>\n",
       "    </tr>\n",
       "    <tr>\n",
       "      <th>3</th>\n",
       "      <td>52.373080</td>\n",
       "      <td>4.892453</td>\n",
       "      <td>Amsterdam</td>\n",
       "      <td>21</td>\n",
       "    </tr>\n",
       "    <tr>\n",
       "      <th>4</th>\n",
       "      <td>48.208354</td>\n",
       "      <td>16.372504</td>\n",
       "      <td>Vienna</td>\n",
       "      <td>46</td>\n",
       "    </tr>\n",
       "  </tbody>\n",
       "</table>\n",
       "</div>"
      ],
      "text/plain": [
       "    LATITUDE  LONGITUDE       CITY  ALTITUDE\n",
       "0  55.953346  -3.188375  Edinburgh         0\n",
       "1  55.861155  -4.250169    Glasgow         6\n",
       "2  40.416705  -3.703582     Madrid        15\n",
       "3  52.373080   4.892453  Amsterdam        21\n",
       "4  48.208354  16.372504     Vienna        46"
      ]
     },
     "execution_count": 69,
     "metadata": {},
     "output_type": "execute_result"
    }
   ],
   "source": [
    "points_df.head()"
   ]
  },
  {
   "cell_type": "code",
   "execution_count": 70,
   "metadata": {},
   "outputs": [],
   "source": [
    "cities_df = aux_df[['CITY', 'LATITUDE', 'LONGITUDE']].copy()\n",
    "cities_df.columns = ['TEXT', 'LATITUDE', 'LONGITUDE']\n",
    "cities_df['ALTITUDE'] = 0\n",
    "cities_df['TYPE'] = 'city'"
   ]
  },
  {
   "cell_type": "code",
   "execution_count": 71,
   "metadata": {},
   "outputs": [
    {
     "data": {
      "text/plain": [
       "(19, 5)"
      ]
     },
     "execution_count": 71,
     "metadata": {},
     "output_type": "execute_result"
    }
   ],
   "source": [
    "cities_df.shape"
   ]
  },
  {
   "cell_type": "code",
   "execution_count": 72,
   "metadata": {},
   "outputs": [
    {
     "data": {
      "text/html": [
       "<div>\n",
       "<style scoped>\n",
       "    .dataframe tbody tr th:only-of-type {\n",
       "        vertical-align: middle;\n",
       "    }\n",
       "\n",
       "    .dataframe tbody tr th {\n",
       "        vertical-align: top;\n",
       "    }\n",
       "\n",
       "    .dataframe thead th {\n",
       "        text-align: right;\n",
       "    }\n",
       "</style>\n",
       "<table border=\"1\" class=\"dataframe\">\n",
       "  <thead>\n",
       "    <tr style=\"text-align: right;\">\n",
       "      <th></th>\n",
       "      <th>TEXT</th>\n",
       "      <th>LATITUDE</th>\n",
       "      <th>LONGITUDE</th>\n",
       "      <th>ALTITUDE</th>\n",
       "      <th>TYPE</th>\n",
       "    </tr>\n",
       "  </thead>\n",
       "  <tbody>\n",
       "    <tr>\n",
       "      <th>0</th>\n",
       "      <td>Edinburgh</td>\n",
       "      <td>55.953346</td>\n",
       "      <td>-3.188375</td>\n",
       "      <td>0</td>\n",
       "      <td>city</td>\n",
       "    </tr>\n",
       "    <tr>\n",
       "      <th>1</th>\n",
       "      <td>Glasgow</td>\n",
       "      <td>55.861155</td>\n",
       "      <td>-4.250169</td>\n",
       "      <td>0</td>\n",
       "      <td>city</td>\n",
       "    </tr>\n",
       "    <tr>\n",
       "      <th>2</th>\n",
       "      <td>Madrid</td>\n",
       "      <td>40.416705</td>\n",
       "      <td>-3.703582</td>\n",
       "      <td>0</td>\n",
       "      <td>city</td>\n",
       "    </tr>\n",
       "    <tr>\n",
       "      <th>3</th>\n",
       "      <td>Amsterdam</td>\n",
       "      <td>52.373080</td>\n",
       "      <td>4.892453</td>\n",
       "      <td>0</td>\n",
       "      <td>city</td>\n",
       "    </tr>\n",
       "    <tr>\n",
       "      <th>4</th>\n",
       "      <td>Vienna</td>\n",
       "      <td>48.208354</td>\n",
       "      <td>16.372504</td>\n",
       "      <td>0</td>\n",
       "      <td>city</td>\n",
       "    </tr>\n",
       "  </tbody>\n",
       "</table>\n",
       "</div>"
      ],
      "text/plain": [
       "        TEXT   LATITUDE  LONGITUDE  ALTITUDE  TYPE\n",
       "0  Edinburgh  55.953346  -3.188375         0  city\n",
       "1    Glasgow  55.861155  -4.250169         0  city\n",
       "2     Madrid  40.416705  -3.703582         0  city\n",
       "3  Amsterdam  52.373080   4.892453         0  city\n",
       "4     Vienna  48.208354  16.372504         0  city"
      ]
     },
     "execution_count": 72,
     "metadata": {},
     "output_type": "execute_result"
    }
   ],
   "source": [
    "cities_df.head()"
   ]
  },
  {
   "cell_type": "code",
   "execution_count": 73,
   "metadata": {},
   "outputs": [
    {
     "ename": "ValueError",
     "evalue": "invalid literal for int() with base 10: '9/1/1975'",
     "output_type": "error",
     "traceback": [
      "\u001b[1;31m---------------------------------------------------------------------------\u001b[0m",
      "\u001b[1;31mValueError\u001b[0m                                Traceback (most recent call last)",
      "Cell \u001b[1;32mIn[73], line 4\u001b[0m\n\u001b[0;32m      2\u001b[0m \u001b[38;5;28;01mfor\u001b[39;00m i, row \u001b[38;5;129;01min\u001b[39;00m aux_df\u001b[38;5;241m.\u001b[39miterrows():\n\u001b[0;32m      3\u001b[0m     end_date \u001b[38;5;241m=\u001b[39m aux_df\u001b[38;5;241m.\u001b[39mloc[i, \u001b[38;5;124m'\u001b[39m\u001b[38;5;124mEND_DATE\u001b[39m\u001b[38;5;124m'\u001b[39m]\n\u001b[1;32m----> 4\u001b[0m     next_year_date \u001b[38;5;241m=\u001b[39m \u001b[43mnext_year\u001b[49m\u001b[43m(\u001b[49m\u001b[43mend_date\u001b[49m\u001b[43m)\u001b[49m\n\u001b[0;32m      5\u001b[0m \u001b[38;5;66;03m#     print(aux_df.loc[i, 'CITY'], end_date)\u001b[39;00m\n\u001b[0;32m      6\u001b[0m \u001b[38;5;66;03m#     print(pd.date_range(first_date, next_year_date, freq='YS'))\u001b[39;00m\n\u001b[0;32m      7\u001b[0m     \u001b[38;5;28;01mfor\u001b[39;00m d \u001b[38;5;129;01min\u001b[39;00m pd\u001b[38;5;241m.\u001b[39mdate_range(first_date, next_year_date, freq\u001b[38;5;241m=\u001b[39m\u001b[38;5;124m'\u001b[39m\u001b[38;5;124mYS\u001b[39m\u001b[38;5;124m'\u001b[39m):\n",
      "Cell \u001b[1;32mIn[66], line 2\u001b[0m, in \u001b[0;36mnext_year\u001b[1;34m(d_str)\u001b[0m\n\u001b[0;32m      1\u001b[0m \u001b[38;5;28;01mdef\u001b[39;00m \u001b[38;5;21mnext_year\u001b[39m(d_str):\n\u001b[1;32m----> 2\u001b[0m     \u001b[38;5;28;01mreturn\u001b[39;00m pd\u001b[38;5;241m.\u001b[39mto_datetime(\u001b[38;5;124m'\u001b[39m\u001b[38;5;132;01m{}\u001b[39;00m\u001b[38;5;124m-01-01\u001b[39m\u001b[38;5;124m'\u001b[39m\u001b[38;5;241m.\u001b[39mformat(\u001b[38;5;28;43mint\u001b[39;49m\u001b[43m(\u001b[49m\u001b[43md_str\u001b[49m\u001b[38;5;241;43m.\u001b[39;49m\u001b[43msplit\u001b[49m\u001b[43m(\u001b[49m\u001b[38;5;124;43m'\u001b[39;49m\u001b[38;5;124;43m-\u001b[39;49m\u001b[38;5;124;43m'\u001b[39;49m\u001b[43m)\u001b[49m\u001b[43m[\u001b[49m\u001b[38;5;241;43m0\u001b[39;49m\u001b[43m]\u001b[49m\u001b[43m)\u001b[49m \u001b[38;5;241m+\u001b[39m \u001b[38;5;241m1\u001b[39m))\n",
      "\u001b[1;31mValueError\u001b[0m: invalid literal for int() with base 10: '9/1/1975'"
     ]
    }
   ],
   "source": [
    "years_df = pd.DataFrame(columns=['TEXT', 'LATITUDE', 'LONGITUDE', 'ALTITUDE', 'TYPE'])\n",
    "for i, row in aux_df.iterrows():\n",
    "    end_date = aux_df.loc[i, 'END_DATE']\n",
    "    next_year_date = next_year(end_date)\n",
    "#     print(aux_df.loc[i, 'CITY'], end_date)\n",
    "#     print(pd.date_range(first_date, next_year_date, freq='YS'))\n",
    "    for d in pd.date_range(first_date, next_year_date, freq='YS'):\n",
    "        years_df.loc[len(years_df)] = [str(d.year), row['LATITUDE'], row['LONGITUDE'], altitud_year(d), 'year']"
   ]
  },
  {
   "cell_type": "code",
   "execution_count": 74,
   "metadata": {},
   "outputs": [
    {
     "data": {
      "text/plain": [
       "(0, 5)"
      ]
     },
     "execution_count": 74,
     "metadata": {},
     "output_type": "execute_result"
    }
   ],
   "source": [
    "years_df.shape"
   ]
  },
  {
   "cell_type": "code",
   "execution_count": 75,
   "metadata": {},
   "outputs": [
    {
     "data": {
      "text/html": [
       "<div>\n",
       "<style scoped>\n",
       "    .dataframe tbody tr th:only-of-type {\n",
       "        vertical-align: middle;\n",
       "    }\n",
       "\n",
       "    .dataframe tbody tr th {\n",
       "        vertical-align: top;\n",
       "    }\n",
       "\n",
       "    .dataframe thead th {\n",
       "        text-align: right;\n",
       "    }\n",
       "</style>\n",
       "<table border=\"1\" class=\"dataframe\">\n",
       "  <thead>\n",
       "    <tr style=\"text-align: right;\">\n",
       "      <th></th>\n",
       "      <th>TEXT</th>\n",
       "      <th>LATITUDE</th>\n",
       "      <th>LONGITUDE</th>\n",
       "      <th>ALTITUDE</th>\n",
       "      <th>TYPE</th>\n",
       "    </tr>\n",
       "  </thead>\n",
       "  <tbody>\n",
       "  </tbody>\n",
       "</table>\n",
       "</div>"
      ],
      "text/plain": [
       "Empty DataFrame\n",
       "Columns: [TEXT, LATITUDE, LONGITUDE, ALTITUDE, TYPE]\n",
       "Index: []"
      ]
     },
     "execution_count": 75,
     "metadata": {},
     "output_type": "execute_result"
    }
   ],
   "source": [
    "years_df.head(10)"
   ]
  },
  {
   "cell_type": "code",
   "execution_count": 76,
   "metadata": {},
   "outputs": [],
   "source": [
    "labels_df = pd.concat([cities_df, years_df], ignore_index=True)"
   ]
  },
  {
   "cell_type": "code",
   "execution_count": 77,
   "metadata": {},
   "outputs": [
    {
     "data": {
      "text/plain": [
       "(19, 5)"
      ]
     },
     "execution_count": 77,
     "metadata": {},
     "output_type": "execute_result"
    }
   ],
   "source": [
    "labels_df.shape"
   ]
  },
  {
   "cell_type": "code",
   "execution_count": 78,
   "metadata": {},
   "outputs": [],
   "source": [
    "def format_date(date_str):\n",
    "    return pd.to_datetime(date_str).strftime('%b %d, %Y').replace(' 0', ' ')\n",
    "\n",
    "paths_df = pd.DataFrame(columns=['LATITUDE', 'LONGITUDE', 'ALTITUDE', 'GROUP', 'CITY', 'DATE'])\n",
    "for i, row in itinerary_df.iterrows():\n",
    "    paths_df.loc[i*2, 'LATITUDE'] = row['LATITUDE']\n",
    "    paths_df.loc[i*2, 'LONGITUDE'] = row['LONGITUDE']\n",
    "    paths_df.loc[i*2, 'ALTITUDE'] =  (pd.to_datetime(row['START_DATE']) - first_date).days\n",
    "    paths_df.loc[i*2, 'GROUP'] = row['GROUP']\n",
    "    paths_df.loc[i*2, 'CITY'] = row['CITY']\n",
    "    paths_df.loc[i*2, 'DATE'] = format_date(row['START_DATE'])\n",
    "    paths_df.loc[i*2+1, 'LATITUDE'] = paths_df.loc[i*2, 'LATITUDE']\n",
    "    paths_df.loc[i*2+1, 'LONGITUDE'] = paths_df.loc[i*2, 'LONGITUDE']\n",
    "    paths_df.loc[i*2+1, 'ALTITUDE'] =  (pd.to_datetime(row['END_DATE']) - first_date).days\n",
    "#     paths_df.loc[i*2+1, 'ALTITUDE'] =  paths_df.loc[i*2, 'ALTITUDE'] + row['MAX_NIGHTS']\n",
    "    paths_df.loc[i*2+1, 'GROUP'] = paths_df.loc[i*2, 'GROUP']\n",
    "    paths_df.loc[i*2+1, 'CITY'] = paths_df.loc[i*2, 'CITY']\n",
    "    paths_df.loc[i*2+1, 'DATE'] = format_date(row['END_DATE'])\n",
    "# paths_df['COLOR'] = paths_df['GROUP'].apply(rgb01Hex)"
   ]
  },
  {
   "cell_type": "code",
   "execution_count": 79,
   "metadata": {},
   "outputs": [
    {
     "data": {
      "text/plain": [
       "(44, 6)"
      ]
     },
     "execution_count": 79,
     "metadata": {},
     "output_type": "execute_result"
    }
   ],
   "source": [
    "paths_df.shape"
   ]
  },
  {
   "cell_type": "code",
   "execution_count": 80,
   "metadata": {},
   "outputs": [
    {
     "data": {
      "text/html": [
       "<div>\n",
       "<style scoped>\n",
       "    .dataframe tbody tr th:only-of-type {\n",
       "        vertical-align: middle;\n",
       "    }\n",
       "\n",
       "    .dataframe tbody tr th {\n",
       "        vertical-align: top;\n",
       "    }\n",
       "\n",
       "    .dataframe thead th {\n",
       "        text-align: right;\n",
       "    }\n",
       "</style>\n",
       "<table border=\"1\" class=\"dataframe\">\n",
       "  <thead>\n",
       "    <tr style=\"text-align: right;\">\n",
       "      <th></th>\n",
       "      <th>LATITUDE</th>\n",
       "      <th>LONGITUDE</th>\n",
       "      <th>ALTITUDE</th>\n",
       "      <th>GROUP</th>\n",
       "      <th>CITY</th>\n",
       "      <th>DATE</th>\n",
       "    </tr>\n",
       "  </thead>\n",
       "  <tbody>\n",
       "    <tr>\n",
       "      <th>0</th>\n",
       "      <td>55.953346</td>\n",
       "      <td>-3.188375</td>\n",
       "      <td>0</td>\n",
       "      <td>1</td>\n",
       "      <td>Edinburgh</td>\n",
       "      <td>Sep 1, 1975</td>\n",
       "    </tr>\n",
       "    <tr>\n",
       "      <th>1</th>\n",
       "      <td>55.953346</td>\n",
       "      <td>-3.188375</td>\n",
       "      <td>0</td>\n",
       "      <td>1</td>\n",
       "      <td>Edinburgh</td>\n",
       "      <td>Sep 1, 1975</td>\n",
       "    </tr>\n",
       "    <tr>\n",
       "      <th>2</th>\n",
       "      <td>55.861155</td>\n",
       "      <td>-4.250169</td>\n",
       "      <td>6</td>\n",
       "      <td>1</td>\n",
       "      <td>Glasgow</td>\n",
       "      <td>Sep 7, 1975</td>\n",
       "    </tr>\n",
       "    <tr>\n",
       "      <th>3</th>\n",
       "      <td>55.861155</td>\n",
       "      <td>-4.250169</td>\n",
       "      <td>6</td>\n",
       "      <td>1</td>\n",
       "      <td>Glasgow</td>\n",
       "      <td>Sep 7, 1975</td>\n",
       "    </tr>\n",
       "    <tr>\n",
       "      <th>4</th>\n",
       "      <td>40.416705</td>\n",
       "      <td>-3.703582</td>\n",
       "      <td>15</td>\n",
       "      <td>2</td>\n",
       "      <td>Madrid</td>\n",
       "      <td>Sep 16, 1975</td>\n",
       "    </tr>\n",
       "  </tbody>\n",
       "</table>\n",
       "</div>"
      ],
      "text/plain": [
       "    LATITUDE LONGITUDE ALTITUDE GROUP       CITY          DATE\n",
       "0  55.953346 -3.188375        0     1  Edinburgh   Sep 1, 1975\n",
       "1  55.953346 -3.188375        0     1  Edinburgh   Sep 1, 1975\n",
       "2  55.861155 -4.250169        6     1    Glasgow   Sep 7, 1975\n",
       "3  55.861155 -4.250169        6     1    Glasgow   Sep 7, 1975\n",
       "4  40.416705 -3.703582       15     2     Madrid  Sep 16, 1975"
      ]
     },
     "execution_count": 80,
     "metadata": {},
     "output_type": "execute_result"
    }
   ],
   "source": [
    "paths_df.head()"
   ]
  },
  {
   "cell_type": "code",
   "execution_count": 81,
   "metadata": {},
   "outputs": [
    {
     "data": {
      "text/html": [
       "<div>\n",
       "<style scoped>\n",
       "    .dataframe tbody tr th:only-of-type {\n",
       "        vertical-align: middle;\n",
       "    }\n",
       "\n",
       "    .dataframe tbody tr th {\n",
       "        vertical-align: top;\n",
       "    }\n",
       "\n",
       "    .dataframe thead th {\n",
       "        text-align: right;\n",
       "    }\n",
       "</style>\n",
       "<table border=\"1\" class=\"dataframe\">\n",
       "  <thead>\n",
       "    <tr style=\"text-align: right;\">\n",
       "      <th></th>\n",
       "      <th>LATITUDE</th>\n",
       "      <th>LONGITUDE</th>\n",
       "      <th>ALTITUDE</th>\n",
       "      <th>GROUP</th>\n",
       "      <th>CITY</th>\n",
       "      <th>DATE</th>\n",
       "    </tr>\n",
       "  </thead>\n",
       "  <tbody>\n",
       "    <tr>\n",
       "      <th>39</th>\n",
       "      <td>51.507446</td>\n",
       "      <td>-0.127765</td>\n",
       "      <td>121</td>\n",
       "      <td>6</td>\n",
       "      <td>London</td>\n",
       "      <td>Dec 31, 1975</td>\n",
       "    </tr>\n",
       "    <tr>\n",
       "      <th>40</th>\n",
       "      <td>48.85889</td>\n",
       "      <td>2.320041</td>\n",
       "      <td>133</td>\n",
       "      <td>7</td>\n",
       "      <td>Paris</td>\n",
       "      <td>Jan 12, 1976</td>\n",
       "    </tr>\n",
       "    <tr>\n",
       "      <th>41</th>\n",
       "      <td>48.85889</td>\n",
       "      <td>2.320041</td>\n",
       "      <td>133</td>\n",
       "      <td>7</td>\n",
       "      <td>Paris</td>\n",
       "      <td>Jan 12, 1976</td>\n",
       "    </tr>\n",
       "    <tr>\n",
       "      <th>42</th>\n",
       "      <td>34.053691</td>\n",
       "      <td>-118.242766</td>\n",
       "      <td>167</td>\n",
       "      <td>8</td>\n",
       "      <td>Los Angeles</td>\n",
       "      <td>Feb 15, 1976</td>\n",
       "    </tr>\n",
       "    <tr>\n",
       "      <th>43</th>\n",
       "      <td>34.053691</td>\n",
       "      <td>-118.242766</td>\n",
       "      <td>167</td>\n",
       "      <td>8</td>\n",
       "      <td>Los Angeles</td>\n",
       "      <td>Feb 15, 1976</td>\n",
       "    </tr>\n",
       "  </tbody>\n",
       "</table>\n",
       "</div>"
      ],
      "text/plain": [
       "     LATITUDE   LONGITUDE ALTITUDE GROUP         CITY          DATE\n",
       "39  51.507446   -0.127765      121     6       London  Dec 31, 1975\n",
       "40   48.85889    2.320041      133     7        Paris  Jan 12, 1976\n",
       "41   48.85889    2.320041      133     7        Paris  Jan 12, 1976\n",
       "42  34.053691 -118.242766      167     8  Los Angeles  Feb 15, 1976\n",
       "43  34.053691 -118.242766      167     8  Los Angeles  Feb 15, 1976"
      ]
     },
     "execution_count": 81,
     "metadata": {},
     "output_type": "execute_result"
    }
   ],
   "source": [
    "paths_df.tail()"
   ]
  },
  {
   "cell_type": "code",
   "execution_count": 82,
   "metadata": {},
   "outputs": [],
   "source": [
    "total_lines = len(paths_df) - 1"
   ]
  },
  {
   "cell_type": "code",
   "execution_count": 83,
   "metadata": {},
   "outputs": [
    {
     "data": {
      "text/plain": [
       "43"
      ]
     },
     "execution_count": 83,
     "metadata": {},
     "output_type": "execute_result"
    }
   ],
   "source": [
    "total_lines"
   ]
  },
  {
   "cell_type": "code",
   "execution_count": 84,
   "metadata": {},
   "outputs": [],
   "source": [
    "N = 300"
   ]
  },
  {
   "cell_type": "code",
   "execution_count": 85,
   "metadata": {},
   "outputs": [
    {
     "data": {
      "image/png": "[encoded data removed]",
      "text/plain": [
       "<Figure size 300x100 with 1 Axes>"
      ]
     },
     "metadata": {},
     "output_type": "display_data"
    }
   ],
   "source": [
    "# Color 1\n",
    "palette1 = sns.color_palette('YlOrRd', n_colors=total_lines+N*2)[N:-N]\n",
    "# sns.palplot(palette1)\n",
    "sns.palplot([palette1[0], palette1[len(palette1)//2], palette1[-1]])"
   ]
  },
  {
   "cell_type": "code",
   "execution_count": 86,
   "metadata": {},
   "outputs": [
    {
     "data": {
      "image/png": "[encoded data removed]",
      "text/plain": [
       "<Figure size 300x100 with 1 Axes>"
      ]
     },
     "metadata": {},
     "output_type": "display_data"
    }
   ],
   "source": [
    "# Color 1R\n",
    "palette1r = sns.color_palette('YlOrRd', n_colors=total_lines+N*2)[-N:N:-1]\n",
    "# sns.palplot(palette1)\n",
    "sns.palplot([palette1[0], palette1[len(palette1)//2], palette1[-1]])"
   ]
  },
  {
   "cell_type": "code",
   "execution_count": 87,
   "metadata": {},
   "outputs": [
    {
     "data": {
      "image/png": "[encoded data removed]",
      "text/plain": [
       "<Figure size 300x100 with 1 Axes>"
      ]
     },
     "metadata": {},
     "output_type": "display_data"
    }
   ],
   "source": [
    "# Color 2\n",
    "palette2 = sns.color_palette('Blues', n_colors=total_lines+N*2)[N:-N]\n",
    "# sns.palplot(palette2)\n",
    "sns.palplot([palette2[0], palette2[len(palette2)//2], palette2[-1]])"
   ]
  },
  {
   "cell_type": "code",
   "execution_count": 88,
   "metadata": {},
   "outputs": [
    {
     "data": {
      "image/png": "[encoded data removed]",
      "text/plain": [
       "<Figure size 300x100 with 1 Axes>"
      ]
     },
     "metadata": {},
     "output_type": "display_data"
    }
   ],
   "source": [
    "# Color 3\n",
    "palette3 = sns.color_palette('BuPu', n_colors=total_lines+N*2)[N:-N]\n",
    "# sns.palplot(palette3)\n",
    "sns.palplot([palette3[0], palette3[len(palette3)//2], palette3[-1]])"
   ]
  },
  {
   "cell_type": "code",
   "execution_count": 89,
   "metadata": {},
   "outputs": [
    {
     "data": {
      "image/png": "[encoded data removed]",
      "text/plain": [
       "<Figure size 300x100 with 1 Axes>"
      ]
     },
     "metadata": {},
     "output_type": "display_data"
    }
   ],
   "source": [
    "# Color 4\n",
    "palette4 = sns.color_palette('GnBu', n_colors=total_lines+N*2)[N:-N]\n",
    "# sns.palplot(palette4)\n",
    "sns.palplot([palette4[0], palette4[len(palette4)//2], palette4[-1]])"
   ]
  },
  {
   "cell_type": "code",
   "execution_count": 90,
   "metadata": {},
   "outputs": [],
   "source": [
    "def rgb01Hex(n, palette):\n",
    "    c = palette[n]\n",
    "    r = int(round(c[0] * 255))\n",
    "    g = int(round(c[1] * 255))\n",
    "    b = int(round(c[2] * 255))\n",
    "    h = '#%02x%02x%02x' % (r, g, b)\n",
    "    return h"
   ]
  },
  {
   "cell_type": "code",
   "execution_count": 91,
   "metadata": {},
   "outputs": [],
   "source": [
    "path_colors_df = pd.DataFrame(columns=[\n",
    "    'CITY1', 'CITY2', 'HEXCODE1', 'HEXCODE1R', 'HEXCODE2', 'HEXCODE3', 'HEXCODE4',\n",
    "])\n",
    "prev_g = paths_df.GROUP[0]\n",
    "for curr_g in paths_df.GROUP[1:]:\n",
    "    i = len(path_colors_df)\n",
    "    if curr_g == prev_g:\n",
    "        path_colors_df.loc[i] = [\n",
    "            paths_df.loc[i, 'CITY'],\n",
    "            paths_df.loc[i+1, 'CITY'],\n",
    "            rgb01Hex(i, palette1),\n",
    "            rgb01Hex(i, palette1r),\n",
    "            rgb01Hex(i, palette2),\n",
    "            rgb01Hex(i, palette3),\n",
    "            rgb01Hex(i, palette4),\n",
    "        ]\n",
    "    else:\n",
    "        path_colors_df.loc[i] = [\n",
    "            paths_df.loc[i, 'CITY'],\n",
    "            paths_df.loc[i+1, 'CITY'],\n",
    "            'grey', 'grey', 'grey', 'grey', 'grey',\n",
    "        ]\n",
    "    prev_g = curr_g"
   ]
  },
  {
   "cell_type": "code",
   "execution_count": 92,
   "metadata": {},
   "outputs": [
    {
     "data": {
      "text/plain": [
       "(43, 7)"
      ]
     },
     "execution_count": 92,
     "metadata": {},
     "output_type": "execute_result"
    }
   ],
   "source": [
    "path_colors_df.shape"
   ]
  },
  {
   "cell_type": "code",
   "execution_count": 93,
   "metadata": {
    "scrolled": false
   },
   "outputs": [
    {
     "data": {
      "text/html": [
       "<div>\n",
       "<style scoped>\n",
       "    .dataframe tbody tr th:only-of-type {\n",
       "        vertical-align: middle;\n",
       "    }\n",
       "\n",
       "    .dataframe tbody tr th {\n",
       "        vertical-align: top;\n",
       "    }\n",
       "\n",
       "    .dataframe thead th {\n",
       "        text-align: right;\n",
       "    }\n",
       "</style>\n",
       "<table border=\"1\" class=\"dataframe\">\n",
       "  <thead>\n",
       "    <tr style=\"text-align: right;\">\n",
       "      <th></th>\n",
       "      <th>CITY1</th>\n",
       "      <th>CITY2</th>\n",
       "      <th>HEXCODE1</th>\n",
       "      <th>HEXCODE1R</th>\n",
       "      <th>HEXCODE2</th>\n",
       "      <th>HEXCODE3</th>\n",
       "      <th>HEXCODE4</th>\n",
       "    </tr>\n",
       "  </thead>\n",
       "  <tbody>\n",
       "    <tr>\n",
       "      <th>0</th>\n",
       "      <td>Edinburgh</td>\n",
       "      <td>Edinburgh</td>\n",
       "      <td>#fd9740</td>\n",
       "      <td>#fd7c37</td>\n",
       "      <td>#79b5d9</td>\n",
       "      <td>#91a0cb</td>\n",
       "      <td>#87d1c0</td>\n",
       "    </tr>\n",
       "    <tr>\n",
       "      <th>1</th>\n",
       "      <td>Edinburgh</td>\n",
       "      <td>Glasgow</td>\n",
       "      <td>#fd9640</td>\n",
       "      <td>#fd7c37</td>\n",
       "      <td>#77b5d9</td>\n",
       "      <td>#909fcb</td>\n",
       "      <td>#86d0c0</td>\n",
       "    </tr>\n",
       "    <tr>\n",
       "      <th>2</th>\n",
       "      <td>Glasgow</td>\n",
       "      <td>Glasgow</td>\n",
       "      <td>#fd9640</td>\n",
       "      <td>#fd7e38</td>\n",
       "      <td>#77b5d9</td>\n",
       "      <td>#909fcb</td>\n",
       "      <td>#86d0c0</td>\n",
       "    </tr>\n",
       "    <tr>\n",
       "      <th>3</th>\n",
       "      <td>Glasgow</td>\n",
       "      <td>Madrid</td>\n",
       "      <td>grey</td>\n",
       "      <td>grey</td>\n",
       "      <td>grey</td>\n",
       "      <td>grey</td>\n",
       "      <td>grey</td>\n",
       "    </tr>\n",
       "    <tr>\n",
       "      <th>4</th>\n",
       "      <td>Madrid</td>\n",
       "      <td>Madrid</td>\n",
       "      <td>#fd953f</td>\n",
       "      <td>#fd7e38</td>\n",
       "      <td>#75b4d8</td>\n",
       "      <td>#909eca</td>\n",
       "      <td>#84cfc1</td>\n",
       "    </tr>\n",
       "  </tbody>\n",
       "</table>\n",
       "</div>"
      ],
      "text/plain": [
       "       CITY1      CITY2 HEXCODE1 HEXCODE1R HEXCODE2 HEXCODE3 HEXCODE4\n",
       "0  Edinburgh  Edinburgh  #fd9740   #fd7c37  #79b5d9  #91a0cb  #87d1c0\n",
       "1  Edinburgh    Glasgow  #fd9640   #fd7c37  #77b5d9  #909fcb  #86d0c0\n",
       "2    Glasgow    Glasgow  #fd9640   #fd7e38  #77b5d9  #909fcb  #86d0c0\n",
       "3    Glasgow     Madrid     grey      grey     grey     grey     grey\n",
       "4     Madrid     Madrid  #fd953f   #fd7e38  #75b4d8  #909eca  #84cfc1"
      ]
     },
     "execution_count": 93,
     "metadata": {},
     "output_type": "execute_result"
    }
   ],
   "source": [
    "path_colors_df.head()"
   ]
  },
  {
   "cell_type": "code",
   "execution_count": 94,
   "metadata": {},
   "outputs": [
    {
     "data": {
      "text/html": [
       "<div>\n",
       "<style scoped>\n",
       "    .dataframe tbody tr th:only-of-type {\n",
       "        vertical-align: middle;\n",
       "    }\n",
       "\n",
       "    .dataframe tbody tr th {\n",
       "        vertical-align: top;\n",
       "    }\n",
       "\n",
       "    .dataframe thead th {\n",
       "        text-align: right;\n",
       "    }\n",
       "</style>\n",
       "<table border=\"1\" class=\"dataframe\">\n",
       "  <thead>\n",
       "    <tr style=\"text-align: right;\">\n",
       "      <th></th>\n",
       "      <th>CITY1</th>\n",
       "      <th>CITY2</th>\n",
       "      <th>HEXCODE1</th>\n",
       "      <th>HEXCODE1R</th>\n",
       "      <th>HEXCODE2</th>\n",
       "      <th>HEXCODE3</th>\n",
       "      <th>HEXCODE4</th>\n",
       "    </tr>\n",
       "  </thead>\n",
       "  <tbody>\n",
       "    <tr>\n",
       "      <th>38</th>\n",
       "      <td>London</td>\n",
       "      <td>London</td>\n",
       "      <td>#fd8038</td>\n",
       "      <td>#fd953f</td>\n",
       "      <td>#63a8d3</td>\n",
       "      <td>#8c8dc2</td>\n",
       "      <td>#72c7c7</td>\n",
       "    </tr>\n",
       "    <tr>\n",
       "      <th>39</th>\n",
       "      <td>London</td>\n",
       "      <td>Paris</td>\n",
       "      <td>grey</td>\n",
       "      <td>grey</td>\n",
       "      <td>grey</td>\n",
       "      <td>grey</td>\n",
       "      <td>grey</td>\n",
       "    </tr>\n",
       "    <tr>\n",
       "      <th>40</th>\n",
       "      <td>Paris</td>\n",
       "      <td>Paris</td>\n",
       "      <td>#fd7e38</td>\n",
       "      <td>#fd9640</td>\n",
       "      <td>#61a7d2</td>\n",
       "      <td>#8c8cc1</td>\n",
       "      <td>#70c6c8</td>\n",
       "    </tr>\n",
       "    <tr>\n",
       "      <th>41</th>\n",
       "      <td>Paris</td>\n",
       "      <td>Los Angeles</td>\n",
       "      <td>grey</td>\n",
       "      <td>grey</td>\n",
       "      <td>grey</td>\n",
       "      <td>grey</td>\n",
       "      <td>grey</td>\n",
       "    </tr>\n",
       "    <tr>\n",
       "      <th>42</th>\n",
       "      <td>Los Angeles</td>\n",
       "      <td>Los Angeles</td>\n",
       "      <td>#fd7c37</td>\n",
       "      <td>#fd9640</td>\n",
       "      <td>#60a7d2</td>\n",
       "      <td>#8c8bc0</td>\n",
       "      <td>#6fc5c8</td>\n",
       "    </tr>\n",
       "  </tbody>\n",
       "</table>\n",
       "</div>"
      ],
      "text/plain": [
       "          CITY1        CITY2 HEXCODE1 HEXCODE1R HEXCODE2 HEXCODE3 HEXCODE4\n",
       "38       London       London  #fd8038   #fd953f  #63a8d3  #8c8dc2  #72c7c7\n",
       "39       London        Paris     grey      grey     grey     grey     grey\n",
       "40        Paris        Paris  #fd7e38   #fd9640  #61a7d2  #8c8cc1  #70c6c8\n",
       "41        Paris  Los Angeles     grey      grey     grey     grey     grey\n",
       "42  Los Angeles  Los Angeles  #fd7c37   #fd9640  #60a7d2  #8c8bc0  #6fc5c8"
      ]
     },
     "execution_count": 94,
     "metadata": {},
     "output_type": "execute_result"
    }
   ],
   "source": [
    "path_colors_df.tail()"
   ]
  },
  {
   "cell_type": "code",
   "execution_count": 95,
   "metadata": {},
   "outputs": [],
   "source": [
    "# sns.palplot(path_colors_df.HEXCODE1)"
   ]
  },
  {
   "cell_type": "code",
   "execution_count": 96,
   "metadata": {},
   "outputs": [],
   "source": [
    "# sns.palplot(path_colors_df.HEXCODE1R)"
   ]
  },
  {
   "cell_type": "code",
   "execution_count": 97,
   "metadata": {},
   "outputs": [],
   "source": [
    "# sns.palplot(path_colors_df.HEXCODE2)"
   ]
  },
  {
   "cell_type": "code",
   "execution_count": 98,
   "metadata": {},
   "outputs": [],
   "source": [
    "# sns.palplot(path_colors_df.HEXCODE3)"
   ]
  },
  {
   "cell_type": "code",
   "execution_count": 99,
   "metadata": {},
   "outputs": [],
   "source": [
    "# sns.palplot(path_colors_df.HEXCODE4)"
   ]
  },
  {
   "cell_type": "markdown",
   "metadata": {},
   "source": [
    "## Saving data"
   ]
  },
  {
   "cell_type": "code",
   "execution_count": 100,
   "metadata": {},
   "outputs": [],
   "source": [
    "points_df.to_csv('web/data/points4760.csv', index=False)\n",
    "labels_df.to_csv('web/data/labels4760.csv', index=False)\n",
    "paths_df.to_csv('web/data/paths4760.csv', index=False)\n",
    "path_colors_df.to_csv('web/data/path_colors4760.csv', index=False)"
   ]
  },
  {
   "cell_type": "code",
   "execution_count": null,
   "metadata": {},
   "outputs": [],
   "source": []
  },
  {
   "cell_type": "code",
   "execution_count": null,
   "metadata": {},
   "outputs": [],
   "source": []
  },
  {
   "cell_type": "code",
   "execution_count": null,
   "metadata": {},
   "outputs": [],
   "source": []
  },
  {
   "cell_type": "code",
   "execution_count": null,
   "metadata": {},
   "outputs": [],
   "source": []
  }
 ],
 "metadata": {
  "kernelspec": {
   "display_name": "Python 3 (ipykernel)",
   "language": "python",
   "name": "python3"
  },
  "language_info": {
   "codemirror_mode": {
    "name": "ipython",
    "version": 3
   },
   "file_extension": ".py",
   "mimetype": "text/x-python",
   "name": "python",
   "nbconvert_exporter": "python",
   "pygments_lexer": "ipython3",
   "version": "3.12.8"
  }
 },
 "nbformat": 4,
 "nbformat_minor": 2
}
